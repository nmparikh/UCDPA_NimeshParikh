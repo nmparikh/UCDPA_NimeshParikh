{
 "cells": [
  {
   "cell_type": "markdown",
   "id": "a6757326",
   "metadata": {},
   "source": [
    "# EDA & Prediction on Data Of India General Election 2019 \n",
    "Data Source: (https://www.kaggle.com/datasets/prakrutchauhan/indian-candidates-for-general-election-2019)\n",
    "\n"
   ]
  },
  {
   "cell_type": "markdown",
   "id": "d57df7d6",
   "metadata": {},
   "source": [
    "### Installing required Python lib..."
   ]
  },
  {
   "cell_type": "code",
   "execution_count": 1,
   "id": "febc2d20",
   "metadata": {},
   "outputs": [
    {
     "name": "stdout",
     "output_type": "stream",
     "text": [
      "Requirement already satisfied: numpy in c:\\users\\nimesh\\anaconda3\\lib\\site-packages (1.21.5)\n",
      "Requirement already satisfied: pandas in c:\\users\\nimesh\\anaconda3\\lib\\site-packages (1.4.2)\n",
      "Requirement already satisfied: python-dateutil>=2.8.1 in c:\\users\\nimesh\\anaconda3\\lib\\site-packages (from pandas) (2.8.2)\n",
      "Requirement already satisfied: numpy>=1.18.5 in c:\\users\\nimesh\\anaconda3\\lib\\site-packages (from pandas) (1.21.5)\n",
      "Requirement already satisfied: pytz>=2020.1 in c:\\users\\nimesh\\anaconda3\\lib\\site-packages (from pandas) (2021.3)\n",
      "Requirement already satisfied: six>=1.5 in c:\\users\\nimesh\\anaconda3\\lib\\site-packages (from python-dateutil>=2.8.1->pandas) (1.16.0)\n"
     ]
    }
   ],
   "source": [
    "!pip install numpy\n",
    "!pip install pandas"
   ]
  },
  {
   "cell_type": "code",
   "execution_count": 2,
   "id": "e92861b5",
   "metadata": {},
   "outputs": [
    {
     "name": "stdout",
     "output_type": "stream",
     "text": [
      "Requirement already satisfied: matplotlib in c:\\users\\nimesh\\anaconda3\\lib\\site-packages (3.5.1)\n",
      "Requirement already satisfied: packaging>=20.0 in c:\\users\\nimesh\\anaconda3\\lib\\site-packages (from matplotlib) (21.3)\n",
      "Requirement already satisfied: fonttools>=4.22.0 in c:\\users\\nimesh\\anaconda3\\lib\\site-packages (from matplotlib) (4.25.0)\n",
      "Requirement already satisfied: kiwisolver>=1.0.1 in c:\\users\\nimesh\\anaconda3\\lib\\site-packages (from matplotlib) (1.3.2)\n",
      "Requirement already satisfied: pillow>=6.2.0 in c:\\users\\nimesh\\anaconda3\\lib\\site-packages (from matplotlib) (9.0.1)\n",
      "Requirement already satisfied: pyparsing>=2.2.1 in c:\\users\\nimesh\\anaconda3\\lib\\site-packages (from matplotlib) (3.0.4)\n",
      "Requirement already satisfied: python-dateutil>=2.7 in c:\\users\\nimesh\\anaconda3\\lib\\site-packages (from matplotlib) (2.8.2)\n",
      "Requirement already satisfied: cycler>=0.10 in c:\\users\\nimesh\\anaconda3\\lib\\site-packages (from matplotlib) (0.11.0)\n",
      "Requirement already satisfied: numpy>=1.17 in c:\\users\\nimesh\\anaconda3\\lib\\site-packages (from matplotlib) (1.21.5)\n",
      "Requirement already satisfied: six>=1.5 in c:\\users\\nimesh\\anaconda3\\lib\\site-packages (from python-dateutil>=2.7->matplotlib) (1.16.0)\n",
      "Requirement already satisfied: seaborn in c:\\users\\nimesh\\anaconda3\\lib\\site-packages (0.11.2)\n",
      "Requirement already satisfied: pandas>=0.23 in c:\\users\\nimesh\\anaconda3\\lib\\site-packages (from seaborn) (1.4.2)\n",
      "Requirement already satisfied: matplotlib>=2.2 in c:\\users\\nimesh\\anaconda3\\lib\\site-packages (from seaborn) (3.5.1)\n",
      "Requirement already satisfied: scipy>=1.0 in c:\\users\\nimesh\\anaconda3\\lib\\site-packages (from seaborn) (1.7.3)\n",
      "Requirement already satisfied: numpy>=1.15 in c:\\users\\nimesh\\anaconda3\\lib\\site-packages (from seaborn) (1.21.5)\n",
      "Requirement already satisfied: pyparsing>=2.2.1 in c:\\users\\nimesh\\anaconda3\\lib\\site-packages (from matplotlib>=2.2->seaborn) (3.0.4)\n",
      "Requirement already satisfied: packaging>=20.0 in c:\\users\\nimesh\\anaconda3\\lib\\site-packages (from matplotlib>=2.2->seaborn) (21.3)\n",
      "Requirement already satisfied: kiwisolver>=1.0.1 in c:\\users\\nimesh\\anaconda3\\lib\\site-packages (from matplotlib>=2.2->seaborn) (1.3.2)\n",
      "Requirement already satisfied: pillow>=6.2.0 in c:\\users\\nimesh\\anaconda3\\lib\\site-packages (from matplotlib>=2.2->seaborn) (9.0.1)\n",
      "Requirement already satisfied: cycler>=0.10 in c:\\users\\nimesh\\anaconda3\\lib\\site-packages (from matplotlib>=2.2->seaborn) (0.11.0)\n",
      "Requirement already satisfied: python-dateutil>=2.7 in c:\\users\\nimesh\\anaconda3\\lib\\site-packages (from matplotlib>=2.2->seaborn) (2.8.2)\n",
      "Requirement already satisfied: fonttools>=4.22.0 in c:\\users\\nimesh\\anaconda3\\lib\\site-packages (from matplotlib>=2.2->seaborn) (4.25.0)\n",
      "Requirement already satisfied: pytz>=2020.1 in c:\\users\\nimesh\\anaconda3\\lib\\site-packages (from pandas>=0.23->seaborn) (2021.3)\n",
      "Requirement already satisfied: six>=1.5 in c:\\users\\nimesh\\anaconda3\\lib\\site-packages (from python-dateutil>=2.7->matplotlib>=2.2->seaborn) (1.16.0)\n",
      "Requirement already satisfied: plotly in c:\\users\\nimesh\\anaconda3\\lib\\site-packages (5.6.0)\n",
      "Requirement already satisfied: tenacity>=6.2.0 in c:\\users\\nimesh\\anaconda3\\lib\\site-packages (from plotly) (8.0.1)\n",
      "Requirement already satisfied: six in c:\\users\\nimesh\\anaconda3\\lib\\site-packages (from plotly) (1.16.0)\n"
     ]
    }
   ],
   "source": [
    "!pip install matplotlib\n",
    "!pip install seaborn\n",
    "!pip install plotly"
   ]
  },
  {
   "cell_type": "code",
   "execution_count": 4,
   "id": "9414f4ae",
   "metadata": {},
   "outputs": [
    {
     "name": "stdout",
     "output_type": "stream",
     "text": [
      "Requirement already satisfied: sklearn in c:\\users\\nimesh\\anaconda3\\lib\\site-packages (0.0)\n",
      "Requirement already satisfied: scikit-learn in c:\\users\\nimesh\\anaconda3\\lib\\site-packages (from sklearn) (1.0.2)\n",
      "Requirement already satisfied: threadpoolctl>=2.0.0 in c:\\users\\nimesh\\anaconda3\\lib\\site-packages (from scikit-learn->sklearn) (2.2.0)\n",
      "Requirement already satisfied: scipy>=1.1.0 in c:\\users\\nimesh\\anaconda3\\lib\\site-packages (from scikit-learn->sklearn) (1.7.3)\n",
      "Requirement already satisfied: joblib>=0.11 in c:\\users\\nimesh\\anaconda3\\lib\\site-packages (from scikit-learn->sklearn) (1.1.0)\n",
      "Requirement already satisfied: numpy>=1.14.6 in c:\\users\\nimesh\\anaconda3\\lib\\site-packages (from scikit-learn->sklearn) (1.21.5)\n",
      "Collecting xgboost\n",
      "  Downloading xgboost-1.6.2-py3-none-win_amd64.whl (125.4 MB)\n",
      "Requirement already satisfied: numpy in c:\\users\\nimesh\\anaconda3\\lib\\site-packages (from xgboost) (1.21.5)\n",
      "Requirement already satisfied: scipy in c:\\users\\nimesh\\anaconda3\\lib\\site-packages (from xgboost) (1.7.3)\n",
      "Installing collected packages: xgboost\n",
      "Successfully installed xgboost-1.6.2\n"
     ]
    }
   ],
   "source": [
    "!pip install sklearn\n",
    "!pip install xgboost"
   ]
  },
  {
   "cell_type": "markdown",
   "id": "e9340ec0",
   "metadata": {},
   "source": [
    "### Importing required lib..."
   ]
  },
  {
   "cell_type": "code",
   "execution_count": null,
   "id": "2e46388f",
   "metadata": {},
   "outputs": [],
   "source": [
    "import sklearn as skl\n",
    "import numpy as np\n",
    "import pandas as pd\n",
    "import matplotlib.pyplot as plt\n",
    "import seaborn as sns\n",
    "import re\n",
    "\n",
    "from plotly.offline import init_notebook_mode, iplot \n",
    "import plotly.graph_objects as go\n",
    "import plotly.offline as py\n",
    "import plotly.express as px\n",
    "\n",
    "py.init_notebook_mode(connected=True)\n",
    "sns.set()\n",
    "\n",
    "# Import for scaling the data\n",
    "#from sklearn.preprocessing import MinMaxScaler, OrdinalEncoder, LabelEncoder\n",
    "\n",
    "# Import model evaluation metrics\n",
    "#from sklearn.metrics import classification_report, confusion_matrix, plot_roc_curve\n",
    "#from sklearn.metrics import accuracy_score, precision_score, recall_score, f1_score\n",
    "#from sklearn.model_selection import train_test_split, cross_val_score\n",
    "#from sklearn.model_selection import RandomizedSearchCV, GridSearchCV\n",
    "\n",
    "# Plot should appear inside the jupyter notebook\n",
    "%matplotlib inline\n"
   ]
  },
  {
   "cell_type": "markdown",
   "id": "5d49c548",
   "metadata": {},
   "source": [
    "### 1.0) Importing & Analysing Data "
   ]
  },
  {
   "cell_type": "code",
   "execution_count": null,
   "id": "f576e71c",
   "metadata": {},
   "outputs": [],
   "source": [
    "df_elec = pd.read_csv(\"Dataset/IndianElections/LS_2.0.csv\")\n",
    "df_elec.head()"
   ]
  },
  {
   "cell_type": "code",
   "execution_count": null,
   "id": "74510e79",
   "metadata": {},
   "outputs": [],
   "source": [
    "df_elec.columns"
   ]
  },
  {
   "cell_type": "code",
   "execution_count": null,
   "id": "09e21210",
   "metadata": {},
   "outputs": [],
   "source": [
    "#Rename columns\n",
    "df_elec = df_elec.rename(columns={\"CRIMINAL\\nCASES\": \"criminal_cases\", \"GENERAL\\nVOTES\": \"general_votes\",\"POSTAL\\nVOTES\":\"postal_votes\",\"TOTAL\\nVOTES\":\"total_votes\"\n",
    "                                 ,\"OVER TOTAL ELECTORS \\nIN CONSTITUENCY\":\"pct_over_total_electors_in_const\"\n",
    "                                 ,\"OVER TOTAL VOTES POLLED \\nIN CONSTITUENCY\":\"pct_over_total_vote_poll_in_const\"})\n",
    "df_elec.info()"
   ]
  },
  {
   "cell_type": "code",
   "execution_count": null,
   "id": "c4e57ad7",
   "metadata": {},
   "outputs": [],
   "source": [
    "df_elec.isnull().sum()"
   ]
  },
  {
   "cell_type": "markdown",
   "id": "376e542d",
   "metadata": {},
   "source": [
    "==> After Looking at columns, we can see there about 245 rows has NULL values in 8 columns. We will have to understand if there are any pattern"
   ]
  },
  {
   "cell_type": "code",
   "execution_count": null,
   "id": "713a5a28",
   "metadata": {},
   "outputs": [],
   "source": [
    "#understand where Symbol is not present\n",
    "df_elec[df_elec.SYMBOL.isnull()==True]['NAME'].unique()"
   ]
  },
  {
   "cell_type": "markdown",
   "id": "f7c2f36d",
   "metadata": {},
   "source": [
    "==> NOTA is obption where voter has right to use there vote but in case if s/he do not like any candidate from the list, they can put their vote in NOTA (None of The Above)\n",
    "\n",
    "Since this is NOTA, You wont see details about candidate like Asset, Gender, Age, Education etc."
   ]
  },
  {
   "cell_type": "code",
   "execution_count": null,
   "id": "d6c9a89b",
   "metadata": {},
   "outputs": [],
   "source": [
    "#This shows Symbol is NULL where there is NOTA - Let's Replace \n",
    "df_elec.loc[df_elec.NAME=='NOTA','SYMBOL'] = 'NoNoNo'"
   ]
  },
  {
   "cell_type": "code",
   "execution_count": null,
   "id": "800dc118",
   "metadata": {},
   "outputs": [],
   "source": [
    "df_elec.loc[df_elec.NAME=='NOTA','SYMBOL']"
   ]
  },
  {
   "cell_type": "code",
   "execution_count": null,
   "id": "7a510a40",
   "metadata": {},
   "outputs": [],
   "source": [
    "df_elec[df_elec.NAME=='NOTA']"
   ]
  },
  {
   "cell_type": "code",
   "execution_count": null,
   "id": "2f647f1a",
   "metadata": {},
   "outputs": [],
   "source": [
    "df_elec[df_elec.NAME!='NOTA']"
   ]
  },
  {
   "cell_type": "code",
   "execution_count": null,
   "id": "99ac5f3f",
   "metadata": {},
   "outputs": [],
   "source": [
    "#It seems whereever there is NOTA, Values are blank - Let's Fix them where possible\n",
    "df_elec.loc[df_elec.NAME=='NOTA','GENDER'] = 'N/A'\n",
    "df_elec.loc[df_elec.NAME=='NOTA','criminal_cases'] = 0\n",
    "df_elec.loc[df_elec.NAME=='NOTA','AGE'] = 0\n",
    "df_elec.loc[df_elec.NAME=='NOTA','CATEGORY'] = 'N/A'\n",
    "df_elec.loc[df_elec.NAME=='NOTA','EDUCATION'] = 'N/A'\n",
    "df_elec.loc[df_elec.NAME=='NOTA','ASSETS'] = 0\n",
    "df_elec.loc[df_elec.NAME=='NOTA','LIABILITIES'] = 0\n",
    "df_elec[df_elec.NAME=='NOTA']"
   ]
  },
  {
   "cell_type": "code",
   "execution_count": null,
   "id": "b4aad260",
   "metadata": {},
   "outputs": [],
   "source": [
    "df_elec.info()"
   ]
  },
  {
   "cell_type": "code",
   "execution_count": null,
   "id": "f065fb87",
   "metadata": {},
   "outputs": [],
   "source": [
    "df_elec.isnull().sum()"
   ]
  },
  {
   "cell_type": "code",
   "execution_count": null,
   "id": "7c52a3fe",
   "metadata": {},
   "outputs": [],
   "source": [
    "df_elec"
   ]
  },
  {
   "cell_type": "markdown",
   "id": "4b6cf946",
   "metadata": {},
   "source": [
    "### Use of Function & RegEx"
   ]
  },
  {
   "cell_type": "code",
   "execution_count": null,
   "id": "aee4c0fa",
   "metadata": {},
   "outputs": [],
   "source": [
    "# Let's clear the Asset & Liabilities data\n",
    "# Remove Rs , \\n and text\n",
    "# Should only contain number\n",
    "# Rs 1,28,78,51,556\\n ~ 128 Crore+ => 1287851556\n",
    "#\n",
    "\n",
    "def clean_data(x):\n",
    "    try:\n",
    "        str_temp = re.sub(r\"\\D\",\"\",(x.split('\\n')[0].strip()))\n",
    "        #You can replace non digit chars => x.split('Rs')[1].split('\\n')[0].strip()).replace(',','')\n",
    "        return int(str_temp)\n",
    "    except:\n",
    "        x = 0\n",
    "        return x\n",
    "    \n",
    "clean_data(\"Rs 1,28,78,51,556\\n ~ 128 Crore+\")"
   ]
  },
  {
   "cell_type": "code",
   "execution_count": null,
   "id": "a6e87a26",
   "metadata": {},
   "outputs": [],
   "source": [
    "df_elec['ASSETS'] = df_elec['ASSETS'].apply((clean_data))\n",
    "df_elec['LIABILITIES'] = df_elec['LIABILITIES'].apply((clean_data))\n",
    "df_elec.head()"
   ]
  },
  {
   "cell_type": "code",
   "execution_count": null,
   "id": "64f1e44a",
   "metadata": {},
   "outputs": [],
   "source": [
    "#Let's understand Education data\n",
    "df_elec['EDUCATION'].unique()"
   ]
  },
  {
   "cell_type": "code",
   "execution_count": null,
   "id": "420e9bfb",
   "metadata": {},
   "outputs": [],
   "source": [
    "df_elec['EDUCATION'].value_counts()"
   ]
  },
  {
   "cell_type": "markdown",
   "id": "73559c44",
   "metadata": {},
   "source": [
    "### Data Manipulation  "
   ]
  },
  {
   "cell_type": "code",
   "execution_count": null,
   "id": "08363664",
   "metadata": {},
   "outputs": [],
   "source": [
    "df_elec.EDUCATION.replace({'Post Graduate\\n':'Post Graduate'},inplace=True)\n",
    "# Any education level below 8th pass is illiterate\n",
    "df_elec.EDUCATION.replace({'5th Pass':'Illiterate'},inplace=True)\n",
    "\n",
    "# 'Graduate Professional' are Graduates, so replacing 'Graduate Professional' with 'Graduate'\n",
    "df_elec['EDUCATION'].replace(to_replace='Graduate Professional', value='Graduate', inplace=True)\n",
    "# 'Literate' = 8th Pass in our society\n",
    "df_elec['EDUCATION'].replace(to_replace='Literate', value='8th Pass', inplace=True)\n",
    "df_elec['EDUCATION'].replace(to_replace='N/A', value='Not Available', inplace=True)\n",
    "\n",
    "df_elec.EDUCATION.unique()"
   ]
  },
  {
   "cell_type": "code",
   "execution_count": null,
   "id": "1866d586",
   "metadata": {},
   "outputs": [],
   "source": [
    "#Let's understand category data\n",
    "df_elec['CATEGORY'].unique()"
   ]
  },
  {
   "cell_type": "markdown",
   "id": "e6e460f6",
   "metadata": {},
   "source": [
    "### Checking for Duplicates and remove if required! "
   ]
  },
  {
   "cell_type": "code",
   "execution_count": null,
   "id": "4f309c5b",
   "metadata": {},
   "outputs": [],
   "source": [
    "#Lets see if we have duplicate based on State+Constituency+Party. I want to check there should be single candidate from party.\n",
    "duplicate = df_elec[df_elec.duplicated(['STATE','CONSTITUENCY','PARTY'])]\n",
    "duplicate\n",
    "#we do have duplicates and that is because there are multiple Independent candidate (Party='IND') Which is valid scenario\n",
    "#duplicate.PARTY.unique()"
   ]
  },
  {
   "cell_type": "code",
   "execution_count": null,
   "id": "599f98fa",
   "metadata": {},
   "outputs": [],
   "source": [
    "#Lets see if we have duplicate based on State+Constituency+Party Excluding IND candidates. I want to check there should be single candidate from party for constituency.\n",
    "dups_chk = df_elec[df_elec.PARTY!='IND']\n",
    "duplicate = dups_chk[dups_chk.duplicated(['STATE','CONSTITUENCY','PARTY'])]\n",
    "duplicate"
   ]
  },
  {
   "cell_type": "markdown",
   "id": "79e091f5",
   "metadata": {},
   "source": [
    "=> This proves there are no duplicate based on key!"
   ]
  },
  {
   "cell_type": "markdown",
   "id": "074f56cd",
   "metadata": {},
   "source": [
    "### Use of Agg. Functions and adding columns in DF "
   ]
  },
  {
   "cell_type": "code",
   "execution_count": null,
   "id": "77cb356f",
   "metadata": {},
   "outputs": [],
   "source": [
    "#Let's Add column using Group by to find Total Votes casted in constituency\n",
    "df_elec[\"tot_vote_casted\"] = df_elec.groupby([\"STATE\",\"CONSTITUENCY\"])[\"total_votes\"].transform('sum')\n",
    "df_elec"
   ]
  },
  {
   "cell_type": "code",
   "execution_count": null,
   "id": "b5d35e1b",
   "metadata": {},
   "outputs": [],
   "source": [
    "#Fixing criminal_cases column\n",
    "df_elec['criminal_cases'].replace(to_replace='Not Available', value='0', inplace=True)\n",
    "df_elec['criminal_cases'] = df_elec['criminal_cases'].astype(int)\n",
    "df_elec[\"criminal_cases_by_party\"] = df_elec.groupby([\"STATE\",\"CONSTITUENCY\",\"PARTY\"])[\"criminal_cases\"].transform('sum')\n",
    "\n",
    "df_elec.info()"
   ]
  },
  {
   "cell_type": "markdown",
   "id": "7181afba",
   "metadata": {},
   "source": [
    "### I think we have good clean data now, Let's try to find some insights"
   ]
  },
  {
   "cell_type": "code",
   "execution_count": null,
   "id": "cdb63062",
   "metadata": {},
   "outputs": [],
   "source": [
    "#Lets see different spread across State for winning candidate\n",
    "winners = df_elec[df_elec['WINNER'] == 1]\n",
    "\n",
    "#pie(x, explode, labels, colors, autopct, pctdistance, shadow, labeldistance, startangle, radius, \n",
    "#counterclock, wedgeprops, textprops, center, frame, rotatelabels, normalize, data)\n",
    "\n",
    "chart_labels = winners['STATE'].unique() \n",
    "plt.pie(winners['STATE'].value_counts(), labels=chart_labels, radius=7)\n",
    "plt.show()"
   ]
  },
  {
   "cell_type": "code",
   "execution_count": null,
   "id": "2189db37",
   "metadata": {},
   "outputs": [],
   "source": [
    "#For Criminal Cases\n",
    "\n",
    "df_criminal_cases = df_elec.loc[(df_elec['criminal_cases'].notnull()) & (df_elec['criminal_cases'] != 'Not Available')]\n",
    "def criminal_cases(row):\n",
    "    if row['criminal_cases'] == 0:\n",
    "        return 'No'\n",
    "    else:\n",
    "        return 'Yes'\n",
    "df_criminal_cases['HAS CRIMINAL CASE'] = df_criminal_cases.apply(criminal_cases,axis = 1)\n",
    "df_criminal_cases_count = df_criminal_cases.groupby(['HAS CRIMINAL CASE','WINNER']).size().reset_index()\n",
    "df_criminal_cases_count.columns = ['HAS CRIMINAL CASE','WINNER','COUNT']\n",
    "\n",
    "fig = px.bar(df_criminal_cases_count, x=\"HAS CRIMINAL CASE\", y=\"COUNT\", color='WINNER')\n",
    "fig.show()"
   ]
  },
  {
   "cell_type": "markdown",
   "id": "3dbdbeeb",
   "metadata": {},
   "source": [
    "==> This shows voters do not like candidate with criminal cases but in many cases they have won!"
   ]
  },
  {
   "cell_type": "code",
   "execution_count": null,
   "id": "989429f0",
   "metadata": {},
   "outputs": [],
   "source": [
    "# For Education\n",
    "plt.figure(figsize=(19,10))\n",
    "sns.countplot(x=df_elec['EDUCATION'],hue=df_elec['WINNER'])"
   ]
  },
  {
   "cell_type": "markdown",
   "id": "d0e15eaa",
   "metadata": {},
   "source": [
    "==> This shows voters like Educated representatives!"
   ]
  },
  {
   "cell_type": "markdown",
   "id": "209f9785",
   "metadata": {},
   "source": [
    "### 2.0) Labeling and Preparing Data for model"
   ]
  },
  {
   "cell_type": "code",
   "execution_count": null,
   "id": "b386de85",
   "metadata": {},
   "outputs": [],
   "source": [
    "#Let's try to understand if there is corelation between different fetures\n",
    "# plotting correlation heatmap\n",
    "dataplot = sns.heatmap(df_elec.corr(), cmap=\"YlGnBu\",annot=True)\n",
    "  \n",
    "# displaying heatmap\n",
    "plt.show()"
   ]
  },
  {
   "cell_type": "code",
   "execution_count": null,
   "id": "1cbc9711",
   "metadata": {},
   "outputs": [],
   "source": [
    "# Labeling parties with less than 10 candidates as others\n",
    "smallcnt_candidates = []\n",
    "for i, j in df_elec['PARTY'].value_counts().items():\n",
    "    if j <= 10:\n",
    "        smallcnt_candidates.append(i)\n",
    "len(smallcnt_candidates)\n",
    "\n",
    "def other_party(data):\n",
    "    if data in smallcnt_candidates:\n",
    "        return 'Other'\n",
    "    return data\n",
    "df_elec['PARTY'] = df_elec['PARTY'].apply(other_party)\n",
    "df_elec['PARTY'].value_counts()"
   ]
  },
  {
   "cell_type": "code",
   "execution_count": null,
   "id": "42261e7b",
   "metadata": {},
   "outputs": [],
   "source": [
    "df_elec.info()"
   ]
  },
  {
   "cell_type": "code",
   "execution_count": null,
   "id": "621a0b18",
   "metadata": {},
   "outputs": [],
   "source": [
    "df1 = df_elec[['STATE','CONSTITUENCY','WINNER','GENDER','criminal_cases','AGE','CATEGORY','EDUCATION','total_votes','TOTAL ELECTORS','ASSETS','LIABILITIES']]\n",
    "txt_cols = ['STATE','CONSTITUENCY','GENDER','CATEGORY','EDUCATION']\n",
    "num_cols = ['criminal_cases','AGE','total_votes','TOTAL ELECTORS','ASSETS','LIABILITIES']"
   ]
  },
  {
   "cell_type": "code",
   "execution_count": null,
   "id": "7baba215",
   "metadata": {},
   "outputs": [],
   "source": [
    "df_winner = df1['WINNER'].value_counts().reset_index()\n",
    "df_winner.columns = ['RESULT','COUNT']\n",
    "pie = go.Pie(labels=df_winner['RESULT'], values=df_winner['COUNT'])\n",
    "layout = go.Layout(title='Total Candidates vs Winners')\n",
    "fig = go.Figure(data=[pie], layout=layout)\n",
    "py.iplot(fig)"
   ]
  },
  {
   "cell_type": "markdown",
   "id": "2c4e5f20",
   "metadata": {},
   "source": [
    "### Data Scalling & Up Sampling"
   ]
  },
  {
   "cell_type": "code",
   "execution_count": null,
   "id": "7c498686",
   "metadata": {},
   "outputs": [],
   "source": [
    "dataset = pd.get_dummies(df1, columns = txt_cols)\n",
    "from sklearn.preprocessing import StandardScaler\n",
    "standardScaler = StandardScaler()\n",
    "columns_to_scale = num_cols\n",
    "dataset[columns_to_scale] = standardScaler.fit_transform(dataset[columns_to_scale])\n",
    "dataset.head()"
   ]
  },
  {
   "cell_type": "code",
   "execution_count": null,
   "id": "78bced4a",
   "metadata": {},
   "outputs": [],
   "source": [
    "from sklearn.utils import resample\n",
    "df_majority = dataset[dataset.WINNER == 0]\n",
    "df_minority = dataset[dataset.WINNER == 1]\n",
    "df_minority_upsampled = resample(df_minority, replace = True,n_samples = 1452, random_state = 0) \n",
    "df_upsampled = pd.concat([df_majority, df_minority_upsampled])\n",
    "df_upsampled.WINNER.value_counts()"
   ]
  },
  {
   "cell_type": "markdown",
   "id": "28215260",
   "metadata": {},
   "source": [
    "### Choosing an appropriate model "
   ]
  },
  {
   "cell_type": "code",
   "execution_count": null,
   "id": "b4962016",
   "metadata": {},
   "outputs": [],
   "source": []
  },
  {
   "cell_type": "markdown",
   "id": "9e0de7f6",
   "metadata": {},
   "source": [
    "### Model "
   ]
  },
  {
   "cell_type": "code",
   "execution_count": null,
   "id": "0bfe55ca",
   "metadata": {},
   "outputs": [],
   "source": [
    "y = df_upsampled['WINNER']\n",
    "X = df_upsampled.drop(['WINNER'], axis = 1)"
   ]
  },
  {
   "cell_type": "code",
   "execution_count": null,
   "id": "042c1177",
   "metadata": {},
   "outputs": [],
   "source": [
    "from sklearn.ensemble import RandomForestClassifier\n",
    "from sklearn.model_selection import cross_val_score\n",
    "rfc_scores = []\n",
    "for k in range(1,21):\n",
    "    randomforest_classifier= RandomForestClassifier(n_estimators=k,random_state=0)\n",
    "    score=cross_val_score(randomforest_classifier,X,y,cv=10)\n",
    "    rfc_scores.append(score.mean())\n",
    "plt.figure(figsize =(20,7))\n",
    "plt.plot([k for k in range(1, 21)], rfc_scores, color = 'red')\n",
    "for i in range(1,21):\n",
    "    plt.text(i, rfc_scores[i-1], (i, round(rfc_scores[i-1],3)))\n",
    "plt.xticks([i for i in range(1, 21)])\n",
    "plt.xlabel('Number of Estimators (K)')\n",
    "plt.ylabel('Scores')\n",
    "plt.title('Random Forest Classifier scores for different K values')"
   ]
  },
  {
   "cell_type": "code",
   "execution_count": null,
   "id": "546abca5",
   "metadata": {},
   "outputs": [],
   "source": [
    "#As we can see from the graph accuracy is maximum at k =14/16. Hence we will be selecting n_estimators=14.\n",
    "randomforest_classifier= RandomForestClassifier(n_estimators=14,random_state=0)\n",
    "score=cross_val_score(randomforest_classifier,X,y,cv=10)\n",
    "print('% Accuracy :', round(score.mean()*100,4))\n"
   ]
  },
  {
   "cell_type": "code",
   "execution_count": null,
   "id": "432aa1f8",
   "metadata": {},
   "outputs": [],
   "source": []
  }
 ],
 "metadata": {
  "kernelspec": {
   "display_name": "Python 3 (ipykernel)",
   "language": "python",
   "name": "python3"
  },
  "language_info": {
   "codemirror_mode": {
    "name": "ipython",
    "version": 3
   },
   "file_extension": ".py",
   "mimetype": "text/x-python",
   "name": "python",
   "nbconvert_exporter": "python",
   "pygments_lexer": "ipython3",
   "version": "3.9.12"
  }
 },
 "nbformat": 4,
 "nbformat_minor": 5
}
