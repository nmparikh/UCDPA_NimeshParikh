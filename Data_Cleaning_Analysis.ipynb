{
 "cells": [
  {
   "cell_type": "markdown",
   "id": "a6757326",
   "metadata": {},
   "source": [
    "# EDA & Prediction on Data Of India General Election 2019 \n",
    "Data Source: (https://www.kaggle.com/datasets/prakrutchauhan/indian-candidates-for-general-election-2019)\n",
    "\n"
   ]
  },
  {
   "cell_type": "markdown",
   "id": "d57df7d6",
   "metadata": {},
   "source": [
    "### Installing required Python lib..."
   ]
  },
  {
   "cell_type": "code",
   "execution_count": 71,
   "id": "febc2d20",
   "metadata": {},
   "outputs": [],
   "source": [
    "#!pip install numpy\n",
    "#!pip install pandas"
   ]
  },
  {
   "cell_type": "code",
   "execution_count": 72,
   "id": "e92861b5",
   "metadata": {},
   "outputs": [],
   "source": [
    "#!pip install matplotlib\n",
    "#!pip install seaborn\n",
    "#!pip install plotly"
   ]
  },
  {
   "cell_type": "code",
   "execution_count": 73,
   "id": "9414f4ae",
   "metadata": {},
   "outputs": [],
   "source": [
    "#!pip install sklearn\n",
    "#!pip install xgboost"
   ]
  },
  {
   "cell_type": "markdown",
   "id": "e9340ec0",
   "metadata": {},
   "source": [
    "### Importing required lib..."
   ]
  },
  {
   "cell_type": "code",
   "execution_count": 74,
   "id": "2e46388f",
   "metadata": {},
   "outputs": [
    {
     "data": {
      "text/html": [
       "        <script type=\"text/javascript\">\n",
       "        window.PlotlyConfig = {MathJaxConfig: 'local'};\n",
       "        if (window.MathJax) {MathJax.Hub.Config({SVG: {font: \"STIX-Web\"}});}\n",
       "        if (typeof require !== 'undefined') {\n",
       "        require.undef(\"plotly\");\n",
       "        requirejs.config({\n",
       "            paths: {\n",
       "                'plotly': ['https://cdn.plot.ly/plotly-2.9.0.min']\n",
       "            }\n",
       "        });\n",
       "        require(['plotly'], function(Plotly) {\n",
       "            window._Plotly = Plotly;\n",
       "        });\n",
       "        }\n",
       "        </script>\n",
       "        "
      ]
     },
     "metadata": {},
     "output_type": "display_data"
    }
   ],
   "source": [
    "import numpy as np\n",
    "import pandas as pd\n",
    "import matplotlib.pyplot as plt\n",
    "import seaborn as sns\n",
    "import re\n",
    "\n",
    "from plotly.offline import init_notebook_mode, iplot \n",
    "import plotly.graph_objects as go\n",
    "import plotly.offline as py\n",
    "import plotly.express as px\n",
    "\n",
    "py.init_notebook_mode(connected=True)\n",
    "sns.set()\n",
    "\n",
    "from sklearn.preprocessing import StandardScaler\n",
    "from sklearn.utils import resample\n",
    "from sklearn.ensemble import RandomForestClassifier\n",
    "from sklearn.model_selection import cross_val_score,train_test_split\n",
    "\n",
    "# Plot should appear inside the jupyter notebook\n",
    "%matplotlib inline\n"
   ]
  },
  {
   "cell_type": "markdown",
   "id": "5d49c548",
   "metadata": {},
   "source": [
    "### 1.0) Importing & Analysing Data "
   ]
  },
  {
   "cell_type": "code",
   "execution_count": 75,
   "id": "f576e71c",
   "metadata": {},
   "outputs": [
    {
     "data": {
      "text/html": [
       "<div>\n",
       "<style scoped>\n",
       "    .dataframe tbody tr th:only-of-type {\n",
       "        vertical-align: middle;\n",
       "    }\n",
       "\n",
       "    .dataframe tbody tr th {\n",
       "        vertical-align: top;\n",
       "    }\n",
       "\n",
       "    .dataframe thead th {\n",
       "        text-align: right;\n",
       "    }\n",
       "</style>\n",
       "<table border=\"1\" class=\"dataframe\">\n",
       "  <thead>\n",
       "    <tr style=\"text-align: right;\">\n",
       "      <th></th>\n",
       "      <th>STATE</th>\n",
       "      <th>CONSTITUENCY</th>\n",
       "      <th>NAME</th>\n",
       "      <th>WINNER</th>\n",
       "      <th>PARTY</th>\n",
       "      <th>SYMBOL</th>\n",
       "      <th>GENDER</th>\n",
       "      <th>CRIMINAL\\nCASES</th>\n",
       "      <th>AGE</th>\n",
       "      <th>CATEGORY</th>\n",
       "      <th>EDUCATION</th>\n",
       "      <th>ASSETS</th>\n",
       "      <th>LIABILITIES</th>\n",
       "      <th>GENERAL\\nVOTES</th>\n",
       "      <th>POSTAL\\nVOTES</th>\n",
       "      <th>TOTAL\\nVOTES</th>\n",
       "      <th>OVER TOTAL ELECTORS \\nIN CONSTITUENCY</th>\n",
       "      <th>OVER TOTAL VOTES POLLED \\nIN CONSTITUENCY</th>\n",
       "      <th>TOTAL ELECTORS</th>\n",
       "    </tr>\n",
       "  </thead>\n",
       "  <tbody>\n",
       "    <tr>\n",
       "      <th>0</th>\n",
       "      <td>Telangana</td>\n",
       "      <td>ADILABAD</td>\n",
       "      <td>SOYAM BAPU RAO</td>\n",
       "      <td>1</td>\n",
       "      <td>BJP</td>\n",
       "      <td>Lotus</td>\n",
       "      <td>MALE</td>\n",
       "      <td>52</td>\n",
       "      <td>52.0</td>\n",
       "      <td>ST</td>\n",
       "      <td>12th Pass</td>\n",
       "      <td>Rs 30,99,414\\n ~ 30 Lacs+</td>\n",
       "      <td>Rs 2,31,450\\n ~ 2 Lacs+</td>\n",
       "      <td>376892</td>\n",
       "      <td>482</td>\n",
       "      <td>377374</td>\n",
       "      <td>25.330684</td>\n",
       "      <td>35.468248</td>\n",
       "      <td>1489790</td>\n",
       "    </tr>\n",
       "    <tr>\n",
       "      <th>1</th>\n",
       "      <td>Telangana</td>\n",
       "      <td>ADILABAD</td>\n",
       "      <td>Godam Nagesh</td>\n",
       "      <td>0</td>\n",
       "      <td>TRS</td>\n",
       "      <td>Car</td>\n",
       "      <td>MALE</td>\n",
       "      <td>0</td>\n",
       "      <td>54.0</td>\n",
       "      <td>ST</td>\n",
       "      <td>Post Graduate</td>\n",
       "      <td>Rs 1,84,77,888\\n ~ 1 Crore+</td>\n",
       "      <td>Rs 8,47,000\\n ~ 8 Lacs+</td>\n",
       "      <td>318665</td>\n",
       "      <td>149</td>\n",
       "      <td>318814</td>\n",
       "      <td>21.399929</td>\n",
       "      <td>29.964370</td>\n",
       "      <td>1489790</td>\n",
       "    </tr>\n",
       "    <tr>\n",
       "      <th>2</th>\n",
       "      <td>Telangana</td>\n",
       "      <td>ADILABAD</td>\n",
       "      <td>RATHOD RAMESH</td>\n",
       "      <td>0</td>\n",
       "      <td>INC</td>\n",
       "      <td>Hand</td>\n",
       "      <td>MALE</td>\n",
       "      <td>3</td>\n",
       "      <td>52.0</td>\n",
       "      <td>ST</td>\n",
       "      <td>12th Pass</td>\n",
       "      <td>Rs 3,64,91,000\\n ~ 3 Crore+</td>\n",
       "      <td>Rs 1,53,00,000\\n ~ 1 Crore+</td>\n",
       "      <td>314057</td>\n",
       "      <td>181</td>\n",
       "      <td>314238</td>\n",
       "      <td>21.092771</td>\n",
       "      <td>29.534285</td>\n",
       "      <td>1489790</td>\n",
       "    </tr>\n",
       "    <tr>\n",
       "      <th>3</th>\n",
       "      <td>Telangana</td>\n",
       "      <td>ADILABAD</td>\n",
       "      <td>NOTA</td>\n",
       "      <td>0</td>\n",
       "      <td>NOTA</td>\n",
       "      <td>NaN</td>\n",
       "      <td>NaN</td>\n",
       "      <td>NaN</td>\n",
       "      <td>NaN</td>\n",
       "      <td>NaN</td>\n",
       "      <td>NaN</td>\n",
       "      <td>NaN</td>\n",
       "      <td>NaN</td>\n",
       "      <td>13030</td>\n",
       "      <td>6</td>\n",
       "      <td>13036</td>\n",
       "      <td>0.875023</td>\n",
       "      <td>1.225214</td>\n",
       "      <td>1489790</td>\n",
       "    </tr>\n",
       "    <tr>\n",
       "      <th>4</th>\n",
       "      <td>Uttar Pradesh</td>\n",
       "      <td>AGRA</td>\n",
       "      <td>Satyapal Singh Baghel</td>\n",
       "      <td>1</td>\n",
       "      <td>BJP</td>\n",
       "      <td>Lotus</td>\n",
       "      <td>MALE</td>\n",
       "      <td>5</td>\n",
       "      <td>58.0</td>\n",
       "      <td>SC</td>\n",
       "      <td>Doctorate</td>\n",
       "      <td>Rs 7,42,74,036\\n ~ 7 Crore+</td>\n",
       "      <td>Rs 86,06,522\\n ~ 86 Lacs+</td>\n",
       "      <td>644459</td>\n",
       "      <td>2416</td>\n",
       "      <td>646875</td>\n",
       "      <td>33.383823</td>\n",
       "      <td>56.464615</td>\n",
       "      <td>1937690</td>\n",
       "    </tr>\n",
       "  </tbody>\n",
       "</table>\n",
       "</div>"
      ],
      "text/plain": [
       "           STATE CONSTITUENCY                   NAME  WINNER PARTY SYMBOL  \\\n",
       "0      Telangana     ADILABAD         SOYAM BAPU RAO       1   BJP  Lotus   \n",
       "1      Telangana     ADILABAD           Godam Nagesh       0   TRS    Car   \n",
       "2      Telangana     ADILABAD          RATHOD RAMESH       0   INC   Hand   \n",
       "3      Telangana     ADILABAD                   NOTA       0  NOTA    NaN   \n",
       "4  Uttar Pradesh         AGRA  Satyapal Singh Baghel       1   BJP  Lotus   \n",
       "\n",
       "  GENDER CRIMINAL\\nCASES   AGE CATEGORY      EDUCATION  \\\n",
       "0   MALE              52  52.0       ST      12th Pass   \n",
       "1   MALE               0  54.0       ST  Post Graduate   \n",
       "2   MALE               3  52.0       ST      12th Pass   \n",
       "3    NaN             NaN   NaN      NaN            NaN   \n",
       "4   MALE               5  58.0       SC      Doctorate   \n",
       "\n",
       "                        ASSETS                  LIABILITIES  GENERAL\\nVOTES  \\\n",
       "0    Rs 30,99,414\\n ~ 30 Lacs+      Rs 2,31,450\\n ~ 2 Lacs+          376892   \n",
       "1  Rs 1,84,77,888\\n ~ 1 Crore+      Rs 8,47,000\\n ~ 8 Lacs+          318665   \n",
       "2  Rs 3,64,91,000\\n ~ 3 Crore+  Rs 1,53,00,000\\n ~ 1 Crore+          314057   \n",
       "3                          NaN                          NaN           13030   \n",
       "4  Rs 7,42,74,036\\n ~ 7 Crore+    Rs 86,06,522\\n ~ 86 Lacs+          644459   \n",
       "\n",
       "   POSTAL\\nVOTES  TOTAL\\nVOTES  OVER TOTAL ELECTORS \\nIN CONSTITUENCY  \\\n",
       "0            482        377374                              25.330684   \n",
       "1            149        318814                              21.399929   \n",
       "2            181        314238                              21.092771   \n",
       "3              6         13036                               0.875023   \n",
       "4           2416        646875                              33.383823   \n",
       "\n",
       "   OVER TOTAL VOTES POLLED \\nIN CONSTITUENCY  TOTAL ELECTORS  \n",
       "0                                  35.468248         1489790  \n",
       "1                                  29.964370         1489790  \n",
       "2                                  29.534285         1489790  \n",
       "3                                   1.225214         1489790  \n",
       "4                                  56.464615         1937690  "
      ]
     },
     "execution_count": 75,
     "metadata": {},
     "output_type": "execute_result"
    }
   ],
   "source": [
    "df_elec = pd.read_csv(\"Dataset/IndianElections/LS_2.0.csv\")\n",
    "df_elec.head()"
   ]
  },
  {
   "cell_type": "code",
   "execution_count": 76,
   "id": "74510e79",
   "metadata": {},
   "outputs": [
    {
     "data": {
      "text/plain": [
       "Index(['STATE', 'CONSTITUENCY', 'NAME', 'WINNER', 'PARTY', 'SYMBOL', 'GENDER',\n",
       "       'CRIMINAL\\nCASES', 'AGE', 'CATEGORY', 'EDUCATION', 'ASSETS',\n",
       "       'LIABILITIES', 'GENERAL\\nVOTES', 'POSTAL\\nVOTES', 'TOTAL\\nVOTES',\n",
       "       'OVER TOTAL ELECTORS \\nIN CONSTITUENCY',\n",
       "       'OVER TOTAL VOTES POLLED \\nIN CONSTITUENCY', 'TOTAL ELECTORS'],\n",
       "      dtype='object')"
      ]
     },
     "execution_count": 76,
     "metadata": {},
     "output_type": "execute_result"
    }
   ],
   "source": [
    "df_elec.columns"
   ]
  },
  {
   "cell_type": "code",
   "execution_count": 77,
   "id": "09e21210",
   "metadata": {},
   "outputs": [
    {
     "name": "stdout",
     "output_type": "stream",
     "text": [
      "<class 'pandas.core.frame.DataFrame'>\n",
      "RangeIndex: 2263 entries, 0 to 2262\n",
      "Data columns (total 19 columns):\n",
      " #   Column                             Non-Null Count  Dtype  \n",
      "---  ------                             --------------  -----  \n",
      " 0   STATE                              2263 non-null   object \n",
      " 1   CONSTITUENCY                       2263 non-null   object \n",
      " 2   NAME                               2263 non-null   object \n",
      " 3   WINNER                             2263 non-null   int64  \n",
      " 4   PARTY                              2263 non-null   object \n",
      " 5   SYMBOL                             2018 non-null   object \n",
      " 6   GENDER                             2018 non-null   object \n",
      " 7   criminal_cases                     2018 non-null   object \n",
      " 8   AGE                                2018 non-null   float64\n",
      " 9   CATEGORY                           2018 non-null   object \n",
      " 10  EDUCATION                          2018 non-null   object \n",
      " 11  ASSETS                             2018 non-null   object \n",
      " 12  LIABILITIES                        2018 non-null   object \n",
      " 13  general_votes                      2263 non-null   int64  \n",
      " 14  postal_votes                       2263 non-null   int64  \n",
      " 15  total_votes                        2263 non-null   int64  \n",
      " 16  pct_over_total_electors_in_const   2263 non-null   float64\n",
      " 17  pct_over_total_vote_poll_in_const  2263 non-null   float64\n",
      " 18  TOTAL ELECTORS                     2263 non-null   int64  \n",
      "dtypes: float64(3), int64(5), object(11)\n",
      "memory usage: 336.0+ KB\n"
     ]
    }
   ],
   "source": [
    "#Rename columns\n",
    "df_elec = df_elec.rename(columns={\"CRIMINAL\\nCASES\": \"criminal_cases\", \"GENERAL\\nVOTES\": \"general_votes\",\"POSTAL\\nVOTES\":\"postal_votes\",\"TOTAL\\nVOTES\":\"total_votes\"\n",
    "                                 ,\"OVER TOTAL ELECTORS \\nIN CONSTITUENCY\":\"pct_over_total_electors_in_const\"\n",
    "                                 ,\"OVER TOTAL VOTES POLLED \\nIN CONSTITUENCY\":\"pct_over_total_vote_poll_in_const\"})\n",
    "df_elec.info()"
   ]
  },
  {
   "cell_type": "code",
   "execution_count": 78,
   "id": "c4e57ad7",
   "metadata": {},
   "outputs": [
    {
     "data": {
      "text/plain": [
       "STATE                                  0\n",
       "CONSTITUENCY                           0\n",
       "NAME                                   0\n",
       "WINNER                                 0\n",
       "PARTY                                  0\n",
       "SYMBOL                               245\n",
       "GENDER                               245\n",
       "criminal_cases                       245\n",
       "AGE                                  245\n",
       "CATEGORY                             245\n",
       "EDUCATION                            245\n",
       "ASSETS                               245\n",
       "LIABILITIES                          245\n",
       "general_votes                          0\n",
       "postal_votes                           0\n",
       "total_votes                            0\n",
       "pct_over_total_electors_in_const       0\n",
       "pct_over_total_vote_poll_in_const      0\n",
       "TOTAL ELECTORS                         0\n",
       "dtype: int64"
      ]
     },
     "execution_count": 78,
     "metadata": {},
     "output_type": "execute_result"
    }
   ],
   "source": [
    "df_elec.isnull().sum()"
   ]
  },
  {
   "cell_type": "markdown",
   "id": "376e542d",
   "metadata": {},
   "source": [
    "==> After Looking at columns, we can see there about 245 rows has NULL values in 8 columns. We will have to understand if there are any pattern"
   ]
  },
  {
   "cell_type": "code",
   "execution_count": 79,
   "id": "713a5a28",
   "metadata": {},
   "outputs": [
    {
     "data": {
      "text/plain": [
       "array(['NOTA'], dtype=object)"
      ]
     },
     "execution_count": 79,
     "metadata": {},
     "output_type": "execute_result"
    }
   ],
   "source": [
    "#understand where Symbol is not present\n",
    "df_elec[df_elec.SYMBOL.isnull()==True]['NAME'].unique()"
   ]
  },
  {
   "cell_type": "markdown",
   "id": "f7c2f36d",
   "metadata": {},
   "source": [
    "==> NOTA is obption where voter has right to use there vote but in case if s/he do not like any candidate from the list, they can put their vote in NOTA (None of The Above)\n",
    "\n",
    "Since this is NOTA, You wont see details about candidate like Asset, Gender, Age, Education etc."
   ]
  },
  {
   "cell_type": "code",
   "execution_count": 80,
   "id": "d6c9a89b",
   "metadata": {},
   "outputs": [],
   "source": [
    "#This shows Symbol is NULL where there is NOTA - Let's Replace \n",
    "df_elec.loc[df_elec.NAME=='NOTA','SYMBOL'] = 'NoNoNo'"
   ]
  },
  {
   "cell_type": "code",
   "execution_count": 81,
   "id": "800dc118",
   "metadata": {},
   "outputs": [
    {
     "data": {
      "text/plain": [
       "3       NoNoNo\n",
       "14      NoNoNo\n",
       "39      NoNoNo\n",
       "46      NoNoNo\n",
       "54      NoNoNo\n",
       "         ...  \n",
       "2225    NoNoNo\n",
       "2230    NoNoNo\n",
       "2235    NoNoNo\n",
       "2241    NoNoNo\n",
       "2262    NoNoNo\n",
       "Name: SYMBOL, Length: 245, dtype: object"
      ]
     },
     "execution_count": 81,
     "metadata": {},
     "output_type": "execute_result"
    }
   ],
   "source": [
    "df_elec.loc[df_elec.NAME=='NOTA','SYMBOL']"
   ]
  },
  {
   "cell_type": "code",
   "execution_count": 82,
   "id": "7a510a40",
   "metadata": {},
   "outputs": [
    {
     "data": {
      "text/html": [
       "<div>\n",
       "<style scoped>\n",
       "    .dataframe tbody tr th:only-of-type {\n",
       "        vertical-align: middle;\n",
       "    }\n",
       "\n",
       "    .dataframe tbody tr th {\n",
       "        vertical-align: top;\n",
       "    }\n",
       "\n",
       "    .dataframe thead th {\n",
       "        text-align: right;\n",
       "    }\n",
       "</style>\n",
       "<table border=\"1\" class=\"dataframe\">\n",
       "  <thead>\n",
       "    <tr style=\"text-align: right;\">\n",
       "      <th></th>\n",
       "      <th>STATE</th>\n",
       "      <th>CONSTITUENCY</th>\n",
       "      <th>NAME</th>\n",
       "      <th>WINNER</th>\n",
       "      <th>PARTY</th>\n",
       "      <th>SYMBOL</th>\n",
       "      <th>GENDER</th>\n",
       "      <th>criminal_cases</th>\n",
       "      <th>AGE</th>\n",
       "      <th>CATEGORY</th>\n",
       "      <th>EDUCATION</th>\n",
       "      <th>ASSETS</th>\n",
       "      <th>LIABILITIES</th>\n",
       "      <th>general_votes</th>\n",
       "      <th>postal_votes</th>\n",
       "      <th>total_votes</th>\n",
       "      <th>pct_over_total_electors_in_const</th>\n",
       "      <th>pct_over_total_vote_poll_in_const</th>\n",
       "      <th>TOTAL ELECTORS</th>\n",
       "    </tr>\n",
       "  </thead>\n",
       "  <tbody>\n",
       "    <tr>\n",
       "      <th>3</th>\n",
       "      <td>Telangana</td>\n",
       "      <td>ADILABAD</td>\n",
       "      <td>NOTA</td>\n",
       "      <td>0</td>\n",
       "      <td>NOTA</td>\n",
       "      <td>NoNoNo</td>\n",
       "      <td>NaN</td>\n",
       "      <td>NaN</td>\n",
       "      <td>NaN</td>\n",
       "      <td>NaN</td>\n",
       "      <td>NaN</td>\n",
       "      <td>NaN</td>\n",
       "      <td>NaN</td>\n",
       "      <td>13030</td>\n",
       "      <td>6</td>\n",
       "      <td>13036</td>\n",
       "      <td>0.875023</td>\n",
       "      <td>1.225214</td>\n",
       "      <td>1489790</td>\n",
       "    </tr>\n",
       "    <tr>\n",
       "      <th>14</th>\n",
       "      <td>Gujarat</td>\n",
       "      <td>AHMEDABAD WEST</td>\n",
       "      <td>NOTA</td>\n",
       "      <td>0</td>\n",
       "      <td>NOTA</td>\n",
       "      <td>NoNoNo</td>\n",
       "      <td>NaN</td>\n",
       "      <td>NaN</td>\n",
       "      <td>NaN</td>\n",
       "      <td>NaN</td>\n",
       "      <td>NaN</td>\n",
       "      <td>NaN</td>\n",
       "      <td>NaN</td>\n",
       "      <td>14580</td>\n",
       "      <td>139</td>\n",
       "      <td>14719</td>\n",
       "      <td>0.895688</td>\n",
       "      <td>1.473030</td>\n",
       "      <td>1643317</td>\n",
       "    </tr>\n",
       "    <tr>\n",
       "      <th>39</th>\n",
       "      <td>West Bengal</td>\n",
       "      <td>ALIPURDUARS</td>\n",
       "      <td>NOTA</td>\n",
       "      <td>0</td>\n",
       "      <td>NOTA</td>\n",
       "      <td>NoNoNo</td>\n",
       "      <td>NaN</td>\n",
       "      <td>NaN</td>\n",
       "      <td>NaN</td>\n",
       "      <td>NaN</td>\n",
       "      <td>NaN</td>\n",
       "      <td>NaN</td>\n",
       "      <td>NaN</td>\n",
       "      <td>21147</td>\n",
       "      <td>28</td>\n",
       "      <td>21175</td>\n",
       "      <td>1.284592</td>\n",
       "      <td>1.533114</td>\n",
       "      <td>1648383</td>\n",
       "    </tr>\n",
       "    <tr>\n",
       "      <th>46</th>\n",
       "      <td>Uttarakhand</td>\n",
       "      <td>ALMORA</td>\n",
       "      <td>NOTA</td>\n",
       "      <td>0</td>\n",
       "      <td>NOTA</td>\n",
       "      <td>NoNoNo</td>\n",
       "      <td>NaN</td>\n",
       "      <td>NaN</td>\n",
       "      <td>NaN</td>\n",
       "      <td>NaN</td>\n",
       "      <td>NaN</td>\n",
       "      <td>NaN</td>\n",
       "      <td>NaN</td>\n",
       "      <td>15311</td>\n",
       "      <td>194</td>\n",
       "      <td>15505</td>\n",
       "      <td>1.158985</td>\n",
       "      <td>2.215611</td>\n",
       "      <td>1337808</td>\n",
       "    </tr>\n",
       "    <tr>\n",
       "      <th>54</th>\n",
       "      <td>Andhra Pradesh</td>\n",
       "      <td>AMALAPURAM</td>\n",
       "      <td>NOTA</td>\n",
       "      <td>0</td>\n",
       "      <td>NOTA</td>\n",
       "      <td>NoNoNo</td>\n",
       "      <td>NaN</td>\n",
       "      <td>NaN</td>\n",
       "      <td>NaN</td>\n",
       "      <td>NaN</td>\n",
       "      <td>NaN</td>\n",
       "      <td>NaN</td>\n",
       "      <td>NaN</td>\n",
       "      <td>16427</td>\n",
       "      <td>41</td>\n",
       "      <td>16468</td>\n",
       "      <td>1.128288</td>\n",
       "      <td>1.333044</td>\n",
       "      <td>1459556</td>\n",
       "    </tr>\n",
       "    <tr>\n",
       "      <th>...</th>\n",
       "      <td>...</td>\n",
       "      <td>...</td>\n",
       "      <td>...</td>\n",
       "      <td>...</td>\n",
       "      <td>...</td>\n",
       "      <td>...</td>\n",
       "      <td>...</td>\n",
       "      <td>...</td>\n",
       "      <td>...</td>\n",
       "      <td>...</td>\n",
       "      <td>...</td>\n",
       "      <td>...</td>\n",
       "      <td>...</td>\n",
       "      <td>...</td>\n",
       "      <td>...</td>\n",
       "      <td>...</td>\n",
       "      <td>...</td>\n",
       "      <td>...</td>\n",
       "      <td>...</td>\n",
       "    </tr>\n",
       "    <tr>\n",
       "      <th>2225</th>\n",
       "      <td>Tamil Nadu</td>\n",
       "      <td>VIRUDHUNAGAR</td>\n",
       "      <td>NOTA</td>\n",
       "      <td>0</td>\n",
       "      <td>NOTA</td>\n",
       "      <td>NoNoNo</td>\n",
       "      <td>NaN</td>\n",
       "      <td>NaN</td>\n",
       "      <td>NaN</td>\n",
       "      <td>NaN</td>\n",
       "      <td>NaN</td>\n",
       "      <td>NaN</td>\n",
       "      <td>NaN</td>\n",
       "      <td>17087</td>\n",
       "      <td>205</td>\n",
       "      <td>17292</td>\n",
       "      <td>1.165028</td>\n",
       "      <td>1.607174</td>\n",
       "      <td>1484256</td>\n",
       "    </tr>\n",
       "    <tr>\n",
       "      <th>2230</th>\n",
       "      <td>Andhra Pradesh</td>\n",
       "      <td>VISAKHAPATNAM</td>\n",
       "      <td>NOTA</td>\n",
       "      <td>0</td>\n",
       "      <td>NOTA</td>\n",
       "      <td>NoNoNo</td>\n",
       "      <td>NaN</td>\n",
       "      <td>NaN</td>\n",
       "      <td>NaN</td>\n",
       "      <td>NaN</td>\n",
       "      <td>NaN</td>\n",
       "      <td>NaN</td>\n",
       "      <td>NaN</td>\n",
       "      <td>16626</td>\n",
       "      <td>20</td>\n",
       "      <td>16646</td>\n",
       "      <td>0.909966</td>\n",
       "      <td>1.342505</td>\n",
       "      <td>1829300</td>\n",
       "    </tr>\n",
       "    <tr>\n",
       "      <th>2235</th>\n",
       "      <td>Andhra Pradesh</td>\n",
       "      <td>VIZIANAGARAM</td>\n",
       "      <td>NOTA</td>\n",
       "      <td>0</td>\n",
       "      <td>NOTA</td>\n",
       "      <td>NoNoNo</td>\n",
       "      <td>NaN</td>\n",
       "      <td>NaN</td>\n",
       "      <td>NaN</td>\n",
       "      <td>NaN</td>\n",
       "      <td>NaN</td>\n",
       "      <td>NaN</td>\n",
       "      <td>NaN</td>\n",
       "      <td>29468</td>\n",
       "      <td>33</td>\n",
       "      <td>29501</td>\n",
       "      <td>1.961529</td>\n",
       "      <td>2.413302</td>\n",
       "      <td>1503980</td>\n",
       "    </tr>\n",
       "    <tr>\n",
       "      <th>2241</th>\n",
       "      <td>Telangana</td>\n",
       "      <td>WARANGAL</td>\n",
       "      <td>NOTA</td>\n",
       "      <td>0</td>\n",
       "      <td>NOTA</td>\n",
       "      <td>NoNoNo</td>\n",
       "      <td>NaN</td>\n",
       "      <td>NaN</td>\n",
       "      <td>NaN</td>\n",
       "      <td>NaN</td>\n",
       "      <td>NaN</td>\n",
       "      <td>NaN</td>\n",
       "      <td>NaN</td>\n",
       "      <td>18764</td>\n",
       "      <td>37</td>\n",
       "      <td>18801</td>\n",
       "      <td>1.127990</td>\n",
       "      <td>1.770886</td>\n",
       "      <td>1666770</td>\n",
       "    </tr>\n",
       "    <tr>\n",
       "      <th>2262</th>\n",
       "      <td>Telangana</td>\n",
       "      <td>ZAHIRABAD</td>\n",
       "      <td>NOTA</td>\n",
       "      <td>0</td>\n",
       "      <td>NOTA</td>\n",
       "      <td>NoNoNo</td>\n",
       "      <td>NaN</td>\n",
       "      <td>NaN</td>\n",
       "      <td>NaN</td>\n",
       "      <td>NaN</td>\n",
       "      <td>NaN</td>\n",
       "      <td>NaN</td>\n",
       "      <td>NaN</td>\n",
       "      <td>11138</td>\n",
       "      <td>2</td>\n",
       "      <td>11140</td>\n",
       "      <td>0.743328</td>\n",
       "      <td>1.066535</td>\n",
       "      <td>1498666</td>\n",
       "    </tr>\n",
       "  </tbody>\n",
       "</table>\n",
       "<p>245 rows × 19 columns</p>\n",
       "</div>"
      ],
      "text/plain": [
       "               STATE    CONSTITUENCY  NAME  WINNER PARTY  SYMBOL GENDER  \\\n",
       "3          Telangana        ADILABAD  NOTA       0  NOTA  NoNoNo    NaN   \n",
       "14           Gujarat  AHMEDABAD WEST  NOTA       0  NOTA  NoNoNo    NaN   \n",
       "39       West Bengal     ALIPURDUARS  NOTA       0  NOTA  NoNoNo    NaN   \n",
       "46       Uttarakhand          ALMORA  NOTA       0  NOTA  NoNoNo    NaN   \n",
       "54    Andhra Pradesh      AMALAPURAM  NOTA       0  NOTA  NoNoNo    NaN   \n",
       "...              ...             ...   ...     ...   ...     ...    ...   \n",
       "2225      Tamil Nadu    VIRUDHUNAGAR  NOTA       0  NOTA  NoNoNo    NaN   \n",
       "2230  Andhra Pradesh   VISAKHAPATNAM  NOTA       0  NOTA  NoNoNo    NaN   \n",
       "2235  Andhra Pradesh    VIZIANAGARAM  NOTA       0  NOTA  NoNoNo    NaN   \n",
       "2241       Telangana        WARANGAL  NOTA       0  NOTA  NoNoNo    NaN   \n",
       "2262       Telangana       ZAHIRABAD  NOTA       0  NOTA  NoNoNo    NaN   \n",
       "\n",
       "     criminal_cases  AGE CATEGORY EDUCATION ASSETS LIABILITIES  general_votes  \\\n",
       "3               NaN  NaN      NaN       NaN    NaN         NaN          13030   \n",
       "14              NaN  NaN      NaN       NaN    NaN         NaN          14580   \n",
       "39              NaN  NaN      NaN       NaN    NaN         NaN          21147   \n",
       "46              NaN  NaN      NaN       NaN    NaN         NaN          15311   \n",
       "54              NaN  NaN      NaN       NaN    NaN         NaN          16427   \n",
       "...             ...  ...      ...       ...    ...         ...            ...   \n",
       "2225            NaN  NaN      NaN       NaN    NaN         NaN          17087   \n",
       "2230            NaN  NaN      NaN       NaN    NaN         NaN          16626   \n",
       "2235            NaN  NaN      NaN       NaN    NaN         NaN          29468   \n",
       "2241            NaN  NaN      NaN       NaN    NaN         NaN          18764   \n",
       "2262            NaN  NaN      NaN       NaN    NaN         NaN          11138   \n",
       "\n",
       "      postal_votes  total_votes  pct_over_total_electors_in_const  \\\n",
       "3                6        13036                          0.875023   \n",
       "14             139        14719                          0.895688   \n",
       "39              28        21175                          1.284592   \n",
       "46             194        15505                          1.158985   \n",
       "54              41        16468                          1.128288   \n",
       "...            ...          ...                               ...   \n",
       "2225           205        17292                          1.165028   \n",
       "2230            20        16646                          0.909966   \n",
       "2235            33        29501                          1.961529   \n",
       "2241            37        18801                          1.127990   \n",
       "2262             2        11140                          0.743328   \n",
       "\n",
       "      pct_over_total_vote_poll_in_const  TOTAL ELECTORS  \n",
       "3                              1.225214         1489790  \n",
       "14                             1.473030         1643317  \n",
       "39                             1.533114         1648383  \n",
       "46                             2.215611         1337808  \n",
       "54                             1.333044         1459556  \n",
       "...                                 ...             ...  \n",
       "2225                           1.607174         1484256  \n",
       "2230                           1.342505         1829300  \n",
       "2235                           2.413302         1503980  \n",
       "2241                           1.770886         1666770  \n",
       "2262                           1.066535         1498666  \n",
       "\n",
       "[245 rows x 19 columns]"
      ]
     },
     "execution_count": 82,
     "metadata": {},
     "output_type": "execute_result"
    }
   ],
   "source": [
    "df_elec[df_elec.NAME=='NOTA']"
   ]
  },
  {
   "cell_type": "code",
   "execution_count": 83,
   "id": "2f647f1a",
   "metadata": {},
   "outputs": [
    {
     "data": {
      "text/html": [
       "<div>\n",
       "<style scoped>\n",
       "    .dataframe tbody tr th:only-of-type {\n",
       "        vertical-align: middle;\n",
       "    }\n",
       "\n",
       "    .dataframe tbody tr th {\n",
       "        vertical-align: top;\n",
       "    }\n",
       "\n",
       "    .dataframe thead th {\n",
       "        text-align: right;\n",
       "    }\n",
       "</style>\n",
       "<table border=\"1\" class=\"dataframe\">\n",
       "  <thead>\n",
       "    <tr style=\"text-align: right;\">\n",
       "      <th></th>\n",
       "      <th>STATE</th>\n",
       "      <th>CONSTITUENCY</th>\n",
       "      <th>NAME</th>\n",
       "      <th>WINNER</th>\n",
       "      <th>PARTY</th>\n",
       "      <th>SYMBOL</th>\n",
       "      <th>GENDER</th>\n",
       "      <th>criminal_cases</th>\n",
       "      <th>AGE</th>\n",
       "      <th>CATEGORY</th>\n",
       "      <th>EDUCATION</th>\n",
       "      <th>ASSETS</th>\n",
       "      <th>LIABILITIES</th>\n",
       "      <th>general_votes</th>\n",
       "      <th>postal_votes</th>\n",
       "      <th>total_votes</th>\n",
       "      <th>pct_over_total_electors_in_const</th>\n",
       "      <th>pct_over_total_vote_poll_in_const</th>\n",
       "      <th>TOTAL ELECTORS</th>\n",
       "    </tr>\n",
       "  </thead>\n",
       "  <tbody>\n",
       "    <tr>\n",
       "      <th>0</th>\n",
       "      <td>Telangana</td>\n",
       "      <td>ADILABAD</td>\n",
       "      <td>SOYAM BAPU RAO</td>\n",
       "      <td>1</td>\n",
       "      <td>BJP</td>\n",
       "      <td>Lotus</td>\n",
       "      <td>MALE</td>\n",
       "      <td>52</td>\n",
       "      <td>52.0</td>\n",
       "      <td>ST</td>\n",
       "      <td>12th Pass</td>\n",
       "      <td>Rs 30,99,414\\n ~ 30 Lacs+</td>\n",
       "      <td>Rs 2,31,450\\n ~ 2 Lacs+</td>\n",
       "      <td>376892</td>\n",
       "      <td>482</td>\n",
       "      <td>377374</td>\n",
       "      <td>25.330684</td>\n",
       "      <td>35.468248</td>\n",
       "      <td>1489790</td>\n",
       "    </tr>\n",
       "    <tr>\n",
       "      <th>1</th>\n",
       "      <td>Telangana</td>\n",
       "      <td>ADILABAD</td>\n",
       "      <td>Godam Nagesh</td>\n",
       "      <td>0</td>\n",
       "      <td>TRS</td>\n",
       "      <td>Car</td>\n",
       "      <td>MALE</td>\n",
       "      <td>0</td>\n",
       "      <td>54.0</td>\n",
       "      <td>ST</td>\n",
       "      <td>Post Graduate</td>\n",
       "      <td>Rs 1,84,77,888\\n ~ 1 Crore+</td>\n",
       "      <td>Rs 8,47,000\\n ~ 8 Lacs+</td>\n",
       "      <td>318665</td>\n",
       "      <td>149</td>\n",
       "      <td>318814</td>\n",
       "      <td>21.399929</td>\n",
       "      <td>29.964370</td>\n",
       "      <td>1489790</td>\n",
       "    </tr>\n",
       "    <tr>\n",
       "      <th>2</th>\n",
       "      <td>Telangana</td>\n",
       "      <td>ADILABAD</td>\n",
       "      <td>RATHOD RAMESH</td>\n",
       "      <td>0</td>\n",
       "      <td>INC</td>\n",
       "      <td>Hand</td>\n",
       "      <td>MALE</td>\n",
       "      <td>3</td>\n",
       "      <td>52.0</td>\n",
       "      <td>ST</td>\n",
       "      <td>12th Pass</td>\n",
       "      <td>Rs 3,64,91,000\\n ~ 3 Crore+</td>\n",
       "      <td>Rs 1,53,00,000\\n ~ 1 Crore+</td>\n",
       "      <td>314057</td>\n",
       "      <td>181</td>\n",
       "      <td>314238</td>\n",
       "      <td>21.092771</td>\n",
       "      <td>29.534285</td>\n",
       "      <td>1489790</td>\n",
       "    </tr>\n",
       "    <tr>\n",
       "      <th>4</th>\n",
       "      <td>Uttar Pradesh</td>\n",
       "      <td>AGRA</td>\n",
       "      <td>Satyapal Singh Baghel</td>\n",
       "      <td>1</td>\n",
       "      <td>BJP</td>\n",
       "      <td>Lotus</td>\n",
       "      <td>MALE</td>\n",
       "      <td>5</td>\n",
       "      <td>58.0</td>\n",
       "      <td>SC</td>\n",
       "      <td>Doctorate</td>\n",
       "      <td>Rs 7,42,74,036\\n ~ 7 Crore+</td>\n",
       "      <td>Rs 86,06,522\\n ~ 86 Lacs+</td>\n",
       "      <td>644459</td>\n",
       "      <td>2416</td>\n",
       "      <td>646875</td>\n",
       "      <td>33.383823</td>\n",
       "      <td>56.464615</td>\n",
       "      <td>1937690</td>\n",
       "    </tr>\n",
       "    <tr>\n",
       "      <th>5</th>\n",
       "      <td>Uttar Pradesh</td>\n",
       "      <td>AGRA</td>\n",
       "      <td>Manoj Kumar Soni</td>\n",
       "      <td>0</td>\n",
       "      <td>BSP</td>\n",
       "      <td>Elephant</td>\n",
       "      <td>MALE</td>\n",
       "      <td>0</td>\n",
       "      <td>47.0</td>\n",
       "      <td>SC</td>\n",
       "      <td>Post Graduate</td>\n",
       "      <td>Rs 13,37,84,385\\n ~ 13 Crore+</td>\n",
       "      <td>Rs 2,22,51,891\\n ~ 2 Crore+</td>\n",
       "      <td>434199</td>\n",
       "      <td>1130</td>\n",
       "      <td>435329</td>\n",
       "      <td>22.466390</td>\n",
       "      <td>37.999125</td>\n",
       "      <td>1937690</td>\n",
       "    </tr>\n",
       "    <tr>\n",
       "      <th>...</th>\n",
       "      <td>...</td>\n",
       "      <td>...</td>\n",
       "      <td>...</td>\n",
       "      <td>...</td>\n",
       "      <td>...</td>\n",
       "      <td>...</td>\n",
       "      <td>...</td>\n",
       "      <td>...</td>\n",
       "      <td>...</td>\n",
       "      <td>...</td>\n",
       "      <td>...</td>\n",
       "      <td>...</td>\n",
       "      <td>...</td>\n",
       "      <td>...</td>\n",
       "      <td>...</td>\n",
       "      <td>...</td>\n",
       "      <td>...</td>\n",
       "      <td>...</td>\n",
       "      <td>...</td>\n",
       "    </tr>\n",
       "    <tr>\n",
       "      <th>2257</th>\n",
       "      <td>Maharashtra</td>\n",
       "      <td>YAVATMAL-WASHIM</td>\n",
       "      <td>Vaishali Sudhakar Yede</td>\n",
       "      <td>0</td>\n",
       "      <td>PHJSP</td>\n",
       "      <td>Whistle</td>\n",
       "      <td>FEMALE</td>\n",
       "      <td>0</td>\n",
       "      <td>28.0</td>\n",
       "      <td>GENERAL</td>\n",
       "      <td>10th Pass</td>\n",
       "      <td>Rs 11,68,500\\n ~ 11 Lacs+</td>\n",
       "      <td>Rs 9,000\\n ~ 9 Thou+</td>\n",
       "      <td>20563</td>\n",
       "      <td>57</td>\n",
       "      <td>20620</td>\n",
       "      <td>1.076097</td>\n",
       "      <td>1.755157</td>\n",
       "      <td>1916185</td>\n",
       "    </tr>\n",
       "    <tr>\n",
       "      <th>2258</th>\n",
       "      <td>Maharashtra</td>\n",
       "      <td>YAVATMAL-WASHIM</td>\n",
       "      <td>Anil Jayram Rathod</td>\n",
       "      <td>0</td>\n",
       "      <td>IND</td>\n",
       "      <td>SHIP</td>\n",
       "      <td>MALE</td>\n",
       "      <td>0</td>\n",
       "      <td>43.0</td>\n",
       "      <td>GENERAL</td>\n",
       "      <td>Post Graduate</td>\n",
       "      <td>Rs 48,90,000\\n ~ 48 Lacs+</td>\n",
       "      <td>Rs 10,20,000\\n ~ 10 Lacs+</td>\n",
       "      <td>14661</td>\n",
       "      <td>25</td>\n",
       "      <td>14686</td>\n",
       "      <td>0.766419</td>\n",
       "      <td>1.250060</td>\n",
       "      <td>1916185</td>\n",
       "    </tr>\n",
       "    <tr>\n",
       "      <th>2259</th>\n",
       "      <td>Telangana</td>\n",
       "      <td>ZAHIRABAD</td>\n",
       "      <td>B.B.PATIL</td>\n",
       "      <td>1</td>\n",
       "      <td>TRS</td>\n",
       "      <td>Car</td>\n",
       "      <td>MALE</td>\n",
       "      <td>18</td>\n",
       "      <td>63.0</td>\n",
       "      <td>GENERAL</td>\n",
       "      <td>Graduate</td>\n",
       "      <td>Rs 1,28,78,51,556\\n ~ 128 Crore+</td>\n",
       "      <td>Rs 1,15,35,000\\n ~ 1 Crore+</td>\n",
       "      <td>434066</td>\n",
       "      <td>178</td>\n",
       "      <td>434244</td>\n",
       "      <td>28.975369</td>\n",
       "      <td>41.574183</td>\n",
       "      <td>1498666</td>\n",
       "    </tr>\n",
       "    <tr>\n",
       "      <th>2260</th>\n",
       "      <td>Telangana</td>\n",
       "      <td>ZAHIRABAD</td>\n",
       "      <td>MADAN MOHAN RAO</td>\n",
       "      <td>0</td>\n",
       "      <td>INC</td>\n",
       "      <td>Hand</td>\n",
       "      <td>MALE</td>\n",
       "      <td>0</td>\n",
       "      <td>49.0</td>\n",
       "      <td>GENERAL</td>\n",
       "      <td>Post Graduate</td>\n",
       "      <td>Rs 90,36,63,001\\n ~ 90 Crore+</td>\n",
       "      <td>Rs 0\\n ~</td>\n",
       "      <td>427900</td>\n",
       "      <td>115</td>\n",
       "      <td>428015</td>\n",
       "      <td>28.559732</td>\n",
       "      <td>40.977823</td>\n",
       "      <td>1498666</td>\n",
       "    </tr>\n",
       "    <tr>\n",
       "      <th>2261</th>\n",
       "      <td>Telangana</td>\n",
       "      <td>ZAHIRABAD</td>\n",
       "      <td>BANALA LAXMA REDDY</td>\n",
       "      <td>0</td>\n",
       "      <td>BJP</td>\n",
       "      <td>Lotus</td>\n",
       "      <td>MALE</td>\n",
       "      <td>3</td>\n",
       "      <td>47.0</td>\n",
       "      <td>GENERAL</td>\n",
       "      <td>12th Pass</td>\n",
       "      <td>Rs 5,85,77,327\\n ~ 5 Crore+</td>\n",
       "      <td>Rs 52,50,000\\n ~ 52 Lacs+</td>\n",
       "      <td>138731</td>\n",
       "      <td>216</td>\n",
       "      <td>138947</td>\n",
       "      <td>9.271379</td>\n",
       "      <td>13.302678</td>\n",
       "      <td>1498666</td>\n",
       "    </tr>\n",
       "  </tbody>\n",
       "</table>\n",
       "<p>2018 rows × 19 columns</p>\n",
       "</div>"
      ],
      "text/plain": [
       "              STATE     CONSTITUENCY                    NAME  WINNER  PARTY  \\\n",
       "0         Telangana         ADILABAD          SOYAM BAPU RAO       1    BJP   \n",
       "1         Telangana         ADILABAD            Godam Nagesh       0    TRS   \n",
       "2         Telangana         ADILABAD           RATHOD RAMESH       0    INC   \n",
       "4     Uttar Pradesh             AGRA   Satyapal Singh Baghel       1    BJP   \n",
       "5     Uttar Pradesh             AGRA        Manoj Kumar Soni       0    BSP   \n",
       "...             ...              ...                     ...     ...    ...   \n",
       "2257    Maharashtra  YAVATMAL-WASHIM  Vaishali Sudhakar Yede       0  PHJSP   \n",
       "2258    Maharashtra  YAVATMAL-WASHIM      Anil Jayram Rathod       0    IND   \n",
       "2259      Telangana        ZAHIRABAD               B.B.PATIL       1    TRS   \n",
       "2260      Telangana        ZAHIRABAD         MADAN MOHAN RAO       0    INC   \n",
       "2261      Telangana        ZAHIRABAD      BANALA LAXMA REDDY       0    BJP   \n",
       "\n",
       "        SYMBOL  GENDER criminal_cases   AGE CATEGORY      EDUCATION  \\\n",
       "0        Lotus    MALE             52  52.0       ST      12th Pass   \n",
       "1          Car    MALE              0  54.0       ST  Post Graduate   \n",
       "2         Hand    MALE              3  52.0       ST      12th Pass   \n",
       "4        Lotus    MALE              5  58.0       SC      Doctorate   \n",
       "5     Elephant    MALE              0  47.0       SC  Post Graduate   \n",
       "...        ...     ...            ...   ...      ...            ...   \n",
       "2257   Whistle  FEMALE              0  28.0  GENERAL      10th Pass   \n",
       "2258      SHIP    MALE              0  43.0  GENERAL  Post Graduate   \n",
       "2259       Car    MALE             18  63.0  GENERAL       Graduate   \n",
       "2260      Hand    MALE              0  49.0  GENERAL  Post Graduate   \n",
       "2261     Lotus    MALE              3  47.0  GENERAL      12th Pass   \n",
       "\n",
       "                                ASSETS                  LIABILITIES  \\\n",
       "0            Rs 30,99,414\\n ~ 30 Lacs+      Rs 2,31,450\\n ~ 2 Lacs+   \n",
       "1          Rs 1,84,77,888\\n ~ 1 Crore+      Rs 8,47,000\\n ~ 8 Lacs+   \n",
       "2          Rs 3,64,91,000\\n ~ 3 Crore+  Rs 1,53,00,000\\n ~ 1 Crore+   \n",
       "4          Rs 7,42,74,036\\n ~ 7 Crore+    Rs 86,06,522\\n ~ 86 Lacs+   \n",
       "5        Rs 13,37,84,385\\n ~ 13 Crore+  Rs 2,22,51,891\\n ~ 2 Crore+   \n",
       "...                                ...                          ...   \n",
       "2257         Rs 11,68,500\\n ~ 11 Lacs+         Rs 9,000\\n ~ 9 Thou+   \n",
       "2258         Rs 48,90,000\\n ~ 48 Lacs+    Rs 10,20,000\\n ~ 10 Lacs+   \n",
       "2259  Rs 1,28,78,51,556\\n ~ 128 Crore+  Rs 1,15,35,000\\n ~ 1 Crore+   \n",
       "2260     Rs 90,36,63,001\\n ~ 90 Crore+                     Rs 0\\n ~   \n",
       "2261       Rs 5,85,77,327\\n ~ 5 Crore+    Rs 52,50,000\\n ~ 52 Lacs+   \n",
       "\n",
       "      general_votes  postal_votes  total_votes  \\\n",
       "0            376892           482       377374   \n",
       "1            318665           149       318814   \n",
       "2            314057           181       314238   \n",
       "4            644459          2416       646875   \n",
       "5            434199          1130       435329   \n",
       "...             ...           ...          ...   \n",
       "2257          20563            57        20620   \n",
       "2258          14661            25        14686   \n",
       "2259         434066           178       434244   \n",
       "2260         427900           115       428015   \n",
       "2261         138731           216       138947   \n",
       "\n",
       "      pct_over_total_electors_in_const  pct_over_total_vote_poll_in_const  \\\n",
       "0                            25.330684                          35.468248   \n",
       "1                            21.399929                          29.964370   \n",
       "2                            21.092771                          29.534285   \n",
       "4                            33.383823                          56.464615   \n",
       "5                            22.466390                          37.999125   \n",
       "...                                ...                                ...   \n",
       "2257                          1.076097                           1.755157   \n",
       "2258                          0.766419                           1.250060   \n",
       "2259                         28.975369                          41.574183   \n",
       "2260                         28.559732                          40.977823   \n",
       "2261                          9.271379                          13.302678   \n",
       "\n",
       "      TOTAL ELECTORS  \n",
       "0            1489790  \n",
       "1            1489790  \n",
       "2            1489790  \n",
       "4            1937690  \n",
       "5            1937690  \n",
       "...              ...  \n",
       "2257         1916185  \n",
       "2258         1916185  \n",
       "2259         1498666  \n",
       "2260         1498666  \n",
       "2261         1498666  \n",
       "\n",
       "[2018 rows x 19 columns]"
      ]
     },
     "execution_count": 83,
     "metadata": {},
     "output_type": "execute_result"
    }
   ],
   "source": [
    "df_elec[df_elec.NAME!='NOTA']"
   ]
  },
  {
   "cell_type": "code",
   "execution_count": 84,
   "id": "99ac5f3f",
   "metadata": {},
   "outputs": [
    {
     "data": {
      "text/html": [
       "<div>\n",
       "<style scoped>\n",
       "    .dataframe tbody tr th:only-of-type {\n",
       "        vertical-align: middle;\n",
       "    }\n",
       "\n",
       "    .dataframe tbody tr th {\n",
       "        vertical-align: top;\n",
       "    }\n",
       "\n",
       "    .dataframe thead th {\n",
       "        text-align: right;\n",
       "    }\n",
       "</style>\n",
       "<table border=\"1\" class=\"dataframe\">\n",
       "  <thead>\n",
       "    <tr style=\"text-align: right;\">\n",
       "      <th></th>\n",
       "      <th>STATE</th>\n",
       "      <th>CONSTITUENCY</th>\n",
       "      <th>NAME</th>\n",
       "      <th>WINNER</th>\n",
       "      <th>PARTY</th>\n",
       "      <th>SYMBOL</th>\n",
       "      <th>GENDER</th>\n",
       "      <th>criminal_cases</th>\n",
       "      <th>AGE</th>\n",
       "      <th>CATEGORY</th>\n",
       "      <th>EDUCATION</th>\n",
       "      <th>ASSETS</th>\n",
       "      <th>LIABILITIES</th>\n",
       "      <th>general_votes</th>\n",
       "      <th>postal_votes</th>\n",
       "      <th>total_votes</th>\n",
       "      <th>pct_over_total_electors_in_const</th>\n",
       "      <th>pct_over_total_vote_poll_in_const</th>\n",
       "      <th>TOTAL ELECTORS</th>\n",
       "    </tr>\n",
       "  </thead>\n",
       "  <tbody>\n",
       "    <tr>\n",
       "      <th>3</th>\n",
       "      <td>Telangana</td>\n",
       "      <td>ADILABAD</td>\n",
       "      <td>NOTA</td>\n",
       "      <td>0</td>\n",
       "      <td>NOTA</td>\n",
       "      <td>NoNoNo</td>\n",
       "      <td>N/A</td>\n",
       "      <td>0</td>\n",
       "      <td>0.0</td>\n",
       "      <td>N/A</td>\n",
       "      <td>N/A</td>\n",
       "      <td>0</td>\n",
       "      <td>0</td>\n",
       "      <td>13030</td>\n",
       "      <td>6</td>\n",
       "      <td>13036</td>\n",
       "      <td>0.875023</td>\n",
       "      <td>1.225214</td>\n",
       "      <td>1489790</td>\n",
       "    </tr>\n",
       "    <tr>\n",
       "      <th>14</th>\n",
       "      <td>Gujarat</td>\n",
       "      <td>AHMEDABAD WEST</td>\n",
       "      <td>NOTA</td>\n",
       "      <td>0</td>\n",
       "      <td>NOTA</td>\n",
       "      <td>NoNoNo</td>\n",
       "      <td>N/A</td>\n",
       "      <td>0</td>\n",
       "      <td>0.0</td>\n",
       "      <td>N/A</td>\n",
       "      <td>N/A</td>\n",
       "      <td>0</td>\n",
       "      <td>0</td>\n",
       "      <td>14580</td>\n",
       "      <td>139</td>\n",
       "      <td>14719</td>\n",
       "      <td>0.895688</td>\n",
       "      <td>1.473030</td>\n",
       "      <td>1643317</td>\n",
       "    </tr>\n",
       "    <tr>\n",
       "      <th>39</th>\n",
       "      <td>West Bengal</td>\n",
       "      <td>ALIPURDUARS</td>\n",
       "      <td>NOTA</td>\n",
       "      <td>0</td>\n",
       "      <td>NOTA</td>\n",
       "      <td>NoNoNo</td>\n",
       "      <td>N/A</td>\n",
       "      <td>0</td>\n",
       "      <td>0.0</td>\n",
       "      <td>N/A</td>\n",
       "      <td>N/A</td>\n",
       "      <td>0</td>\n",
       "      <td>0</td>\n",
       "      <td>21147</td>\n",
       "      <td>28</td>\n",
       "      <td>21175</td>\n",
       "      <td>1.284592</td>\n",
       "      <td>1.533114</td>\n",
       "      <td>1648383</td>\n",
       "    </tr>\n",
       "    <tr>\n",
       "      <th>46</th>\n",
       "      <td>Uttarakhand</td>\n",
       "      <td>ALMORA</td>\n",
       "      <td>NOTA</td>\n",
       "      <td>0</td>\n",
       "      <td>NOTA</td>\n",
       "      <td>NoNoNo</td>\n",
       "      <td>N/A</td>\n",
       "      <td>0</td>\n",
       "      <td>0.0</td>\n",
       "      <td>N/A</td>\n",
       "      <td>N/A</td>\n",
       "      <td>0</td>\n",
       "      <td>0</td>\n",
       "      <td>15311</td>\n",
       "      <td>194</td>\n",
       "      <td>15505</td>\n",
       "      <td>1.158985</td>\n",
       "      <td>2.215611</td>\n",
       "      <td>1337808</td>\n",
       "    </tr>\n",
       "    <tr>\n",
       "      <th>54</th>\n",
       "      <td>Andhra Pradesh</td>\n",
       "      <td>AMALAPURAM</td>\n",
       "      <td>NOTA</td>\n",
       "      <td>0</td>\n",
       "      <td>NOTA</td>\n",
       "      <td>NoNoNo</td>\n",
       "      <td>N/A</td>\n",
       "      <td>0</td>\n",
       "      <td>0.0</td>\n",
       "      <td>N/A</td>\n",
       "      <td>N/A</td>\n",
       "      <td>0</td>\n",
       "      <td>0</td>\n",
       "      <td>16427</td>\n",
       "      <td>41</td>\n",
       "      <td>16468</td>\n",
       "      <td>1.128288</td>\n",
       "      <td>1.333044</td>\n",
       "      <td>1459556</td>\n",
       "    </tr>\n",
       "    <tr>\n",
       "      <th>...</th>\n",
       "      <td>...</td>\n",
       "      <td>...</td>\n",
       "      <td>...</td>\n",
       "      <td>...</td>\n",
       "      <td>...</td>\n",
       "      <td>...</td>\n",
       "      <td>...</td>\n",
       "      <td>...</td>\n",
       "      <td>...</td>\n",
       "      <td>...</td>\n",
       "      <td>...</td>\n",
       "      <td>...</td>\n",
       "      <td>...</td>\n",
       "      <td>...</td>\n",
       "      <td>...</td>\n",
       "      <td>...</td>\n",
       "      <td>...</td>\n",
       "      <td>...</td>\n",
       "      <td>...</td>\n",
       "    </tr>\n",
       "    <tr>\n",
       "      <th>2225</th>\n",
       "      <td>Tamil Nadu</td>\n",
       "      <td>VIRUDHUNAGAR</td>\n",
       "      <td>NOTA</td>\n",
       "      <td>0</td>\n",
       "      <td>NOTA</td>\n",
       "      <td>NoNoNo</td>\n",
       "      <td>N/A</td>\n",
       "      <td>0</td>\n",
       "      <td>0.0</td>\n",
       "      <td>N/A</td>\n",
       "      <td>N/A</td>\n",
       "      <td>0</td>\n",
       "      <td>0</td>\n",
       "      <td>17087</td>\n",
       "      <td>205</td>\n",
       "      <td>17292</td>\n",
       "      <td>1.165028</td>\n",
       "      <td>1.607174</td>\n",
       "      <td>1484256</td>\n",
       "    </tr>\n",
       "    <tr>\n",
       "      <th>2230</th>\n",
       "      <td>Andhra Pradesh</td>\n",
       "      <td>VISAKHAPATNAM</td>\n",
       "      <td>NOTA</td>\n",
       "      <td>0</td>\n",
       "      <td>NOTA</td>\n",
       "      <td>NoNoNo</td>\n",
       "      <td>N/A</td>\n",
       "      <td>0</td>\n",
       "      <td>0.0</td>\n",
       "      <td>N/A</td>\n",
       "      <td>N/A</td>\n",
       "      <td>0</td>\n",
       "      <td>0</td>\n",
       "      <td>16626</td>\n",
       "      <td>20</td>\n",
       "      <td>16646</td>\n",
       "      <td>0.909966</td>\n",
       "      <td>1.342505</td>\n",
       "      <td>1829300</td>\n",
       "    </tr>\n",
       "    <tr>\n",
       "      <th>2235</th>\n",
       "      <td>Andhra Pradesh</td>\n",
       "      <td>VIZIANAGARAM</td>\n",
       "      <td>NOTA</td>\n",
       "      <td>0</td>\n",
       "      <td>NOTA</td>\n",
       "      <td>NoNoNo</td>\n",
       "      <td>N/A</td>\n",
       "      <td>0</td>\n",
       "      <td>0.0</td>\n",
       "      <td>N/A</td>\n",
       "      <td>N/A</td>\n",
       "      <td>0</td>\n",
       "      <td>0</td>\n",
       "      <td>29468</td>\n",
       "      <td>33</td>\n",
       "      <td>29501</td>\n",
       "      <td>1.961529</td>\n",
       "      <td>2.413302</td>\n",
       "      <td>1503980</td>\n",
       "    </tr>\n",
       "    <tr>\n",
       "      <th>2241</th>\n",
       "      <td>Telangana</td>\n",
       "      <td>WARANGAL</td>\n",
       "      <td>NOTA</td>\n",
       "      <td>0</td>\n",
       "      <td>NOTA</td>\n",
       "      <td>NoNoNo</td>\n",
       "      <td>N/A</td>\n",
       "      <td>0</td>\n",
       "      <td>0.0</td>\n",
       "      <td>N/A</td>\n",
       "      <td>N/A</td>\n",
       "      <td>0</td>\n",
       "      <td>0</td>\n",
       "      <td>18764</td>\n",
       "      <td>37</td>\n",
       "      <td>18801</td>\n",
       "      <td>1.127990</td>\n",
       "      <td>1.770886</td>\n",
       "      <td>1666770</td>\n",
       "    </tr>\n",
       "    <tr>\n",
       "      <th>2262</th>\n",
       "      <td>Telangana</td>\n",
       "      <td>ZAHIRABAD</td>\n",
       "      <td>NOTA</td>\n",
       "      <td>0</td>\n",
       "      <td>NOTA</td>\n",
       "      <td>NoNoNo</td>\n",
       "      <td>N/A</td>\n",
       "      <td>0</td>\n",
       "      <td>0.0</td>\n",
       "      <td>N/A</td>\n",
       "      <td>N/A</td>\n",
       "      <td>0</td>\n",
       "      <td>0</td>\n",
       "      <td>11138</td>\n",
       "      <td>2</td>\n",
       "      <td>11140</td>\n",
       "      <td>0.743328</td>\n",
       "      <td>1.066535</td>\n",
       "      <td>1498666</td>\n",
       "    </tr>\n",
       "  </tbody>\n",
       "</table>\n",
       "<p>245 rows × 19 columns</p>\n",
       "</div>"
      ],
      "text/plain": [
       "               STATE    CONSTITUENCY  NAME  WINNER PARTY  SYMBOL GENDER  \\\n",
       "3          Telangana        ADILABAD  NOTA       0  NOTA  NoNoNo    N/A   \n",
       "14           Gujarat  AHMEDABAD WEST  NOTA       0  NOTA  NoNoNo    N/A   \n",
       "39       West Bengal     ALIPURDUARS  NOTA       0  NOTA  NoNoNo    N/A   \n",
       "46       Uttarakhand          ALMORA  NOTA       0  NOTA  NoNoNo    N/A   \n",
       "54    Andhra Pradesh      AMALAPURAM  NOTA       0  NOTA  NoNoNo    N/A   \n",
       "...              ...             ...   ...     ...   ...     ...    ...   \n",
       "2225      Tamil Nadu    VIRUDHUNAGAR  NOTA       0  NOTA  NoNoNo    N/A   \n",
       "2230  Andhra Pradesh   VISAKHAPATNAM  NOTA       0  NOTA  NoNoNo    N/A   \n",
       "2235  Andhra Pradesh    VIZIANAGARAM  NOTA       0  NOTA  NoNoNo    N/A   \n",
       "2241       Telangana        WARANGAL  NOTA       0  NOTA  NoNoNo    N/A   \n",
       "2262       Telangana       ZAHIRABAD  NOTA       0  NOTA  NoNoNo    N/A   \n",
       "\n",
       "     criminal_cases  AGE CATEGORY EDUCATION ASSETS LIABILITIES  general_votes  \\\n",
       "3                 0  0.0      N/A       N/A      0           0          13030   \n",
       "14                0  0.0      N/A       N/A      0           0          14580   \n",
       "39                0  0.0      N/A       N/A      0           0          21147   \n",
       "46                0  0.0      N/A       N/A      0           0          15311   \n",
       "54                0  0.0      N/A       N/A      0           0          16427   \n",
       "...             ...  ...      ...       ...    ...         ...            ...   \n",
       "2225              0  0.0      N/A       N/A      0           0          17087   \n",
       "2230              0  0.0      N/A       N/A      0           0          16626   \n",
       "2235              0  0.0      N/A       N/A      0           0          29468   \n",
       "2241              0  0.0      N/A       N/A      0           0          18764   \n",
       "2262              0  0.0      N/A       N/A      0           0          11138   \n",
       "\n",
       "      postal_votes  total_votes  pct_over_total_electors_in_const  \\\n",
       "3                6        13036                          0.875023   \n",
       "14             139        14719                          0.895688   \n",
       "39              28        21175                          1.284592   \n",
       "46             194        15505                          1.158985   \n",
       "54              41        16468                          1.128288   \n",
       "...            ...          ...                               ...   \n",
       "2225           205        17292                          1.165028   \n",
       "2230            20        16646                          0.909966   \n",
       "2235            33        29501                          1.961529   \n",
       "2241            37        18801                          1.127990   \n",
       "2262             2        11140                          0.743328   \n",
       "\n",
       "      pct_over_total_vote_poll_in_const  TOTAL ELECTORS  \n",
       "3                              1.225214         1489790  \n",
       "14                             1.473030         1643317  \n",
       "39                             1.533114         1648383  \n",
       "46                             2.215611         1337808  \n",
       "54                             1.333044         1459556  \n",
       "...                                 ...             ...  \n",
       "2225                           1.607174         1484256  \n",
       "2230                           1.342505         1829300  \n",
       "2235                           2.413302         1503980  \n",
       "2241                           1.770886         1666770  \n",
       "2262                           1.066535         1498666  \n",
       "\n",
       "[245 rows x 19 columns]"
      ]
     },
     "execution_count": 84,
     "metadata": {},
     "output_type": "execute_result"
    }
   ],
   "source": [
    "#It seems whereever there is NOTA, Values are blank - Let's Fix them where possible\n",
    "df_elec.loc[df_elec.NAME=='NOTA','GENDER'] = 'N/A'\n",
    "df_elec.loc[df_elec.NAME=='NOTA','criminal_cases'] = 0\n",
    "df_elec.loc[df_elec.NAME=='NOTA','AGE'] = 0\n",
    "df_elec.loc[df_elec.NAME=='NOTA','CATEGORY'] = 'N/A'\n",
    "df_elec.loc[df_elec.NAME=='NOTA','EDUCATION'] = 'N/A'\n",
    "df_elec.loc[df_elec.NAME=='NOTA','ASSETS'] = 0\n",
    "df_elec.loc[df_elec.NAME=='NOTA','LIABILITIES'] = 0\n",
    "df_elec[df_elec.NAME=='NOTA']"
   ]
  },
  {
   "cell_type": "code",
   "execution_count": 85,
   "id": "b4aad260",
   "metadata": {},
   "outputs": [
    {
     "name": "stdout",
     "output_type": "stream",
     "text": [
      "<class 'pandas.core.frame.DataFrame'>\n",
      "RangeIndex: 2263 entries, 0 to 2262\n",
      "Data columns (total 19 columns):\n",
      " #   Column                             Non-Null Count  Dtype  \n",
      "---  ------                             --------------  -----  \n",
      " 0   STATE                              2263 non-null   object \n",
      " 1   CONSTITUENCY                       2263 non-null   object \n",
      " 2   NAME                               2263 non-null   object \n",
      " 3   WINNER                             2263 non-null   int64  \n",
      " 4   PARTY                              2263 non-null   object \n",
      " 5   SYMBOL                             2263 non-null   object \n",
      " 6   GENDER                             2263 non-null   object \n",
      " 7   criminal_cases                     2263 non-null   object \n",
      " 8   AGE                                2263 non-null   float64\n",
      " 9   CATEGORY                           2263 non-null   object \n",
      " 10  EDUCATION                          2263 non-null   object \n",
      " 11  ASSETS                             2263 non-null   object \n",
      " 12  LIABILITIES                        2263 non-null   object \n",
      " 13  general_votes                      2263 non-null   int64  \n",
      " 14  postal_votes                       2263 non-null   int64  \n",
      " 15  total_votes                        2263 non-null   int64  \n",
      " 16  pct_over_total_electors_in_const   2263 non-null   float64\n",
      " 17  pct_over_total_vote_poll_in_const  2263 non-null   float64\n",
      " 18  TOTAL ELECTORS                     2263 non-null   int64  \n",
      "dtypes: float64(3), int64(5), object(11)\n",
      "memory usage: 336.0+ KB\n"
     ]
    }
   ],
   "source": [
    "df_elec.info()"
   ]
  },
  {
   "cell_type": "code",
   "execution_count": 86,
   "id": "f065fb87",
   "metadata": {},
   "outputs": [
    {
     "data": {
      "text/plain": [
       "STATE                                0\n",
       "CONSTITUENCY                         0\n",
       "NAME                                 0\n",
       "WINNER                               0\n",
       "PARTY                                0\n",
       "SYMBOL                               0\n",
       "GENDER                               0\n",
       "criminal_cases                       0\n",
       "AGE                                  0\n",
       "CATEGORY                             0\n",
       "EDUCATION                            0\n",
       "ASSETS                               0\n",
       "LIABILITIES                          0\n",
       "general_votes                        0\n",
       "postal_votes                         0\n",
       "total_votes                          0\n",
       "pct_over_total_electors_in_const     0\n",
       "pct_over_total_vote_poll_in_const    0\n",
       "TOTAL ELECTORS                       0\n",
       "dtype: int64"
      ]
     },
     "execution_count": 86,
     "metadata": {},
     "output_type": "execute_result"
    }
   ],
   "source": [
    "df_elec.isnull().sum()"
   ]
  },
  {
   "cell_type": "code",
   "execution_count": 87,
   "id": "7c52a3fe",
   "metadata": {},
   "outputs": [
    {
     "data": {
      "text/html": [
       "<div>\n",
       "<style scoped>\n",
       "    .dataframe tbody tr th:only-of-type {\n",
       "        vertical-align: middle;\n",
       "    }\n",
       "\n",
       "    .dataframe tbody tr th {\n",
       "        vertical-align: top;\n",
       "    }\n",
       "\n",
       "    .dataframe thead th {\n",
       "        text-align: right;\n",
       "    }\n",
       "</style>\n",
       "<table border=\"1\" class=\"dataframe\">\n",
       "  <thead>\n",
       "    <tr style=\"text-align: right;\">\n",
       "      <th></th>\n",
       "      <th>STATE</th>\n",
       "      <th>CONSTITUENCY</th>\n",
       "      <th>NAME</th>\n",
       "      <th>WINNER</th>\n",
       "      <th>PARTY</th>\n",
       "      <th>SYMBOL</th>\n",
       "      <th>GENDER</th>\n",
       "      <th>criminal_cases</th>\n",
       "      <th>AGE</th>\n",
       "      <th>CATEGORY</th>\n",
       "      <th>EDUCATION</th>\n",
       "      <th>ASSETS</th>\n",
       "      <th>LIABILITIES</th>\n",
       "      <th>general_votes</th>\n",
       "      <th>postal_votes</th>\n",
       "      <th>total_votes</th>\n",
       "      <th>pct_over_total_electors_in_const</th>\n",
       "      <th>pct_over_total_vote_poll_in_const</th>\n",
       "      <th>TOTAL ELECTORS</th>\n",
       "    </tr>\n",
       "  </thead>\n",
       "  <tbody>\n",
       "    <tr>\n",
       "      <th>0</th>\n",
       "      <td>Telangana</td>\n",
       "      <td>ADILABAD</td>\n",
       "      <td>SOYAM BAPU RAO</td>\n",
       "      <td>1</td>\n",
       "      <td>BJP</td>\n",
       "      <td>Lotus</td>\n",
       "      <td>MALE</td>\n",
       "      <td>52</td>\n",
       "      <td>52.0</td>\n",
       "      <td>ST</td>\n",
       "      <td>12th Pass</td>\n",
       "      <td>Rs 30,99,414\\n ~ 30 Lacs+</td>\n",
       "      <td>Rs 2,31,450\\n ~ 2 Lacs+</td>\n",
       "      <td>376892</td>\n",
       "      <td>482</td>\n",
       "      <td>377374</td>\n",
       "      <td>25.330684</td>\n",
       "      <td>35.468248</td>\n",
       "      <td>1489790</td>\n",
       "    </tr>\n",
       "    <tr>\n",
       "      <th>1</th>\n",
       "      <td>Telangana</td>\n",
       "      <td>ADILABAD</td>\n",
       "      <td>Godam Nagesh</td>\n",
       "      <td>0</td>\n",
       "      <td>TRS</td>\n",
       "      <td>Car</td>\n",
       "      <td>MALE</td>\n",
       "      <td>0</td>\n",
       "      <td>54.0</td>\n",
       "      <td>ST</td>\n",
       "      <td>Post Graduate</td>\n",
       "      <td>Rs 1,84,77,888\\n ~ 1 Crore+</td>\n",
       "      <td>Rs 8,47,000\\n ~ 8 Lacs+</td>\n",
       "      <td>318665</td>\n",
       "      <td>149</td>\n",
       "      <td>318814</td>\n",
       "      <td>21.399929</td>\n",
       "      <td>29.964370</td>\n",
       "      <td>1489790</td>\n",
       "    </tr>\n",
       "    <tr>\n",
       "      <th>2</th>\n",
       "      <td>Telangana</td>\n",
       "      <td>ADILABAD</td>\n",
       "      <td>RATHOD RAMESH</td>\n",
       "      <td>0</td>\n",
       "      <td>INC</td>\n",
       "      <td>Hand</td>\n",
       "      <td>MALE</td>\n",
       "      <td>3</td>\n",
       "      <td>52.0</td>\n",
       "      <td>ST</td>\n",
       "      <td>12th Pass</td>\n",
       "      <td>Rs 3,64,91,000\\n ~ 3 Crore+</td>\n",
       "      <td>Rs 1,53,00,000\\n ~ 1 Crore+</td>\n",
       "      <td>314057</td>\n",
       "      <td>181</td>\n",
       "      <td>314238</td>\n",
       "      <td>21.092771</td>\n",
       "      <td>29.534285</td>\n",
       "      <td>1489790</td>\n",
       "    </tr>\n",
       "    <tr>\n",
       "      <th>3</th>\n",
       "      <td>Telangana</td>\n",
       "      <td>ADILABAD</td>\n",
       "      <td>NOTA</td>\n",
       "      <td>0</td>\n",
       "      <td>NOTA</td>\n",
       "      <td>NoNoNo</td>\n",
       "      <td>N/A</td>\n",
       "      <td>0</td>\n",
       "      <td>0.0</td>\n",
       "      <td>N/A</td>\n",
       "      <td>N/A</td>\n",
       "      <td>0</td>\n",
       "      <td>0</td>\n",
       "      <td>13030</td>\n",
       "      <td>6</td>\n",
       "      <td>13036</td>\n",
       "      <td>0.875023</td>\n",
       "      <td>1.225214</td>\n",
       "      <td>1489790</td>\n",
       "    </tr>\n",
       "    <tr>\n",
       "      <th>4</th>\n",
       "      <td>Uttar Pradesh</td>\n",
       "      <td>AGRA</td>\n",
       "      <td>Satyapal Singh Baghel</td>\n",
       "      <td>1</td>\n",
       "      <td>BJP</td>\n",
       "      <td>Lotus</td>\n",
       "      <td>MALE</td>\n",
       "      <td>5</td>\n",
       "      <td>58.0</td>\n",
       "      <td>SC</td>\n",
       "      <td>Doctorate</td>\n",
       "      <td>Rs 7,42,74,036\\n ~ 7 Crore+</td>\n",
       "      <td>Rs 86,06,522\\n ~ 86 Lacs+</td>\n",
       "      <td>644459</td>\n",
       "      <td>2416</td>\n",
       "      <td>646875</td>\n",
       "      <td>33.383823</td>\n",
       "      <td>56.464615</td>\n",
       "      <td>1937690</td>\n",
       "    </tr>\n",
       "    <tr>\n",
       "      <th>...</th>\n",
       "      <td>...</td>\n",
       "      <td>...</td>\n",
       "      <td>...</td>\n",
       "      <td>...</td>\n",
       "      <td>...</td>\n",
       "      <td>...</td>\n",
       "      <td>...</td>\n",
       "      <td>...</td>\n",
       "      <td>...</td>\n",
       "      <td>...</td>\n",
       "      <td>...</td>\n",
       "      <td>...</td>\n",
       "      <td>...</td>\n",
       "      <td>...</td>\n",
       "      <td>...</td>\n",
       "      <td>...</td>\n",
       "      <td>...</td>\n",
       "      <td>...</td>\n",
       "      <td>...</td>\n",
       "    </tr>\n",
       "    <tr>\n",
       "      <th>2258</th>\n",
       "      <td>Maharashtra</td>\n",
       "      <td>YAVATMAL-WASHIM</td>\n",
       "      <td>Anil Jayram Rathod</td>\n",
       "      <td>0</td>\n",
       "      <td>IND</td>\n",
       "      <td>SHIP</td>\n",
       "      <td>MALE</td>\n",
       "      <td>0</td>\n",
       "      <td>43.0</td>\n",
       "      <td>GENERAL</td>\n",
       "      <td>Post Graduate</td>\n",
       "      <td>Rs 48,90,000\\n ~ 48 Lacs+</td>\n",
       "      <td>Rs 10,20,000\\n ~ 10 Lacs+</td>\n",
       "      <td>14661</td>\n",
       "      <td>25</td>\n",
       "      <td>14686</td>\n",
       "      <td>0.766419</td>\n",
       "      <td>1.250060</td>\n",
       "      <td>1916185</td>\n",
       "    </tr>\n",
       "    <tr>\n",
       "      <th>2259</th>\n",
       "      <td>Telangana</td>\n",
       "      <td>ZAHIRABAD</td>\n",
       "      <td>B.B.PATIL</td>\n",
       "      <td>1</td>\n",
       "      <td>TRS</td>\n",
       "      <td>Car</td>\n",
       "      <td>MALE</td>\n",
       "      <td>18</td>\n",
       "      <td>63.0</td>\n",
       "      <td>GENERAL</td>\n",
       "      <td>Graduate</td>\n",
       "      <td>Rs 1,28,78,51,556\\n ~ 128 Crore+</td>\n",
       "      <td>Rs 1,15,35,000\\n ~ 1 Crore+</td>\n",
       "      <td>434066</td>\n",
       "      <td>178</td>\n",
       "      <td>434244</td>\n",
       "      <td>28.975369</td>\n",
       "      <td>41.574183</td>\n",
       "      <td>1498666</td>\n",
       "    </tr>\n",
       "    <tr>\n",
       "      <th>2260</th>\n",
       "      <td>Telangana</td>\n",
       "      <td>ZAHIRABAD</td>\n",
       "      <td>MADAN MOHAN RAO</td>\n",
       "      <td>0</td>\n",
       "      <td>INC</td>\n",
       "      <td>Hand</td>\n",
       "      <td>MALE</td>\n",
       "      <td>0</td>\n",
       "      <td>49.0</td>\n",
       "      <td>GENERAL</td>\n",
       "      <td>Post Graduate</td>\n",
       "      <td>Rs 90,36,63,001\\n ~ 90 Crore+</td>\n",
       "      <td>Rs 0\\n ~</td>\n",
       "      <td>427900</td>\n",
       "      <td>115</td>\n",
       "      <td>428015</td>\n",
       "      <td>28.559732</td>\n",
       "      <td>40.977823</td>\n",
       "      <td>1498666</td>\n",
       "    </tr>\n",
       "    <tr>\n",
       "      <th>2261</th>\n",
       "      <td>Telangana</td>\n",
       "      <td>ZAHIRABAD</td>\n",
       "      <td>BANALA LAXMA REDDY</td>\n",
       "      <td>0</td>\n",
       "      <td>BJP</td>\n",
       "      <td>Lotus</td>\n",
       "      <td>MALE</td>\n",
       "      <td>3</td>\n",
       "      <td>47.0</td>\n",
       "      <td>GENERAL</td>\n",
       "      <td>12th Pass</td>\n",
       "      <td>Rs 5,85,77,327\\n ~ 5 Crore+</td>\n",
       "      <td>Rs 52,50,000\\n ~ 52 Lacs+</td>\n",
       "      <td>138731</td>\n",
       "      <td>216</td>\n",
       "      <td>138947</td>\n",
       "      <td>9.271379</td>\n",
       "      <td>13.302678</td>\n",
       "      <td>1498666</td>\n",
       "    </tr>\n",
       "    <tr>\n",
       "      <th>2262</th>\n",
       "      <td>Telangana</td>\n",
       "      <td>ZAHIRABAD</td>\n",
       "      <td>NOTA</td>\n",
       "      <td>0</td>\n",
       "      <td>NOTA</td>\n",
       "      <td>NoNoNo</td>\n",
       "      <td>N/A</td>\n",
       "      <td>0</td>\n",
       "      <td>0.0</td>\n",
       "      <td>N/A</td>\n",
       "      <td>N/A</td>\n",
       "      <td>0</td>\n",
       "      <td>0</td>\n",
       "      <td>11138</td>\n",
       "      <td>2</td>\n",
       "      <td>11140</td>\n",
       "      <td>0.743328</td>\n",
       "      <td>1.066535</td>\n",
       "      <td>1498666</td>\n",
       "    </tr>\n",
       "  </tbody>\n",
       "</table>\n",
       "<p>2263 rows × 19 columns</p>\n",
       "</div>"
      ],
      "text/plain": [
       "              STATE     CONSTITUENCY                   NAME  WINNER PARTY  \\\n",
       "0         Telangana         ADILABAD         SOYAM BAPU RAO       1   BJP   \n",
       "1         Telangana         ADILABAD           Godam Nagesh       0   TRS   \n",
       "2         Telangana         ADILABAD          RATHOD RAMESH       0   INC   \n",
       "3         Telangana         ADILABAD                   NOTA       0  NOTA   \n",
       "4     Uttar Pradesh             AGRA  Satyapal Singh Baghel       1   BJP   \n",
       "...             ...              ...                    ...     ...   ...   \n",
       "2258    Maharashtra  YAVATMAL-WASHIM     Anil Jayram Rathod       0   IND   \n",
       "2259      Telangana        ZAHIRABAD              B.B.PATIL       1   TRS   \n",
       "2260      Telangana        ZAHIRABAD        MADAN MOHAN RAO       0   INC   \n",
       "2261      Telangana        ZAHIRABAD     BANALA LAXMA REDDY       0   BJP   \n",
       "2262      Telangana        ZAHIRABAD                   NOTA       0  NOTA   \n",
       "\n",
       "      SYMBOL GENDER criminal_cases   AGE CATEGORY      EDUCATION  \\\n",
       "0      Lotus   MALE             52  52.0       ST      12th Pass   \n",
       "1        Car   MALE              0  54.0       ST  Post Graduate   \n",
       "2       Hand   MALE              3  52.0       ST      12th Pass   \n",
       "3     NoNoNo    N/A              0   0.0      N/A            N/A   \n",
       "4      Lotus   MALE              5  58.0       SC      Doctorate   \n",
       "...      ...    ...            ...   ...      ...            ...   \n",
       "2258    SHIP   MALE              0  43.0  GENERAL  Post Graduate   \n",
       "2259     Car   MALE             18  63.0  GENERAL       Graduate   \n",
       "2260    Hand   MALE              0  49.0  GENERAL  Post Graduate   \n",
       "2261   Lotus   MALE              3  47.0  GENERAL      12th Pass   \n",
       "2262  NoNoNo    N/A              0   0.0      N/A            N/A   \n",
       "\n",
       "                                ASSETS                  LIABILITIES  \\\n",
       "0            Rs 30,99,414\\n ~ 30 Lacs+      Rs 2,31,450\\n ~ 2 Lacs+   \n",
       "1          Rs 1,84,77,888\\n ~ 1 Crore+      Rs 8,47,000\\n ~ 8 Lacs+   \n",
       "2          Rs 3,64,91,000\\n ~ 3 Crore+  Rs 1,53,00,000\\n ~ 1 Crore+   \n",
       "3                                    0                            0   \n",
       "4          Rs 7,42,74,036\\n ~ 7 Crore+    Rs 86,06,522\\n ~ 86 Lacs+   \n",
       "...                                ...                          ...   \n",
       "2258         Rs 48,90,000\\n ~ 48 Lacs+    Rs 10,20,000\\n ~ 10 Lacs+   \n",
       "2259  Rs 1,28,78,51,556\\n ~ 128 Crore+  Rs 1,15,35,000\\n ~ 1 Crore+   \n",
       "2260     Rs 90,36,63,001\\n ~ 90 Crore+                     Rs 0\\n ~   \n",
       "2261       Rs 5,85,77,327\\n ~ 5 Crore+    Rs 52,50,000\\n ~ 52 Lacs+   \n",
       "2262                                 0                            0   \n",
       "\n",
       "      general_votes  postal_votes  total_votes  \\\n",
       "0            376892           482       377374   \n",
       "1            318665           149       318814   \n",
       "2            314057           181       314238   \n",
       "3             13030             6        13036   \n",
       "4            644459          2416       646875   \n",
       "...             ...           ...          ...   \n",
       "2258          14661            25        14686   \n",
       "2259         434066           178       434244   \n",
       "2260         427900           115       428015   \n",
       "2261         138731           216       138947   \n",
       "2262          11138             2        11140   \n",
       "\n",
       "      pct_over_total_electors_in_const  pct_over_total_vote_poll_in_const  \\\n",
       "0                            25.330684                          35.468248   \n",
       "1                            21.399929                          29.964370   \n",
       "2                            21.092771                          29.534285   \n",
       "3                             0.875023                           1.225214   \n",
       "4                            33.383823                          56.464615   \n",
       "...                                ...                                ...   \n",
       "2258                          0.766419                           1.250060   \n",
       "2259                         28.975369                          41.574183   \n",
       "2260                         28.559732                          40.977823   \n",
       "2261                          9.271379                          13.302678   \n",
       "2262                          0.743328                           1.066535   \n",
       "\n",
       "      TOTAL ELECTORS  \n",
       "0            1489790  \n",
       "1            1489790  \n",
       "2            1489790  \n",
       "3            1489790  \n",
       "4            1937690  \n",
       "...              ...  \n",
       "2258         1916185  \n",
       "2259         1498666  \n",
       "2260         1498666  \n",
       "2261         1498666  \n",
       "2262         1498666  \n",
       "\n",
       "[2263 rows x 19 columns]"
      ]
     },
     "execution_count": 87,
     "metadata": {},
     "output_type": "execute_result"
    }
   ],
   "source": [
    "df_elec"
   ]
  },
  {
   "cell_type": "markdown",
   "id": "4b6cf946",
   "metadata": {},
   "source": [
    "### Use of Function & RegEx"
   ]
  },
  {
   "cell_type": "code",
   "execution_count": 88,
   "id": "aee4c0fa",
   "metadata": {},
   "outputs": [
    {
     "data": {
      "text/plain": [
       "1287851556"
      ]
     },
     "execution_count": 88,
     "metadata": {},
     "output_type": "execute_result"
    }
   ],
   "source": [
    "# Let's clear the Asset & Liabilities data\n",
    "# Remove Rs , \\n and text\n",
    "# Should only contain number\n",
    "# Rs 1,28,78,51,556\\n ~ 128 Crore+ => 1287851556\n",
    "#\n",
    "\n",
    "def clean_data(x):\n",
    "    try:\n",
    "        str_temp = re.sub(r\"\\D\",\"\",(x.split('\\n')[0].strip()))\n",
    "        #You can replace non digit chars => x.split('Rs')[1].split('\\n')[0].strip()).replace(',','')\n",
    "        return int(str_temp)\n",
    "    except:\n",
    "        x = 0\n",
    "        return x\n",
    "    \n",
    "clean_data(\"Rs 1,28,78,51,556\\n ~ 128 Crore+\")"
   ]
  },
  {
   "cell_type": "code",
   "execution_count": 89,
   "id": "a6e87a26",
   "metadata": {},
   "outputs": [
    {
     "data": {
      "text/html": [
       "<div>\n",
       "<style scoped>\n",
       "    .dataframe tbody tr th:only-of-type {\n",
       "        vertical-align: middle;\n",
       "    }\n",
       "\n",
       "    .dataframe tbody tr th {\n",
       "        vertical-align: top;\n",
       "    }\n",
       "\n",
       "    .dataframe thead th {\n",
       "        text-align: right;\n",
       "    }\n",
       "</style>\n",
       "<table border=\"1\" class=\"dataframe\">\n",
       "  <thead>\n",
       "    <tr style=\"text-align: right;\">\n",
       "      <th></th>\n",
       "      <th>STATE</th>\n",
       "      <th>CONSTITUENCY</th>\n",
       "      <th>NAME</th>\n",
       "      <th>WINNER</th>\n",
       "      <th>PARTY</th>\n",
       "      <th>SYMBOL</th>\n",
       "      <th>GENDER</th>\n",
       "      <th>criminal_cases</th>\n",
       "      <th>AGE</th>\n",
       "      <th>CATEGORY</th>\n",
       "      <th>EDUCATION</th>\n",
       "      <th>ASSETS</th>\n",
       "      <th>LIABILITIES</th>\n",
       "      <th>general_votes</th>\n",
       "      <th>postal_votes</th>\n",
       "      <th>total_votes</th>\n",
       "      <th>pct_over_total_electors_in_const</th>\n",
       "      <th>pct_over_total_vote_poll_in_const</th>\n",
       "      <th>TOTAL ELECTORS</th>\n",
       "    </tr>\n",
       "  </thead>\n",
       "  <tbody>\n",
       "    <tr>\n",
       "      <th>0</th>\n",
       "      <td>Telangana</td>\n",
       "      <td>ADILABAD</td>\n",
       "      <td>SOYAM BAPU RAO</td>\n",
       "      <td>1</td>\n",
       "      <td>BJP</td>\n",
       "      <td>Lotus</td>\n",
       "      <td>MALE</td>\n",
       "      <td>52</td>\n",
       "      <td>52.0</td>\n",
       "      <td>ST</td>\n",
       "      <td>12th Pass</td>\n",
       "      <td>3099414</td>\n",
       "      <td>231450</td>\n",
       "      <td>376892</td>\n",
       "      <td>482</td>\n",
       "      <td>377374</td>\n",
       "      <td>25.330684</td>\n",
       "      <td>35.468248</td>\n",
       "      <td>1489790</td>\n",
       "    </tr>\n",
       "    <tr>\n",
       "      <th>1</th>\n",
       "      <td>Telangana</td>\n",
       "      <td>ADILABAD</td>\n",
       "      <td>Godam Nagesh</td>\n",
       "      <td>0</td>\n",
       "      <td>TRS</td>\n",
       "      <td>Car</td>\n",
       "      <td>MALE</td>\n",
       "      <td>0</td>\n",
       "      <td>54.0</td>\n",
       "      <td>ST</td>\n",
       "      <td>Post Graduate</td>\n",
       "      <td>18477888</td>\n",
       "      <td>847000</td>\n",
       "      <td>318665</td>\n",
       "      <td>149</td>\n",
       "      <td>318814</td>\n",
       "      <td>21.399929</td>\n",
       "      <td>29.964370</td>\n",
       "      <td>1489790</td>\n",
       "    </tr>\n",
       "    <tr>\n",
       "      <th>2</th>\n",
       "      <td>Telangana</td>\n",
       "      <td>ADILABAD</td>\n",
       "      <td>RATHOD RAMESH</td>\n",
       "      <td>0</td>\n",
       "      <td>INC</td>\n",
       "      <td>Hand</td>\n",
       "      <td>MALE</td>\n",
       "      <td>3</td>\n",
       "      <td>52.0</td>\n",
       "      <td>ST</td>\n",
       "      <td>12th Pass</td>\n",
       "      <td>36491000</td>\n",
       "      <td>15300000</td>\n",
       "      <td>314057</td>\n",
       "      <td>181</td>\n",
       "      <td>314238</td>\n",
       "      <td>21.092771</td>\n",
       "      <td>29.534285</td>\n",
       "      <td>1489790</td>\n",
       "    </tr>\n",
       "    <tr>\n",
       "      <th>3</th>\n",
       "      <td>Telangana</td>\n",
       "      <td>ADILABAD</td>\n",
       "      <td>NOTA</td>\n",
       "      <td>0</td>\n",
       "      <td>NOTA</td>\n",
       "      <td>NoNoNo</td>\n",
       "      <td>N/A</td>\n",
       "      <td>0</td>\n",
       "      <td>0.0</td>\n",
       "      <td>N/A</td>\n",
       "      <td>N/A</td>\n",
       "      <td>0</td>\n",
       "      <td>0</td>\n",
       "      <td>13030</td>\n",
       "      <td>6</td>\n",
       "      <td>13036</td>\n",
       "      <td>0.875023</td>\n",
       "      <td>1.225214</td>\n",
       "      <td>1489790</td>\n",
       "    </tr>\n",
       "    <tr>\n",
       "      <th>4</th>\n",
       "      <td>Uttar Pradesh</td>\n",
       "      <td>AGRA</td>\n",
       "      <td>Satyapal Singh Baghel</td>\n",
       "      <td>1</td>\n",
       "      <td>BJP</td>\n",
       "      <td>Lotus</td>\n",
       "      <td>MALE</td>\n",
       "      <td>5</td>\n",
       "      <td>58.0</td>\n",
       "      <td>SC</td>\n",
       "      <td>Doctorate</td>\n",
       "      <td>74274036</td>\n",
       "      <td>8606522</td>\n",
       "      <td>644459</td>\n",
       "      <td>2416</td>\n",
       "      <td>646875</td>\n",
       "      <td>33.383823</td>\n",
       "      <td>56.464615</td>\n",
       "      <td>1937690</td>\n",
       "    </tr>\n",
       "  </tbody>\n",
       "</table>\n",
       "</div>"
      ],
      "text/plain": [
       "           STATE CONSTITUENCY                   NAME  WINNER PARTY  SYMBOL  \\\n",
       "0      Telangana     ADILABAD         SOYAM BAPU RAO       1   BJP   Lotus   \n",
       "1      Telangana     ADILABAD           Godam Nagesh       0   TRS     Car   \n",
       "2      Telangana     ADILABAD          RATHOD RAMESH       0   INC    Hand   \n",
       "3      Telangana     ADILABAD                   NOTA       0  NOTA  NoNoNo   \n",
       "4  Uttar Pradesh         AGRA  Satyapal Singh Baghel       1   BJP   Lotus   \n",
       "\n",
       "  GENDER criminal_cases   AGE CATEGORY      EDUCATION    ASSETS  LIABILITIES  \\\n",
       "0   MALE             52  52.0       ST      12th Pass   3099414       231450   \n",
       "1   MALE              0  54.0       ST  Post Graduate  18477888       847000   \n",
       "2   MALE              3  52.0       ST      12th Pass  36491000     15300000   \n",
       "3    N/A              0   0.0      N/A            N/A         0            0   \n",
       "4   MALE              5  58.0       SC      Doctorate  74274036      8606522   \n",
       "\n",
       "   general_votes  postal_votes  total_votes  pct_over_total_electors_in_const  \\\n",
       "0         376892           482       377374                         25.330684   \n",
       "1         318665           149       318814                         21.399929   \n",
       "2         314057           181       314238                         21.092771   \n",
       "3          13030             6        13036                          0.875023   \n",
       "4         644459          2416       646875                         33.383823   \n",
       "\n",
       "   pct_over_total_vote_poll_in_const  TOTAL ELECTORS  \n",
       "0                          35.468248         1489790  \n",
       "1                          29.964370         1489790  \n",
       "2                          29.534285         1489790  \n",
       "3                           1.225214         1489790  \n",
       "4                          56.464615         1937690  "
      ]
     },
     "execution_count": 89,
     "metadata": {},
     "output_type": "execute_result"
    }
   ],
   "source": [
    "df_elec['ASSETS'] = df_elec['ASSETS'].apply((clean_data))\n",
    "df_elec['LIABILITIES'] = df_elec['LIABILITIES'].apply((clean_data))\n",
    "df_elec.head()"
   ]
  },
  {
   "cell_type": "code",
   "execution_count": 90,
   "id": "64f1e44a",
   "metadata": {},
   "outputs": [
    {
     "data": {
      "text/plain": [
       "array(['12th Pass', 'Post Graduate', 'N/A', 'Doctorate', 'Graduate',\n",
       "       'Others', '10th Pass', '8th Pass', 'Graduate Professional',\n",
       "       'Literate', 'Illiterate', '5th Pass', 'Not Available',\n",
       "       'Post Graduate\\n'], dtype=object)"
      ]
     },
     "execution_count": 90,
     "metadata": {},
     "output_type": "execute_result"
    }
   ],
   "source": [
    "#Let's understand Education data\n",
    "df_elec['EDUCATION'].unique()"
   ]
  },
  {
   "cell_type": "code",
   "execution_count": 91,
   "id": "420e9bfb",
   "metadata": {},
   "outputs": [
    {
     "data": {
      "text/plain": [
       "Post Graduate            502\n",
       "Graduate                 441\n",
       "Graduate Professional    336\n",
       "12th Pass                256\n",
       "N/A                      245\n",
       "10th Pass                196\n",
       "8th Pass                  78\n",
       "Doctorate                 73\n",
       "Others                    50\n",
       "Literate                  30\n",
       "5th Pass                  28\n",
       "Not Available             22\n",
       "Illiterate                 5\n",
       "Post Graduate\\n            1\n",
       "Name: EDUCATION, dtype: int64"
      ]
     },
     "execution_count": 91,
     "metadata": {},
     "output_type": "execute_result"
    }
   ],
   "source": [
    "df_elec['EDUCATION'].value_counts()"
   ]
  },
  {
   "cell_type": "markdown",
   "id": "73559c44",
   "metadata": {},
   "source": [
    "### Data Manipulation  "
   ]
  },
  {
   "cell_type": "code",
   "execution_count": 92,
   "id": "08363664",
   "metadata": {},
   "outputs": [
    {
     "data": {
      "text/plain": [
       "array(['12th Pass', 'Post Graduate', 'Not Available', 'Doctorate',\n",
       "       'Graduate', 'Others', '10th Pass', '8th Pass', 'Illiterate'],\n",
       "      dtype=object)"
      ]
     },
     "execution_count": 92,
     "metadata": {},
     "output_type": "execute_result"
    }
   ],
   "source": [
    "df_elec.EDUCATION.replace({'Post Graduate\\n':'Post Graduate'},inplace=True)\n",
    "# Any education level below 8th pass is illiterate\n",
    "df_elec.EDUCATION.replace({'5th Pass':'Illiterate'},inplace=True)\n",
    "\n",
    "# 'Graduate Professional' are Graduates, so replacing 'Graduate Professional' with 'Graduate'\n",
    "df_elec['EDUCATION'].replace(to_replace='Graduate Professional', value='Graduate', inplace=True)\n",
    "# 'Literate' = 8th Pass in our society\n",
    "df_elec['EDUCATION'].replace(to_replace='Literate', value='8th Pass', inplace=True)\n",
    "df_elec['EDUCATION'].replace(to_replace='N/A', value='Not Available', inplace=True)\n",
    "\n",
    "df_elec.EDUCATION.unique()"
   ]
  },
  {
   "cell_type": "code",
   "execution_count": 93,
   "id": "1866d586",
   "metadata": {},
   "outputs": [
    {
     "data": {
      "text/plain": [
       "array(['ST', 'N/A', 'SC', 'GENERAL'], dtype=object)"
      ]
     },
     "execution_count": 93,
     "metadata": {},
     "output_type": "execute_result"
    }
   ],
   "source": [
    "#Let's understand category data\n",
    "df_elec['CATEGORY'].unique()"
   ]
  },
  {
   "cell_type": "markdown",
   "id": "e6e460f6",
   "metadata": {},
   "source": [
    "### Checking for Duplicates and remove if required! "
   ]
  },
  {
   "cell_type": "code",
   "execution_count": 94,
   "id": "4f309c5b",
   "metadata": {},
   "outputs": [
    {
     "data": {
      "text/html": [
       "<div>\n",
       "<style scoped>\n",
       "    .dataframe tbody tr th:only-of-type {\n",
       "        vertical-align: middle;\n",
       "    }\n",
       "\n",
       "    .dataframe tbody tr th {\n",
       "        vertical-align: top;\n",
       "    }\n",
       "\n",
       "    .dataframe thead th {\n",
       "        text-align: right;\n",
       "    }\n",
       "</style>\n",
       "<table border=\"1\" class=\"dataframe\">\n",
       "  <thead>\n",
       "    <tr style=\"text-align: right;\">\n",
       "      <th></th>\n",
       "      <th>STATE</th>\n",
       "      <th>CONSTITUENCY</th>\n",
       "      <th>NAME</th>\n",
       "      <th>WINNER</th>\n",
       "      <th>PARTY</th>\n",
       "      <th>SYMBOL</th>\n",
       "      <th>GENDER</th>\n",
       "      <th>criminal_cases</th>\n",
       "      <th>AGE</th>\n",
       "      <th>CATEGORY</th>\n",
       "      <th>EDUCATION</th>\n",
       "      <th>ASSETS</th>\n",
       "      <th>LIABILITIES</th>\n",
       "      <th>general_votes</th>\n",
       "      <th>postal_votes</th>\n",
       "      <th>total_votes</th>\n",
       "      <th>pct_over_total_electors_in_const</th>\n",
       "      <th>pct_over_total_vote_poll_in_const</th>\n",
       "      <th>TOTAL ELECTORS</th>\n",
       "    </tr>\n",
       "  </thead>\n",
       "  <tbody>\n",
       "    <tr>\n",
       "      <th>145</th>\n",
       "      <td>Andhra Pradesh</td>\n",
       "      <td>ARUKU</td>\n",
       "      <td>NARAVA SATYAVATHI</td>\n",
       "      <td>0</td>\n",
       "      <td>IND</td>\n",
       "      <td>Bangles</td>\n",
       "      <td>FEMALE</td>\n",
       "      <td>0</td>\n",
       "      <td>37.0</td>\n",
       "      <td>ST</td>\n",
       "      <td>10th Pass</td>\n",
       "      <td>964000</td>\n",
       "      <td>0</td>\n",
       "      <td>11231</td>\n",
       "      <td>5</td>\n",
       "      <td>11236</td>\n",
       "      <td>0.774139</td>\n",
       "      <td>1.042073</td>\n",
       "      <td>1451418</td>\n",
       "    </tr>\n",
       "    <tr>\n",
       "      <th>180</th>\n",
       "      <td>Bihar</td>\n",
       "      <td>AURANGABAD</td>\n",
       "      <td>SANTOSH KUMAR SINHA</td>\n",
       "      <td>0</td>\n",
       "      <td>IND</td>\n",
       "      <td>Almirah</td>\n",
       "      <td>MALE</td>\n",
       "      <td>0</td>\n",
       "      <td>43.0</td>\n",
       "      <td>GENERAL</td>\n",
       "      <td>Graduate</td>\n",
       "      <td>1275000</td>\n",
       "      <td>0</td>\n",
       "      <td>15010</td>\n",
       "      <td>4</td>\n",
       "      <td>15014</td>\n",
       "      <td>0.861446</td>\n",
       "      <td>1.604970</td>\n",
       "      <td>1742883</td>\n",
       "    </tr>\n",
       "    <tr>\n",
       "      <th>182</th>\n",
       "      <td>Bihar</td>\n",
       "      <td>AURANGABAD</td>\n",
       "      <td>YOGENDRA RAM</td>\n",
       "      <td>0</td>\n",
       "      <td>IND</td>\n",
       "      <td>Balloon</td>\n",
       "      <td>MALE</td>\n",
       "      <td>0</td>\n",
       "      <td>58.0</td>\n",
       "      <td>SC</td>\n",
       "      <td>8th Pass</td>\n",
       "      <td>155000</td>\n",
       "      <td>0</td>\n",
       "      <td>11979</td>\n",
       "      <td>8</td>\n",
       "      <td>11987</td>\n",
       "      <td>0.687768</td>\n",
       "      <td>1.281389</td>\n",
       "      <td>1742883</td>\n",
       "    </tr>\n",
       "    <tr>\n",
       "      <th>229</th>\n",
       "      <td>Gujarat</td>\n",
       "      <td>BANASKANTHA</td>\n",
       "      <td>PUROHIT SHYAMABEN NARANBHAI</td>\n",
       "      <td>0</td>\n",
       "      <td>IND</td>\n",
       "      <td>DIAMOND</td>\n",
       "      <td>FEMALE</td>\n",
       "      <td>0</td>\n",
       "      <td>33.0</td>\n",
       "      <td>GENERAL</td>\n",
       "      <td>Graduate</td>\n",
       "      <td>2578000</td>\n",
       "      <td>2306381</td>\n",
       "      <td>11064</td>\n",
       "      <td>5</td>\n",
       "      <td>11069</td>\n",
       "      <td>0.652121</td>\n",
       "      <td>1.002864</td>\n",
       "      <td>1697384</td>\n",
       "    </tr>\n",
       "    <tr>\n",
       "      <th>252</th>\n",
       "      <td>Bihar</td>\n",
       "      <td>BANKA</td>\n",
       "      <td>MANOJ KUMAR SAH</td>\n",
       "      <td>0</td>\n",
       "      <td>IND</td>\n",
       "      <td>FLUTE</td>\n",
       "      <td>MALE</td>\n",
       "      <td>0</td>\n",
       "      <td>44.0</td>\n",
       "      <td>GENERAL</td>\n",
       "      <td>10th Pass</td>\n",
       "      <td>41500</td>\n",
       "      <td>0</td>\n",
       "      <td>44394</td>\n",
       "      <td>4</td>\n",
       "      <td>44398</td>\n",
       "      <td>2.612578</td>\n",
       "      <td>4.458257</td>\n",
       "      <td>1699394</td>\n",
       "    </tr>\n",
       "    <tr>\n",
       "      <th>...</th>\n",
       "      <td>...</td>\n",
       "      <td>...</td>\n",
       "      <td>...</td>\n",
       "      <td>...</td>\n",
       "      <td>...</td>\n",
       "      <td>...</td>\n",
       "      <td>...</td>\n",
       "      <td>...</td>\n",
       "      <td>...</td>\n",
       "      <td>...</td>\n",
       "      <td>...</td>\n",
       "      <td>...</td>\n",
       "      <td>...</td>\n",
       "      <td>...</td>\n",
       "      <td>...</td>\n",
       "      <td>...</td>\n",
       "      <td>...</td>\n",
       "      <td>...</td>\n",
       "      <td>...</td>\n",
       "    </tr>\n",
       "    <tr>\n",
       "      <th>2187</th>\n",
       "      <td>Bihar</td>\n",
       "      <td>VAISHALI</td>\n",
       "      <td>Ismohamad alias Md. Munna</td>\n",
       "      <td>0</td>\n",
       "      <td>IND</td>\n",
       "      <td>Bead Necklace</td>\n",
       "      <td>MALE</td>\n",
       "      <td>0</td>\n",
       "      <td>36.0</td>\n",
       "      <td>GENERAL</td>\n",
       "      <td>Graduate</td>\n",
       "      <td>1595000</td>\n",
       "      <td>0</td>\n",
       "      <td>21855</td>\n",
       "      <td>2</td>\n",
       "      <td>21857</td>\n",
       "      <td>1.259056</td>\n",
       "      <td>2.033680</td>\n",
       "      <td>1735983</td>\n",
       "    </tr>\n",
       "    <tr>\n",
       "      <th>2188</th>\n",
       "      <td>Bihar</td>\n",
       "      <td>VAISHALI</td>\n",
       "      <td>Rinkoo Devi</td>\n",
       "      <td>0</td>\n",
       "      <td>IND</td>\n",
       "      <td>Cot</td>\n",
       "      <td>FEMALE</td>\n",
       "      <td>Not Available</td>\n",
       "      <td>37.0</td>\n",
       "      <td>GENERAL</td>\n",
       "      <td>Not Available</td>\n",
       "      <td>0</td>\n",
       "      <td>0</td>\n",
       "      <td>16734</td>\n",
       "      <td>4</td>\n",
       "      <td>16738</td>\n",
       "      <td>0.964180</td>\n",
       "      <td>1.557384</td>\n",
       "      <td>1735983</td>\n",
       "    </tr>\n",
       "    <tr>\n",
       "      <th>2190</th>\n",
       "      <td>Bihar</td>\n",
       "      <td>VAISHALI</td>\n",
       "      <td>Pankaj Kumar</td>\n",
       "      <td>0</td>\n",
       "      <td>IND</td>\n",
       "      <td>Camera</td>\n",
       "      <td>MALE</td>\n",
       "      <td>1</td>\n",
       "      <td>46.0</td>\n",
       "      <td>GENERAL</td>\n",
       "      <td>Graduate</td>\n",
       "      <td>25076000</td>\n",
       "      <td>200000</td>\n",
       "      <td>11979</td>\n",
       "      <td>2</td>\n",
       "      <td>11981</td>\n",
       "      <td>0.690157</td>\n",
       "      <td>1.114770</td>\n",
       "      <td>1735983</td>\n",
       "    </tr>\n",
       "    <tr>\n",
       "      <th>2218</th>\n",
       "      <td>Tamil Nadu</td>\n",
       "      <td>VILUPPURAM</td>\n",
       "      <td>ARASAN K</td>\n",
       "      <td>0</td>\n",
       "      <td>IND</td>\n",
       "      <td>Jackfruit</td>\n",
       "      <td>MALE</td>\n",
       "      <td>0</td>\n",
       "      <td>64.0</td>\n",
       "      <td>SC</td>\n",
       "      <td>Illiterate</td>\n",
       "      <td>330000</td>\n",
       "      <td>0</td>\n",
       "      <td>12778</td>\n",
       "      <td>3</td>\n",
       "      <td>12781</td>\n",
       "      <td>0.884906</td>\n",
       "      <td>1.124991</td>\n",
       "      <td>1444335</td>\n",
       "    </tr>\n",
       "    <tr>\n",
       "      <th>2258</th>\n",
       "      <td>Maharashtra</td>\n",
       "      <td>YAVATMAL-WASHIM</td>\n",
       "      <td>Anil Jayram Rathod</td>\n",
       "      <td>0</td>\n",
       "      <td>IND</td>\n",
       "      <td>SHIP</td>\n",
       "      <td>MALE</td>\n",
       "      <td>0</td>\n",
       "      <td>43.0</td>\n",
       "      <td>GENERAL</td>\n",
       "      <td>Post Graduate</td>\n",
       "      <td>4890000</td>\n",
       "      <td>1020000</td>\n",
       "      <td>14661</td>\n",
       "      <td>25</td>\n",
       "      <td>14686</td>\n",
       "      <td>0.766419</td>\n",
       "      <td>1.250060</td>\n",
       "      <td>1916185</td>\n",
       "    </tr>\n",
       "  </tbody>\n",
       "</table>\n",
       "<p>63 rows × 19 columns</p>\n",
       "</div>"
      ],
      "text/plain": [
       "               STATE     CONSTITUENCY                         NAME  WINNER  \\\n",
       "145   Andhra Pradesh            ARUKU            NARAVA SATYAVATHI       0   \n",
       "180            Bihar       AURANGABAD          SANTOSH KUMAR SINHA       0   \n",
       "182            Bihar       AURANGABAD                 YOGENDRA RAM       0   \n",
       "229          Gujarat      BANASKANTHA  PUROHIT SHYAMABEN NARANBHAI       0   \n",
       "252            Bihar            BANKA              MANOJ KUMAR SAH       0   \n",
       "...              ...              ...                          ...     ...   \n",
       "2187           Bihar         VAISHALI    Ismohamad alias Md. Munna       0   \n",
       "2188           Bihar         VAISHALI                  Rinkoo Devi       0   \n",
       "2190           Bihar         VAISHALI                 Pankaj Kumar       0   \n",
       "2218      Tamil Nadu       VILUPPURAM                     ARASAN K       0   \n",
       "2258     Maharashtra  YAVATMAL-WASHIM           Anil Jayram Rathod       0   \n",
       "\n",
       "     PARTY         SYMBOL  GENDER criminal_cases   AGE CATEGORY  \\\n",
       "145    IND        Bangles  FEMALE              0  37.0       ST   \n",
       "180    IND        Almirah    MALE              0  43.0  GENERAL   \n",
       "182    IND        Balloon    MALE              0  58.0       SC   \n",
       "229    IND        DIAMOND  FEMALE              0  33.0  GENERAL   \n",
       "252    IND          FLUTE    MALE              0  44.0  GENERAL   \n",
       "...    ...            ...     ...            ...   ...      ...   \n",
       "2187   IND  Bead Necklace    MALE              0  36.0  GENERAL   \n",
       "2188   IND            Cot  FEMALE  Not Available  37.0  GENERAL   \n",
       "2190   IND         Camera    MALE              1  46.0  GENERAL   \n",
       "2218   IND      Jackfruit    MALE              0  64.0       SC   \n",
       "2258   IND           SHIP    MALE              0  43.0  GENERAL   \n",
       "\n",
       "          EDUCATION    ASSETS  LIABILITIES  general_votes  postal_votes  \\\n",
       "145       10th Pass    964000            0          11231             5   \n",
       "180        Graduate   1275000            0          15010             4   \n",
       "182        8th Pass    155000            0          11979             8   \n",
       "229        Graduate   2578000      2306381          11064             5   \n",
       "252       10th Pass     41500            0          44394             4   \n",
       "...             ...       ...          ...            ...           ...   \n",
       "2187       Graduate   1595000            0          21855             2   \n",
       "2188  Not Available         0            0          16734             4   \n",
       "2190       Graduate  25076000       200000          11979             2   \n",
       "2218     Illiterate    330000            0          12778             3   \n",
       "2258  Post Graduate   4890000      1020000          14661            25   \n",
       "\n",
       "      total_votes  pct_over_total_electors_in_const  \\\n",
       "145         11236                          0.774139   \n",
       "180         15014                          0.861446   \n",
       "182         11987                          0.687768   \n",
       "229         11069                          0.652121   \n",
       "252         44398                          2.612578   \n",
       "...           ...                               ...   \n",
       "2187        21857                          1.259056   \n",
       "2188        16738                          0.964180   \n",
       "2190        11981                          0.690157   \n",
       "2218        12781                          0.884906   \n",
       "2258        14686                          0.766419   \n",
       "\n",
       "      pct_over_total_vote_poll_in_const  TOTAL ELECTORS  \n",
       "145                            1.042073         1451418  \n",
       "180                            1.604970         1742883  \n",
       "182                            1.281389         1742883  \n",
       "229                            1.002864         1697384  \n",
       "252                            4.458257         1699394  \n",
       "...                                 ...             ...  \n",
       "2187                           2.033680         1735983  \n",
       "2188                           1.557384         1735983  \n",
       "2190                           1.114770         1735983  \n",
       "2218                           1.124991         1444335  \n",
       "2258                           1.250060         1916185  \n",
       "\n",
       "[63 rows x 19 columns]"
      ]
     },
     "execution_count": 94,
     "metadata": {},
     "output_type": "execute_result"
    }
   ],
   "source": [
    "#Lets see if we have duplicate based on State+Constituency+Party. I want to check there should be single candidate from party.\n",
    "duplicate = df_elec[df_elec.duplicated(['STATE','CONSTITUENCY','PARTY'])]\n",
    "duplicate\n",
    "#we do have duplicates and that is because there are multiple Independent candidate (Party='IND') Which is valid scenario\n",
    "#duplicate.PARTY.unique()"
   ]
  },
  {
   "cell_type": "code",
   "execution_count": 95,
   "id": "599f98fa",
   "metadata": {},
   "outputs": [
    {
     "data": {
      "text/html": [
       "<div>\n",
       "<style scoped>\n",
       "    .dataframe tbody tr th:only-of-type {\n",
       "        vertical-align: middle;\n",
       "    }\n",
       "\n",
       "    .dataframe tbody tr th {\n",
       "        vertical-align: top;\n",
       "    }\n",
       "\n",
       "    .dataframe thead th {\n",
       "        text-align: right;\n",
       "    }\n",
       "</style>\n",
       "<table border=\"1\" class=\"dataframe\">\n",
       "  <thead>\n",
       "    <tr style=\"text-align: right;\">\n",
       "      <th></th>\n",
       "      <th>STATE</th>\n",
       "      <th>CONSTITUENCY</th>\n",
       "      <th>NAME</th>\n",
       "      <th>WINNER</th>\n",
       "      <th>PARTY</th>\n",
       "      <th>SYMBOL</th>\n",
       "      <th>GENDER</th>\n",
       "      <th>criminal_cases</th>\n",
       "      <th>AGE</th>\n",
       "      <th>CATEGORY</th>\n",
       "      <th>EDUCATION</th>\n",
       "      <th>ASSETS</th>\n",
       "      <th>LIABILITIES</th>\n",
       "      <th>general_votes</th>\n",
       "      <th>postal_votes</th>\n",
       "      <th>total_votes</th>\n",
       "      <th>pct_over_total_electors_in_const</th>\n",
       "      <th>pct_over_total_vote_poll_in_const</th>\n",
       "      <th>TOTAL ELECTORS</th>\n",
       "    </tr>\n",
       "  </thead>\n",
       "  <tbody>\n",
       "  </tbody>\n",
       "</table>\n",
       "</div>"
      ],
      "text/plain": [
       "Empty DataFrame\n",
       "Columns: [STATE, CONSTITUENCY, NAME, WINNER, PARTY, SYMBOL, GENDER, criminal_cases, AGE, CATEGORY, EDUCATION, ASSETS, LIABILITIES, general_votes, postal_votes, total_votes, pct_over_total_electors_in_const, pct_over_total_vote_poll_in_const, TOTAL ELECTORS]\n",
       "Index: []"
      ]
     },
     "execution_count": 95,
     "metadata": {},
     "output_type": "execute_result"
    }
   ],
   "source": [
    "#Lets see if we have duplicate based on State+Constituency+Party Excluding IND candidates. I want to check there should be single candidate from party for constituency.\n",
    "dups_chk = df_elec[df_elec.PARTY!='IND']\n",
    "duplicate = dups_chk[dups_chk.duplicated(['STATE','CONSTITUENCY','PARTY'])]\n",
    "duplicate"
   ]
  },
  {
   "cell_type": "markdown",
   "id": "79e091f5",
   "metadata": {},
   "source": [
    "=> This proves there are no duplicate based on key!"
   ]
  },
  {
   "cell_type": "markdown",
   "id": "074f56cd",
   "metadata": {},
   "source": [
    "### Use of Agg. Functions and adding columns in DF "
   ]
  },
  {
   "cell_type": "code",
   "execution_count": 96,
   "id": "77cb356f",
   "metadata": {},
   "outputs": [
    {
     "data": {
      "text/html": [
       "<div>\n",
       "<style scoped>\n",
       "    .dataframe tbody tr th:only-of-type {\n",
       "        vertical-align: middle;\n",
       "    }\n",
       "\n",
       "    .dataframe tbody tr th {\n",
       "        vertical-align: top;\n",
       "    }\n",
       "\n",
       "    .dataframe thead th {\n",
       "        text-align: right;\n",
       "    }\n",
       "</style>\n",
       "<table border=\"1\" class=\"dataframe\">\n",
       "  <thead>\n",
       "    <tr style=\"text-align: right;\">\n",
       "      <th></th>\n",
       "      <th>STATE</th>\n",
       "      <th>CONSTITUENCY</th>\n",
       "      <th>NAME</th>\n",
       "      <th>WINNER</th>\n",
       "      <th>PARTY</th>\n",
       "      <th>SYMBOL</th>\n",
       "      <th>GENDER</th>\n",
       "      <th>criminal_cases</th>\n",
       "      <th>AGE</th>\n",
       "      <th>CATEGORY</th>\n",
       "      <th>EDUCATION</th>\n",
       "      <th>ASSETS</th>\n",
       "      <th>LIABILITIES</th>\n",
       "      <th>general_votes</th>\n",
       "      <th>postal_votes</th>\n",
       "      <th>total_votes</th>\n",
       "      <th>pct_over_total_electors_in_const</th>\n",
       "      <th>pct_over_total_vote_poll_in_const</th>\n",
       "      <th>TOTAL ELECTORS</th>\n",
       "      <th>tot_vote_casted</th>\n",
       "    </tr>\n",
       "  </thead>\n",
       "  <tbody>\n",
       "    <tr>\n",
       "      <th>0</th>\n",
       "      <td>Telangana</td>\n",
       "      <td>ADILABAD</td>\n",
       "      <td>SOYAM BAPU RAO</td>\n",
       "      <td>1</td>\n",
       "      <td>BJP</td>\n",
       "      <td>Lotus</td>\n",
       "      <td>MALE</td>\n",
       "      <td>52</td>\n",
       "      <td>52.0</td>\n",
       "      <td>ST</td>\n",
       "      <td>12th Pass</td>\n",
       "      <td>3099414</td>\n",
       "      <td>231450</td>\n",
       "      <td>376892</td>\n",
       "      <td>482</td>\n",
       "      <td>377374</td>\n",
       "      <td>25.330684</td>\n",
       "      <td>35.468248</td>\n",
       "      <td>1489790</td>\n",
       "      <td>1023462</td>\n",
       "    </tr>\n",
       "    <tr>\n",
       "      <th>1</th>\n",
       "      <td>Telangana</td>\n",
       "      <td>ADILABAD</td>\n",
       "      <td>Godam Nagesh</td>\n",
       "      <td>0</td>\n",
       "      <td>TRS</td>\n",
       "      <td>Car</td>\n",
       "      <td>MALE</td>\n",
       "      <td>0</td>\n",
       "      <td>54.0</td>\n",
       "      <td>ST</td>\n",
       "      <td>Post Graduate</td>\n",
       "      <td>18477888</td>\n",
       "      <td>847000</td>\n",
       "      <td>318665</td>\n",
       "      <td>149</td>\n",
       "      <td>318814</td>\n",
       "      <td>21.399929</td>\n",
       "      <td>29.964370</td>\n",
       "      <td>1489790</td>\n",
       "      <td>1023462</td>\n",
       "    </tr>\n",
       "    <tr>\n",
       "      <th>2</th>\n",
       "      <td>Telangana</td>\n",
       "      <td>ADILABAD</td>\n",
       "      <td>RATHOD RAMESH</td>\n",
       "      <td>0</td>\n",
       "      <td>INC</td>\n",
       "      <td>Hand</td>\n",
       "      <td>MALE</td>\n",
       "      <td>3</td>\n",
       "      <td>52.0</td>\n",
       "      <td>ST</td>\n",
       "      <td>12th Pass</td>\n",
       "      <td>36491000</td>\n",
       "      <td>15300000</td>\n",
       "      <td>314057</td>\n",
       "      <td>181</td>\n",
       "      <td>314238</td>\n",
       "      <td>21.092771</td>\n",
       "      <td>29.534285</td>\n",
       "      <td>1489790</td>\n",
       "      <td>1023462</td>\n",
       "    </tr>\n",
       "    <tr>\n",
       "      <th>3</th>\n",
       "      <td>Telangana</td>\n",
       "      <td>ADILABAD</td>\n",
       "      <td>NOTA</td>\n",
       "      <td>0</td>\n",
       "      <td>NOTA</td>\n",
       "      <td>NoNoNo</td>\n",
       "      <td>N/A</td>\n",
       "      <td>0</td>\n",
       "      <td>0.0</td>\n",
       "      <td>N/A</td>\n",
       "      <td>Not Available</td>\n",
       "      <td>0</td>\n",
       "      <td>0</td>\n",
       "      <td>13030</td>\n",
       "      <td>6</td>\n",
       "      <td>13036</td>\n",
       "      <td>0.875023</td>\n",
       "      <td>1.225214</td>\n",
       "      <td>1489790</td>\n",
       "      <td>1023462</td>\n",
       "    </tr>\n",
       "    <tr>\n",
       "      <th>4</th>\n",
       "      <td>Uttar Pradesh</td>\n",
       "      <td>AGRA</td>\n",
       "      <td>Satyapal Singh Baghel</td>\n",
       "      <td>1</td>\n",
       "      <td>BJP</td>\n",
       "      <td>Lotus</td>\n",
       "      <td>MALE</td>\n",
       "      <td>5</td>\n",
       "      <td>58.0</td>\n",
       "      <td>SC</td>\n",
       "      <td>Doctorate</td>\n",
       "      <td>74274036</td>\n",
       "      <td>8606522</td>\n",
       "      <td>644459</td>\n",
       "      <td>2416</td>\n",
       "      <td>646875</td>\n",
       "      <td>33.383823</td>\n",
       "      <td>56.464615</td>\n",
       "      <td>1937690</td>\n",
       "      <td>1127353</td>\n",
       "    </tr>\n",
       "    <tr>\n",
       "      <th>...</th>\n",
       "      <td>...</td>\n",
       "      <td>...</td>\n",
       "      <td>...</td>\n",
       "      <td>...</td>\n",
       "      <td>...</td>\n",
       "      <td>...</td>\n",
       "      <td>...</td>\n",
       "      <td>...</td>\n",
       "      <td>...</td>\n",
       "      <td>...</td>\n",
       "      <td>...</td>\n",
       "      <td>...</td>\n",
       "      <td>...</td>\n",
       "      <td>...</td>\n",
       "      <td>...</td>\n",
       "      <td>...</td>\n",
       "      <td>...</td>\n",
       "      <td>...</td>\n",
       "      <td>...</td>\n",
       "      <td>...</td>\n",
       "    </tr>\n",
       "    <tr>\n",
       "      <th>2258</th>\n",
       "      <td>Maharashtra</td>\n",
       "      <td>YAVATMAL-WASHIM</td>\n",
       "      <td>Anil Jayram Rathod</td>\n",
       "      <td>0</td>\n",
       "      <td>IND</td>\n",
       "      <td>SHIP</td>\n",
       "      <td>MALE</td>\n",
       "      <td>0</td>\n",
       "      <td>43.0</td>\n",
       "      <td>GENERAL</td>\n",
       "      <td>Post Graduate</td>\n",
       "      <td>4890000</td>\n",
       "      <td>1020000</td>\n",
       "      <td>14661</td>\n",
       "      <td>25</td>\n",
       "      <td>14686</td>\n",
       "      <td>0.766419</td>\n",
       "      <td>1.250060</td>\n",
       "      <td>1916185</td>\n",
       "      <td>1120290</td>\n",
       "    </tr>\n",
       "    <tr>\n",
       "      <th>2259</th>\n",
       "      <td>Telangana</td>\n",
       "      <td>ZAHIRABAD</td>\n",
       "      <td>B.B.PATIL</td>\n",
       "      <td>1</td>\n",
       "      <td>TRS</td>\n",
       "      <td>Car</td>\n",
       "      <td>MALE</td>\n",
       "      <td>18</td>\n",
       "      <td>63.0</td>\n",
       "      <td>GENERAL</td>\n",
       "      <td>Graduate</td>\n",
       "      <td>1287851556</td>\n",
       "      <td>11535000</td>\n",
       "      <td>434066</td>\n",
       "      <td>178</td>\n",
       "      <td>434244</td>\n",
       "      <td>28.975369</td>\n",
       "      <td>41.574183</td>\n",
       "      <td>1498666</td>\n",
       "      <td>1012346</td>\n",
       "    </tr>\n",
       "    <tr>\n",
       "      <th>2260</th>\n",
       "      <td>Telangana</td>\n",
       "      <td>ZAHIRABAD</td>\n",
       "      <td>MADAN MOHAN RAO</td>\n",
       "      <td>0</td>\n",
       "      <td>INC</td>\n",
       "      <td>Hand</td>\n",
       "      <td>MALE</td>\n",
       "      <td>0</td>\n",
       "      <td>49.0</td>\n",
       "      <td>GENERAL</td>\n",
       "      <td>Post Graduate</td>\n",
       "      <td>903663001</td>\n",
       "      <td>0</td>\n",
       "      <td>427900</td>\n",
       "      <td>115</td>\n",
       "      <td>428015</td>\n",
       "      <td>28.559732</td>\n",
       "      <td>40.977823</td>\n",
       "      <td>1498666</td>\n",
       "      <td>1012346</td>\n",
       "    </tr>\n",
       "    <tr>\n",
       "      <th>2261</th>\n",
       "      <td>Telangana</td>\n",
       "      <td>ZAHIRABAD</td>\n",
       "      <td>BANALA LAXMA REDDY</td>\n",
       "      <td>0</td>\n",
       "      <td>BJP</td>\n",
       "      <td>Lotus</td>\n",
       "      <td>MALE</td>\n",
       "      <td>3</td>\n",
       "      <td>47.0</td>\n",
       "      <td>GENERAL</td>\n",
       "      <td>12th Pass</td>\n",
       "      <td>58577327</td>\n",
       "      <td>5250000</td>\n",
       "      <td>138731</td>\n",
       "      <td>216</td>\n",
       "      <td>138947</td>\n",
       "      <td>9.271379</td>\n",
       "      <td>13.302678</td>\n",
       "      <td>1498666</td>\n",
       "      <td>1012346</td>\n",
       "    </tr>\n",
       "    <tr>\n",
       "      <th>2262</th>\n",
       "      <td>Telangana</td>\n",
       "      <td>ZAHIRABAD</td>\n",
       "      <td>NOTA</td>\n",
       "      <td>0</td>\n",
       "      <td>NOTA</td>\n",
       "      <td>NoNoNo</td>\n",
       "      <td>N/A</td>\n",
       "      <td>0</td>\n",
       "      <td>0.0</td>\n",
       "      <td>N/A</td>\n",
       "      <td>Not Available</td>\n",
       "      <td>0</td>\n",
       "      <td>0</td>\n",
       "      <td>11138</td>\n",
       "      <td>2</td>\n",
       "      <td>11140</td>\n",
       "      <td>0.743328</td>\n",
       "      <td>1.066535</td>\n",
       "      <td>1498666</td>\n",
       "      <td>1012346</td>\n",
       "    </tr>\n",
       "  </tbody>\n",
       "</table>\n",
       "<p>2263 rows × 20 columns</p>\n",
       "</div>"
      ],
      "text/plain": [
       "              STATE     CONSTITUENCY                   NAME  WINNER PARTY  \\\n",
       "0         Telangana         ADILABAD         SOYAM BAPU RAO       1   BJP   \n",
       "1         Telangana         ADILABAD           Godam Nagesh       0   TRS   \n",
       "2         Telangana         ADILABAD          RATHOD RAMESH       0   INC   \n",
       "3         Telangana         ADILABAD                   NOTA       0  NOTA   \n",
       "4     Uttar Pradesh             AGRA  Satyapal Singh Baghel       1   BJP   \n",
       "...             ...              ...                    ...     ...   ...   \n",
       "2258    Maharashtra  YAVATMAL-WASHIM     Anil Jayram Rathod       0   IND   \n",
       "2259      Telangana        ZAHIRABAD              B.B.PATIL       1   TRS   \n",
       "2260      Telangana        ZAHIRABAD        MADAN MOHAN RAO       0   INC   \n",
       "2261      Telangana        ZAHIRABAD     BANALA LAXMA REDDY       0   BJP   \n",
       "2262      Telangana        ZAHIRABAD                   NOTA       0  NOTA   \n",
       "\n",
       "      SYMBOL GENDER criminal_cases   AGE CATEGORY      EDUCATION      ASSETS  \\\n",
       "0      Lotus   MALE             52  52.0       ST      12th Pass     3099414   \n",
       "1        Car   MALE              0  54.0       ST  Post Graduate    18477888   \n",
       "2       Hand   MALE              3  52.0       ST      12th Pass    36491000   \n",
       "3     NoNoNo    N/A              0   0.0      N/A  Not Available           0   \n",
       "4      Lotus   MALE              5  58.0       SC      Doctorate    74274036   \n",
       "...      ...    ...            ...   ...      ...            ...         ...   \n",
       "2258    SHIP   MALE              0  43.0  GENERAL  Post Graduate     4890000   \n",
       "2259     Car   MALE             18  63.0  GENERAL       Graduate  1287851556   \n",
       "2260    Hand   MALE              0  49.0  GENERAL  Post Graduate   903663001   \n",
       "2261   Lotus   MALE              3  47.0  GENERAL      12th Pass    58577327   \n",
       "2262  NoNoNo    N/A              0   0.0      N/A  Not Available           0   \n",
       "\n",
       "      LIABILITIES  general_votes  postal_votes  total_votes  \\\n",
       "0          231450         376892           482       377374   \n",
       "1          847000         318665           149       318814   \n",
       "2        15300000         314057           181       314238   \n",
       "3               0          13030             6        13036   \n",
       "4         8606522         644459          2416       646875   \n",
       "...           ...            ...           ...          ...   \n",
       "2258      1020000          14661            25        14686   \n",
       "2259     11535000         434066           178       434244   \n",
       "2260            0         427900           115       428015   \n",
       "2261      5250000         138731           216       138947   \n",
       "2262            0          11138             2        11140   \n",
       "\n",
       "      pct_over_total_electors_in_const  pct_over_total_vote_poll_in_const  \\\n",
       "0                            25.330684                          35.468248   \n",
       "1                            21.399929                          29.964370   \n",
       "2                            21.092771                          29.534285   \n",
       "3                             0.875023                           1.225214   \n",
       "4                            33.383823                          56.464615   \n",
       "...                                ...                                ...   \n",
       "2258                          0.766419                           1.250060   \n",
       "2259                         28.975369                          41.574183   \n",
       "2260                         28.559732                          40.977823   \n",
       "2261                          9.271379                          13.302678   \n",
       "2262                          0.743328                           1.066535   \n",
       "\n",
       "      TOTAL ELECTORS  tot_vote_casted  \n",
       "0            1489790          1023462  \n",
       "1            1489790          1023462  \n",
       "2            1489790          1023462  \n",
       "3            1489790          1023462  \n",
       "4            1937690          1127353  \n",
       "...              ...              ...  \n",
       "2258         1916185          1120290  \n",
       "2259         1498666          1012346  \n",
       "2260         1498666          1012346  \n",
       "2261         1498666          1012346  \n",
       "2262         1498666          1012346  \n",
       "\n",
       "[2263 rows x 20 columns]"
      ]
     },
     "execution_count": 96,
     "metadata": {},
     "output_type": "execute_result"
    }
   ],
   "source": [
    "#Let's Add column using Group by to find Total Votes casted in constituency\n",
    "df_elec[\"tot_vote_casted\"] = df_elec.groupby([\"STATE\",\"CONSTITUENCY\"])[\"total_votes\"].transform('sum')\n",
    "df_elec"
   ]
  },
  {
   "cell_type": "code",
   "execution_count": 97,
   "id": "b5d35e1b",
   "metadata": {},
   "outputs": [
    {
     "name": "stdout",
     "output_type": "stream",
     "text": [
      "<class 'pandas.core.frame.DataFrame'>\n",
      "RangeIndex: 2263 entries, 0 to 2262\n",
      "Data columns (total 21 columns):\n",
      " #   Column                             Non-Null Count  Dtype  \n",
      "---  ------                             --------------  -----  \n",
      " 0   STATE                              2263 non-null   object \n",
      " 1   CONSTITUENCY                       2263 non-null   object \n",
      " 2   NAME                               2263 non-null   object \n",
      " 3   WINNER                             2263 non-null   int64  \n",
      " 4   PARTY                              2263 non-null   object \n",
      " 5   SYMBOL                             2263 non-null   object \n",
      " 6   GENDER                             2263 non-null   object \n",
      " 7   criminal_cases                     2263 non-null   int32  \n",
      " 8   AGE                                2263 non-null   float64\n",
      " 9   CATEGORY                           2263 non-null   object \n",
      " 10  EDUCATION                          2263 non-null   object \n",
      " 11  ASSETS                             2263 non-null   int64  \n",
      " 12  LIABILITIES                        2263 non-null   int64  \n",
      " 13  general_votes                      2263 non-null   int64  \n",
      " 14  postal_votes                       2263 non-null   int64  \n",
      " 15  total_votes                        2263 non-null   int64  \n",
      " 16  pct_over_total_electors_in_const   2263 non-null   float64\n",
      " 17  pct_over_total_vote_poll_in_const  2263 non-null   float64\n",
      " 18  TOTAL ELECTORS                     2263 non-null   int64  \n",
      " 19  tot_vote_casted                    2263 non-null   int64  \n",
      " 20  criminal_cases_by_party            2263 non-null   int32  \n",
      "dtypes: float64(3), int32(2), int64(8), object(8)\n",
      "memory usage: 353.7+ KB\n"
     ]
    }
   ],
   "source": [
    "#Fixing criminal_cases column\n",
    "df_elec['criminal_cases'].replace(to_replace='Not Available', value='0', inplace=True)\n",
    "df_elec['criminal_cases'] = df_elec['criminal_cases'].astype(int)\n",
    "df_elec[\"criminal_cases_by_party\"] = df_elec.groupby([\"STATE\",\"CONSTITUENCY\",\"PARTY\"])[\"criminal_cases\"].transform('sum')\n",
    "\n",
    "df_elec.info()"
   ]
  },
  {
   "cell_type": "markdown",
   "id": "7181afba",
   "metadata": {},
   "source": [
    "### I think we have good clean data now, Let's try to find some insights"
   ]
  },
  {
   "cell_type": "code",
   "execution_count": 98,
   "id": "cdb63062",
   "metadata": {},
   "outputs": [
    {
     "data": {
      "image/png": "[encoded data removed]",
      "text/plain": [
       "<Figure size 432x288 with 1 Axes>"
      ]
     },
     "metadata": {},
     "output_type": "display_data"
    }
   ],
   "source": [
    "#Lets see different spread across Party for winning candidate\n",
    "winners = df_elec[df_elec['WINNER'] == 1]\n",
    "\n",
    "#pie(x, explode, labels, colors, autopct, pctdistance, shadow, labeldistance, startangle, radius, \n",
    "#counterclock, wedgeprops, textprops, center, frame, rotatelabels, normalize, data)\n",
    "\n",
    "chart_labels = winners['PARTY'].unique() \n",
    "fig1, ax1 = plt.subplots()\n",
    "ax1.pie(winners['PARTY'].value_counts(), labels=chart_labels, autopct='%.1f%%',shadow=True, startangle=90,  radius=3)\n",
    "\n",
    "plt.show()"
   ]
  },
  {
   "cell_type": "markdown",
   "id": "ec1317b7",
   "metadata": {},
   "source": [
    "==> This shows party named 'BJP' is clear winner having more then 50% of the share"
   ]
  },
  {
   "cell_type": "code",
   "execution_count": 99,
   "id": "46f36251",
   "metadata": {},
   "outputs": [
    {
     "data": {
      "image/png": "[encoded data removed]",
      "text/plain": [
       "<Figure size 432x288 with 1 Axes>"
      ]
     },
     "metadata": {
      "needs_background": "light"
     },
     "output_type": "display_data"
    },
    {
     "data": {
      "image/png": "[encoded data removed]",
      "text/plain": [
       "<Figure size 432x288 with 1 Axes>"
      ]
     },
     "metadata": {
      "needs_background": "light"
     },
     "output_type": "display_data"
    },
    {
     "data": {
      "image/png": "[encoded data removed]",
      "text/plain": [
       "<Figure size 432x288 with 1 Axes>"
      ]
     },
     "metadata": {
      "needs_background": "light"
     },
     "output_type": "display_data"
    },
    {
     "data": {
      "image/png": "[encoded data removed]",
      "text/plain": [
       "<Figure size 432x288 with 1 Axes>"
      ]
     },
     "metadata": {
      "needs_background": "light"
     },
     "output_type": "display_data"
    },
    {
     "data": {
      "image/png": "[encoded data removed]",
      "text/plain": [
       "<Figure size 432x288 with 1 Axes>"
      ]
     },
     "metadata": {
      "needs_background": "light"
     },
     "output_type": "display_data"
    },
    {
     "data": {
      "image/png": "[encoded data removed]",
      "text/plain": [
       "<Figure size 432x288 with 1 Axes>"
      ]
     },
     "metadata": {
      "needs_background": "light"
     },
     "output_type": "display_data"
    },
    {
     "data": {
      "image/png": "[encoded data removed]",
      "text/plain": [
       "<Figure size 432x288 with 1 Axes>"
      ]
     },
     "metadata": {
      "needs_background": "light"
     },
     "output_type": "display_data"
    },
    {
     "data": {
      "image/png": "[encoded data removed]",
      "text/plain": [
       "<Figure size 432x288 with 1 Axes>"
      ]
     },
     "metadata": {
      "needs_background": "light"
     },
     "output_type": "display_data"
    },
    {
     "data": {
      "image/png": "[encoded data removed]",
      "text/plain": [
       "<Figure size 432x288 with 1 Axes>"
      ]
     },
     "metadata": {
      "needs_background": "light"
     },
     "output_type": "display_data"
    },
    {
     "data": {
      "image/png": "[encoded data removed]",
      "text/plain": [
       "<Figure size 432x288 with 1 Axes>"
      ]
     },
     "metadata": {
      "needs_background": "light"
     },
     "output_type": "display_data"
    },
    {
     "data": {
      "image/png": "[encoded data removed]",
      "text/plain": [
       "<Figure size 432x288 with 1 Axes>"
      ]
     },
     "metadata": {
      "needs_background": "light"
     },
     "output_type": "display_data"
    },
    {
     "data": {
      "image/png": "[encoded data removed]",
      "text/plain": [
       "<Figure size 432x288 with 1 Axes>"
      ]
     },
     "metadata": {
      "needs_background": "light"
     },
     "output_type": "display_data"
    },
    {
     "data": {
      "image/png": "[encoded data removed]",
      "text/plain": [
       "<Figure size 432x288 with 1 Axes>"
      ]
     },
     "metadata": {
      "needs_background": "light"
     },
     "output_type": "display_data"
    },
    {
     "data": {
      "image/png": "[encoded data removed]",
      "text/plain": [
       "<Figure size 432x288 with 1 Axes>"
      ]
     },
     "metadata": {
      "needs_background": "light"
     },
     "output_type": "display_data"
    },
    {
     "data": {
      "image/png": "[encoded data removed]",
      "text/plain": [
       "<Figure size 432x288 with 1 Axes>"
      ]
     },
     "metadata": {
      "needs_background": "light"
     },
     "output_type": "display_data"
    },
    {
     "data": {
      "image/png": "[encoded data removed]",
      "text/plain": [
       "<Figure size 432x288 with 1 Axes>"
      ]
     },
     "metadata": {
      "needs_background": "light"
     },
     "output_type": "display_data"
    },
    {
     "data": {
      "image/png": "[encoded data removed]",
      "text/plain": [
       "<Figure size 432x288 with 1 Axes>"
      ]
     },
     "metadata": {
      "needs_background": "light"
     },
     "output_type": "display_data"
    },
    {
     "data": {
      "image/png": "[encoded data removed]",
      "text/plain": [
       "<Figure size 432x288 with 1 Axes>"
      ]
     },
     "metadata": {
      "needs_background": "light"
     },
     "output_type": "display_data"
    },
    {
     "data": {
      "image/png": "[encoded data removed]",
      "text/plain": [
       "<Figure size 432x288 with 1 Axes>"
      ]
     },
     "metadata": {
      "needs_background": "light"
     },
     "output_type": "display_data"
    },
    {
     "data": {
      "image/png": "[encoded data removed]",
      "text/plain": [
       "<Figure size 432x288 with 1 Axes>"
      ]
     },
     "metadata": {
      "needs_background": "light"
     },
     "output_type": "display_data"
    },
    {
     "data": {
      "image/png": "[encoded data removed]",
      "text/plain": [
       "<Figure size 432x288 with 1 Axes>"
      ]
     },
     "metadata": {
      "needs_background": "light"
     },
     "output_type": "display_data"
    },
    {
     "data": {
      "image/png": "[encoded data removed]",
      "text/plain": [
       "<Figure size 432x288 with 1 Axes>"
      ]
     },
     "metadata": {
      "needs_background": "light"
     },
     "output_type": "display_data"
    },
    {
     "data": {
      "image/png": "[encoded data removed]",
      "text/plain": [
       "<Figure size 432x288 with 1 Axes>"
      ]
     },
     "metadata": {
      "needs_background": "light"
     },
     "output_type": "display_data"
    },
    {
     "data": {
      "image/png": "[encoded data removed]",
      "text/plain": [
       "<Figure size 432x288 with 1 Axes>"
      ]
     },
     "metadata": {
      "needs_background": "light"
     },
     "output_type": "display_data"
    },
    {
     "data": {
      "image/png": "[encoded data removed]",
      "text/plain": [
       "<Figure size 432x288 with 1 Axes>"
      ]
     },
     "metadata": {
      "needs_background": "light"
     },
     "output_type": "display_data"
    },
    {
     "data": {
      "image/png": "[encoded data removed]",
      "text/plain": [
       "<Figure size 432x288 with 1 Axes>"
      ]
     },
     "metadata": {
      "needs_background": "light"
     },
     "output_type": "display_data"
    },
    {
     "data": {
      "image/png": "[encoded data removed]",
      "text/plain": [
       "<Figure size 432x288 with 1 Axes>"
      ]
     },
     "metadata": {
      "needs_background": "light"
     },
     "output_type": "display_data"
    },
    {
     "data": {
      "image/png": "[encoded data removed]",
      "text/plain": [
       "<Figure size 432x288 with 1 Axes>"
      ]
     },
     "metadata": {
      "needs_background": "light"
     },
     "output_type": "display_data"
    },
    {
     "data": {
      "image/png": "[encoded data removed]",
      "text/plain": [
       "<Figure size 432x288 with 1 Axes>"
      ]
     },
     "metadata": {
      "needs_background": "light"
     },
     "output_type": "display_data"
    },
    {
     "data": {
      "image/png": "[encoded data removed]",
      "text/plain": [
       "<Figure size 432x288 with 1 Axes>"
      ]
     },
     "metadata": {
      "needs_background": "light"
     },
     "output_type": "display_data"
    },
    {
     "data": {
      "image/png": "[encoded data removed]",
      "text/plain": [
       "<Figure size 432x288 with 1 Axes>"
      ]
     },
     "metadata": {
      "needs_background": "light"
     },
     "output_type": "display_data"
    },
    {
     "data": {
      "image/png": "[encoded data removed]",
      "text/plain": [
       "<Figure size 432x288 with 1 Axes>"
      ]
     },
     "metadata": {
      "needs_background": "light"
     },
     "output_type": "display_data"
    },
    {
     "data": {
      "image/png": "[encoded data removed]",
      "text/plain": [
       "<Figure size 432x288 with 1 Axes>"
      ]
     },
     "metadata": {
      "needs_background": "light"
     },
     "output_type": "display_data"
    },
    {
     "data": {
      "image/png": "[encoded data removed]",
      "text/plain": [
       "<Figure size 432x288 with 1 Axes>"
      ]
     },
     "metadata": {
      "needs_background": "light"
     },
     "output_type": "display_data"
    },
    {
     "data": {
      "image/png": "[encoded data removed]",
      "text/plain": [
       "<Figure size 432x288 with 1 Axes>"
      ]
     },
     "metadata": {
      "needs_background": "light"
     },
     "output_type": "display_data"
    },
    {
     "data": {
      "image/png": "[encoded data removed]",
      "text/plain": [
       "<Figure size 432x288 with 1 Axes>"
      ]
     },
     "metadata": {
      "needs_background": "light"
     },
     "output_type": "display_data"
    }
   ],
   "source": [
    "#Lets see if we have major difference in Vote% this will show if the gap was big or thin\n",
    "\n",
    "df_state = df_elec['STATE'].unique()\n",
    "for st in df_state:\n",
    "    df = df_elec[df_elec['STATE'] == st]\n",
    "    y = df.groupby([\"PARTY\"])['pct_over_total_vote_poll_in_const'].mean()\n",
    "    x = df['PARTY'].unique()\n",
    "    fig1, ax1 = plt.subplots()\n",
    "    ax1.bar(x,y)\n",
    "    ax1.set_title(st)\n",
    "    ax1.set_xlabel(\"Patry\")\n",
    "    ax1.set_ylabel(\"Vote %\")\n",
    "    ax1.tick_params(axis='x', rotation=70)\n",
    "    plt.show()"
   ]
  },
  {
   "cell_type": "code",
   "execution_count": 100,
   "id": "2189db37",
   "metadata": {},
   "outputs": [
    {
     "data": {
      "application/vnd.plotly.v1+json": {
       "config": {
        "plotlyServerURL": "https://plot.ly"
       },
       "data": [
        {
         "alignmentgroup": "True",
         "hovertemplate": "HAS CRIMINAL CASE=%{x}<br>COUNT=%{y}<br>WINNER=%{marker.color}<extra></extra>",
         "legendgroup": "",
         "marker": {
          "color": [
           0,
           1,
           0,
           1
          ],
          "coloraxis": "coloraxis",
          "pattern": {
           "shape": ""
          }
         },
         "name": "",
         "offsetgroup": "",
         "orientation": "v",
         "showlegend": false,
         "textposition": "auto",
         "type": "bar",
         "x": [
          "No",
          "No",
          "Yes",
          "Yes"
         ],
         "xaxis": "x",
         "y": [
          1203,
          306,
          521,
          233
         ],
         "yaxis": "y"
        }
       ],
       "layout": {
        "barmode": "relative",
        "coloraxis": {
         "colorbar": {
          "title": {
           "text": "WINNER"
          }
         },
         "colorscale": [
          [
           0,
           "#0d0887"
          ],
          [
           0.1111111111111111,
           "#46039f"
          ],
          [
           0.2222222222222222,
           "#7201a8"
          ],
          [
           0.3333333333333333,
           "#9c179e"
          ],
          [
           0.4444444444444444,
           "#bd3786"
          ],
          [
           0.5555555555555556,
           "#d8576b"
          ],
          [
           0.6666666666666666,
           "#ed7953"
          ],
          [
           0.7777777777777778,
           "#fb9f3a"
          ],
          [
           0.8888888888888888,
           "#fdca26"
          ],
          [
           1,
           "#f0f921"
          ]
         ]
        },
        "legend": {
         "tracegroupgap": 0
        },
        "margin": {
         "t": 60
        },
        "template": {
         "data": {
          "bar": [
           {
            "error_x": {
             "color": "#2a3f5f"
            },
            "error_y": {
             "color": "#2a3f5f"
            },
            "marker": {
             "line": {
              "color": "#E5ECF6",
              "width": 0.5
             },
             "pattern": {
              "fillmode": "overlay",
              "size": 10,
              "solidity": 0.2
             }
            },
            "type": "bar"
           }
          ],
          "barpolar": [
           {
            "marker": {
             "line": {
              "color": "#E5ECF6",
              "width": 0.5
             },
             "pattern": {
              "fillmode": "overlay",
              "size": 10,
              "solidity": 0.2
             }
            },
            "type": "barpolar"
           }
          ],
          "carpet": [
           {
            "aaxis": {
             "endlinecolor": "#2a3f5f",
             "gridcolor": "white",
             "linecolor": "white",
             "minorgridcolor": "white",
             "startlinecolor": "#2a3f5f"
            },
            "baxis": {
             "endlinecolor": "#2a3f5f",
             "gridcolor": "white",
             "linecolor": "white",
             "minorgridcolor": "white",
             "startlinecolor": "#2a3f5f"
            },
            "type": "carpet"
           }
          ],
          "choropleth": [
           {
            "colorbar": {
             "outlinewidth": 0,
             "ticks": ""
            },
            "type": "choropleth"
           }
          ],
          "contour": [
           {
            "colorbar": {
             "outlinewidth": 0,
             "ticks": ""
            },
            "colorscale": [
             [
              0,
              "#0d0887"
             ],
             [
              0.1111111111111111,
              "#46039f"
             ],
             [
              0.2222222222222222,
              "#7201a8"
             ],
             [
              0.3333333333333333,
              "#9c179e"
             ],
             [
              0.4444444444444444,
              "#bd3786"
             ],
             [
              0.5555555555555556,
              "#d8576b"
             ],
             [
              0.6666666666666666,
              "#ed7953"
             ],
             [
              0.7777777777777778,
              "#fb9f3a"
             ],
             [
              0.8888888888888888,
              "#fdca26"
             ],
             [
              1,
              "#f0f921"
             ]
            ],
            "type": "contour"
           }
          ],
          "contourcarpet": [
           {
            "colorbar": {
             "outlinewidth": 0,
             "ticks": ""
            },
            "type": "contourcarpet"
           }
          ],
          "heatmap": [
           {
            "colorbar": {
             "outlinewidth": 0,
             "ticks": ""
            },
            "colorscale": [
             [
              0,
              "#0d0887"
             ],
             [
              0.1111111111111111,
              "#46039f"
             ],
             [
              0.2222222222222222,
              "#7201a8"
             ],
             [
              0.3333333333333333,
              "#9c179e"
             ],
             [
              0.4444444444444444,
              "#bd3786"
             ],
             [
              0.5555555555555556,
              "#d8576b"
             ],
             [
              0.6666666666666666,
              "#ed7953"
             ],
             [
              0.7777777777777778,
              "#fb9f3a"
             ],
             [
              0.8888888888888888,
              "#fdca26"
             ],
             [
              1,
              "#f0f921"
             ]
            ],
            "type": "heatmap"
           }
          ],
          "heatmapgl": [
           {
            "colorbar": {
             "outlinewidth": 0,
             "ticks": ""
            },
            "colorscale": [
             [
              0,
              "#0d0887"
             ],
             [
              0.1111111111111111,
              "#46039f"
             ],
             [
              0.2222222222222222,
              "#7201a8"
             ],
             [
              0.3333333333333333,
              "#9c179e"
             ],
             [
              0.4444444444444444,
              "#bd3786"
             ],
             [
              0.5555555555555556,
              "#d8576b"
             ],
             [
              0.6666666666666666,
              "#ed7953"
             ],
             [
              0.7777777777777778,
              "#fb9f3a"
             ],
             [
              0.8888888888888888,
              "#fdca26"
             ],
             [
              1,
              "#f0f921"
             ]
            ],
            "type": "heatmapgl"
           }
          ],
          "histogram": [
           {
            "marker": {
             "pattern": {
              "fillmode": "overlay",
              "size": 10,
              "solidity": 0.2
             }
            },
            "type": "histogram"
           }
          ],
          "histogram2d": [
           {
            "colorbar": {
             "outlinewidth": 0,
             "ticks": ""
            },
            "colorscale": [
             [
              0,
              "#0d0887"
             ],
             [
              0.1111111111111111,
              "#46039f"
             ],
             [
              0.2222222222222222,
              "#7201a8"
             ],
             [
              0.3333333333333333,
              "#9c179e"
             ],
             [
              0.4444444444444444,
              "#bd3786"
             ],
             [
              0.5555555555555556,
              "#d8576b"
             ],
             [
              0.6666666666666666,
              "#ed7953"
             ],
             [
              0.7777777777777778,
              "#fb9f3a"
             ],
             [
              0.8888888888888888,
              "#fdca26"
             ],
             [
              1,
              "#f0f921"
             ]
            ],
            "type": "histogram2d"
           }
          ],
          "histogram2dcontour": [
           {
            "colorbar": {
             "outlinewidth": 0,
             "ticks": ""
            },
            "colorscale": [
             [
              0,
              "#0d0887"
             ],
             [
              0.1111111111111111,
              "#46039f"
             ],
             [
              0.2222222222222222,
              "#7201a8"
             ],
             [
              0.3333333333333333,
              "#9c179e"
             ],
             [
              0.4444444444444444,
              "#bd3786"
             ],
             [
              0.5555555555555556,
              "#d8576b"
             ],
             [
              0.6666666666666666,
              "#ed7953"
             ],
             [
              0.7777777777777778,
              "#fb9f3a"
             ],
             [
              0.8888888888888888,
              "#fdca26"
             ],
             [
              1,
              "#f0f921"
             ]
            ],
            "type": "histogram2dcontour"
           }
          ],
          "mesh3d": [
           {
            "colorbar": {
             "outlinewidth": 0,
             "ticks": ""
            },
            "type": "mesh3d"
           }
          ],
          "parcoords": [
           {
            "line": {
             "colorbar": {
              "outlinewidth": 0,
              "ticks": ""
             }
            },
            "type": "parcoords"
           }
          ],
          "pie": [
           {
            "automargin": true,
            "type": "pie"
           }
          ],
          "scatter": [
           {
            "marker": {
             "colorbar": {
              "outlinewidth": 0,
              "ticks": ""
             }
            },
            "type": "scatter"
           }
          ],
          "scatter3d": [
           {
            "line": {
             "colorbar": {
              "outlinewidth": 0,
              "ticks": ""
             }
            },
            "marker": {
             "colorbar": {
              "outlinewidth": 0,
              "ticks": ""
             }
            },
            "type": "scatter3d"
           }
          ],
          "scattercarpet": [
           {
            "marker": {
             "colorbar": {
              "outlinewidth": 0,
              "ticks": ""
             }
            },
            "type": "scattercarpet"
           }
          ],
          "scattergeo": [
           {
            "marker": {
             "colorbar": {
              "outlinewidth": 0,
              "ticks": ""
             }
            },
            "type": "scattergeo"
           }
          ],
          "scattergl": [
           {
            "marker": {
             "colorbar": {
              "outlinewidth": 0,
              "ticks": ""
             }
            },
            "type": "scattergl"
           }
          ],
          "scattermapbox": [
           {
            "marker": {
             "colorbar": {
              "outlinewidth": 0,
              "ticks": ""
             }
            },
            "type": "scattermapbox"
           }
          ],
          "scatterpolar": [
           {
            "marker": {
             "colorbar": {
              "outlinewidth": 0,
              "ticks": ""
             }
            },
            "type": "scatterpolar"
           }
          ],
          "scatterpolargl": [
           {
            "marker": {
             "colorbar": {
              "outlinewidth": 0,
              "ticks": ""
             }
            },
            "type": "scatterpolargl"
           }
          ],
          "scatterternary": [
           {
            "marker": {
             "colorbar": {
              "outlinewidth": 0,
              "ticks": ""
             }
            },
            "type": "scatterternary"
           }
          ],
          "surface": [
           {
            "colorbar": {
             "outlinewidth": 0,
             "ticks": ""
            },
            "colorscale": [
             [
              0,
              "#0d0887"
             ],
             [
              0.1111111111111111,
              "#46039f"
             ],
             [
              0.2222222222222222,
              "#7201a8"
             ],
             [
              0.3333333333333333,
              "#9c179e"
             ],
             [
              0.4444444444444444,
              "#bd3786"
             ],
             [
              0.5555555555555556,
              "#d8576b"
             ],
             [
              0.6666666666666666,
              "#ed7953"
             ],
             [
              0.7777777777777778,
              "#fb9f3a"
             ],
             [
              0.8888888888888888,
              "#fdca26"
             ],
             [
              1,
              "#f0f921"
             ]
            ],
            "type": "surface"
           }
          ],
          "table": [
           {
            "cells": {
             "fill": {
              "color": "#EBF0F8"
             },
             "line": {
              "color": "white"
             }
            },
            "header": {
             "fill": {
              "color": "#C8D4E3"
             },
             "line": {
              "color": "white"
             }
            },
            "type": "table"
           }
          ]
         },
         "layout": {
          "annotationdefaults": {
           "arrowcolor": "#2a3f5f",
           "arrowhead": 0,
           "arrowwidth": 1
          },
          "autotypenumbers": "strict",
          "coloraxis": {
           "colorbar": {
            "outlinewidth": 0,
            "ticks": ""
           }
          },
          "colorscale": {
           "diverging": [
            [
             0,
             "#8e0152"
            ],
            [
             0.1,
             "#c51b7d"
            ],
            [
             0.2,
             "#de77ae"
            ],
            [
             0.3,
             "#f1b6da"
            ],
            [
             0.4,
             "#fde0ef"
            ],
            [
             0.5,
             "#f7f7f7"
            ],
            [
             0.6,
             "#e6f5d0"
            ],
            [
             0.7,
             "#b8e186"
            ],
            [
             0.8,
             "#7fbc41"
            ],
            [
             0.9,
             "#4d9221"
            ],
            [
             1,
             "#276419"
            ]
           ],
           "sequential": [
            [
             0,
             "#0d0887"
            ],
            [
             0.1111111111111111,
             "#46039f"
            ],
            [
             0.2222222222222222,
             "#7201a8"
            ],
            [
             0.3333333333333333,
             "#9c179e"
            ],
            [
             0.4444444444444444,
             "#bd3786"
            ],
            [
             0.5555555555555556,
             "#d8576b"
            ],
            [
             0.6666666666666666,
             "#ed7953"
            ],
            [
             0.7777777777777778,
             "#fb9f3a"
            ],
            [
             0.8888888888888888,
             "#fdca26"
            ],
            [
             1,
             "#f0f921"
            ]
           ],
           "sequentialminus": [
            [
             0,
             "#0d0887"
            ],
            [
             0.1111111111111111,
             "#46039f"
            ],
            [
             0.2222222222222222,
             "#7201a8"
            ],
            [
             0.3333333333333333,
             "#9c179e"
            ],
            [
             0.4444444444444444,
             "#bd3786"
            ],
            [
             0.5555555555555556,
             "#d8576b"
            ],
            [
             0.6666666666666666,
             "#ed7953"
            ],
            [
             0.7777777777777778,
             "#fb9f3a"
            ],
            [
             0.8888888888888888,
             "#fdca26"
            ],
            [
             1,
             "#f0f921"
            ]
           ]
          },
          "colorway": [
           "#636efa",
           "#EF553B",
           "#00cc96",
           "#ab63fa",
           "#FFA15A",
           "#19d3f3",
           "#FF6692",
           "#B6E880",
           "#FF97FF",
           "#FECB52"
          ],
          "font": {
           "color": "#2a3f5f"
          },
          "geo": {
           "bgcolor": "white",
           "lakecolor": "white",
           "landcolor": "#E5ECF6",
           "showlakes": true,
           "showland": true,
           "subunitcolor": "white"
          },
          "hoverlabel": {
           "align": "left"
          },
          "hovermode": "closest",
          "mapbox": {
           "style": "light"
          },
          "paper_bgcolor": "white",
          "plot_bgcolor": "#E5ECF6",
          "polar": {
           "angularaxis": {
            "gridcolor": "white",
            "linecolor": "white",
            "ticks": ""
           },
           "bgcolor": "#E5ECF6",
           "radialaxis": {
            "gridcolor": "white",
            "linecolor": "white",
            "ticks": ""
           }
          },
          "scene": {
           "xaxis": {
            "backgroundcolor": "#E5ECF6",
            "gridcolor": "white",
            "gridwidth": 2,
            "linecolor": "white",
            "showbackground": true,
            "ticks": "",
            "zerolinecolor": "white"
           },
           "yaxis": {
            "backgroundcolor": "#E5ECF6",
            "gridcolor": "white",
            "gridwidth": 2,
            "linecolor": "white",
            "showbackground": true,
            "ticks": "",
            "zerolinecolor": "white"
           },
           "zaxis": {
            "backgroundcolor": "#E5ECF6",
            "gridcolor": "white",
            "gridwidth": 2,
            "linecolor": "white",
            "showbackground": true,
            "ticks": "",
            "zerolinecolor": "white"
           }
          },
          "shapedefaults": {
           "line": {
            "color": "#2a3f5f"
           }
          },
          "ternary": {
           "aaxis": {
            "gridcolor": "white",
            "linecolor": "white",
            "ticks": ""
           },
           "baxis": {
            "gridcolor": "white",
            "linecolor": "white",
            "ticks": ""
           },
           "bgcolor": "#E5ECF6",
           "caxis": {
            "gridcolor": "white",
            "linecolor": "white",
            "ticks": ""
           }
          },
          "title": {
           "x": 0.05
          },
          "xaxis": {
           "automargin": true,
           "gridcolor": "white",
           "linecolor": "white",
           "ticks": "",
           "title": {
            "standoff": 15
           },
           "zerolinecolor": "white",
           "zerolinewidth": 2
          },
          "yaxis": {
           "automargin": true,
           "gridcolor": "white",
           "linecolor": "white",
           "ticks": "",
           "title": {
            "standoff": 15
           },
           "zerolinecolor": "white",
           "zerolinewidth": 2
          }
         }
        },
        "xaxis": {
         "anchor": "y",
         "domain": [
          0,
          1
         ],
         "title": {
          "text": "HAS CRIMINAL CASE"
         }
        },
        "yaxis": {
         "anchor": "x",
         "domain": [
          0,
          1
         ],
         "title": {
          "text": "COUNT"
         }
        }
       }
      },
      "text/html": [
       "<div>                            <div id=\"a1d3b261-abf1-4c6f-9d99-72325f828472\" class=\"plotly-graph-div\" style=\"height:525px; width:100%;\"></div>            <script type=\"text/javascript\">                require([\"plotly\"], function(Plotly) {                    window.PLOTLYENV=window.PLOTLYENV || {};                                    if (document.getElementById(\"a1d3b261-abf1-4c6f-9d99-72325f828472\")) {                    Plotly.newPlot(                        \"a1d3b261-abf1-4c6f-9d99-72325f828472\",                        [{\"alignmentgroup\":\"True\",\"hovertemplate\":\"HAS CRIMINAL CASE=%{x}<br>COUNT=%{y}<br>WINNER=%{marker.color}<extra></extra>\",\"legendgroup\":\"\",\"marker\":{\"color\":[0,1,0,1],\"coloraxis\":\"coloraxis\",\"pattern\":{\"shape\":\"\"}},\"name\":\"\",\"offsetgroup\":\"\",\"orientation\":\"v\",\"showlegend\":false,\"textposition\":\"auto\",\"x\":[\"No\",\"No\",\"Yes\",\"Yes\"],\"xaxis\":\"x\",\"y\":[1203,306,521,233],\"yaxis\":\"y\",\"type\":\"bar\"}],                        {\"template\":{\"data\":{\"bar\":[{\"error_x\":{\"color\":\"#2a3f5f\"},\"error_y\":{\"color\":\"#2a3f5f\"},\"marker\":{\"line\":{\"color\":\"#E5ECF6\",\"width\":0.5},\"pattern\":{\"fillmode\":\"overlay\",\"size\":10,\"solidity\":0.2}},\"type\":\"bar\"}],\"barpolar\":[{\"marker\":{\"line\":{\"color\":\"#E5ECF6\",\"width\":0.5},\"pattern\":{\"fillmode\":\"overlay\",\"size\":10,\"solidity\":0.2}},\"type\":\"barpolar\"}],\"carpet\":[{\"aaxis\":{\"endlinecolor\":\"#2a3f5f\",\"gridcolor\":\"white\",\"linecolor\":\"white\",\"minorgridcolor\":\"white\",\"startlinecolor\":\"#2a3f5f\"},\"baxis\":{\"endlinecolor\":\"#2a3f5f\",\"gridcolor\":\"white\",\"linecolor\":\"white\",\"minorgridcolor\":\"white\",\"startlinecolor\":\"#2a3f5f\"},\"type\":\"carpet\"}],\"choropleth\":[{\"colorbar\":{\"outlinewidth\":0,\"ticks\":\"\"},\"type\":\"choropleth\"}],\"contour\":[{\"colorbar\":{\"outlinewidth\":0,\"ticks\":\"\"},\"colorscale\":[[0.0,\"#0d0887\"],[0.1111111111111111,\"#46039f\"],[0.2222222222222222,\"#7201a8\"],[0.3333333333333333,\"#9c179e\"],[0.4444444444444444,\"#bd3786\"],[0.5555555555555556,\"#d8576b\"],[0.6666666666666666,\"#ed7953\"],[0.7777777777777778,\"#fb9f3a\"],[0.8888888888888888,\"#fdca26\"],[1.0,\"#f0f921\"]],\"type\":\"contour\"}],\"contourcarpet\":[{\"colorbar\":{\"outlinewidth\":0,\"ticks\":\"\"},\"type\":\"contourcarpet\"}],\"heatmap\":[{\"colorbar\":{\"outlinewidth\":0,\"ticks\":\"\"},\"colorscale\":[[0.0,\"#0d0887\"],[0.1111111111111111,\"#46039f\"],[0.2222222222222222,\"#7201a8\"],[0.3333333333333333,\"#9c179e\"],[0.4444444444444444,\"#bd3786\"],[0.5555555555555556,\"#d8576b\"],[0.6666666666666666,\"#ed7953\"],[0.7777777777777778,\"#fb9f3a\"],[0.8888888888888888,\"#fdca26\"],[1.0,\"#f0f921\"]],\"type\":\"heatmap\"}],\"heatmapgl\":[{\"colorbar\":{\"outlinewidth\":0,\"ticks\":\"\"},\"colorscale\":[[0.0,\"#0d0887\"],[0.1111111111111111,\"#46039f\"],[0.2222222222222222,\"#7201a8\"],[0.3333333333333333,\"#9c179e\"],[0.4444444444444444,\"#bd3786\"],[0.5555555555555556,\"#d8576b\"],[0.6666666666666666,\"#ed7953\"],[0.7777777777777778,\"#fb9f3a\"],[0.8888888888888888,\"#fdca26\"],[1.0,\"#f0f921\"]],\"type\":\"heatmapgl\"}],\"histogram\":[{\"marker\":{\"pattern\":{\"fillmode\":\"overlay\",\"size\":10,\"solidity\":0.2}},\"type\":\"histogram\"}],\"histogram2d\":[{\"colorbar\":{\"outlinewidth\":0,\"ticks\":\"\"},\"colorscale\":[[0.0,\"#0d0887\"],[0.1111111111111111,\"#46039f\"],[0.2222222222222222,\"#7201a8\"],[0.3333333333333333,\"#9c179e\"],[0.4444444444444444,\"#bd3786\"],[0.5555555555555556,\"#d8576b\"],[0.6666666666666666,\"#ed7953\"],[0.7777777777777778,\"#fb9f3a\"],[0.8888888888888888,\"#fdca26\"],[1.0,\"#f0f921\"]],\"type\":\"histogram2d\"}],\"histogram2dcontour\":[{\"colorbar\":{\"outlinewidth\":0,\"ticks\":\"\"},\"colorscale\":[[0.0,\"#0d0887\"],[0.1111111111111111,\"#46039f\"],[0.2222222222222222,\"#7201a8\"],[0.3333333333333333,\"#9c179e\"],[0.4444444444444444,\"#bd3786\"],[0.5555555555555556,\"#d8576b\"],[0.6666666666666666,\"#ed7953\"],[0.7777777777777778,\"#fb9f3a\"],[0.8888888888888888,\"#fdca26\"],[1.0,\"#f0f921\"]],\"type\":\"histogram2dcontour\"}],\"mesh3d\":[{\"colorbar\":{\"outlinewidth\":0,\"ticks\":\"\"},\"type\":\"mesh3d\"}],\"parcoords\":[{\"line\":{\"colorbar\":{\"outlinewidth\":0,\"ticks\":\"\"}},\"type\":\"parcoords\"}],\"pie\":[{\"automargin\":true,\"type\":\"pie\"}],\"scatter\":[{\"marker\":{\"colorbar\":{\"outlinewidth\":0,\"ticks\":\"\"}},\"type\":\"scatter\"}],\"scatter3d\":[{\"line\":{\"colorbar\":{\"outlinewidth\":0,\"ticks\":\"\"}},\"marker\":{\"colorbar\":{\"outlinewidth\":0,\"ticks\":\"\"}},\"type\":\"scatter3d\"}],\"scattercarpet\":[{\"marker\":{\"colorbar\":{\"outlinewidth\":0,\"ticks\":\"\"}},\"type\":\"scattercarpet\"}],\"scattergeo\":[{\"marker\":{\"colorbar\":{\"outlinewidth\":0,\"ticks\":\"\"}},\"type\":\"scattergeo\"}],\"scattergl\":[{\"marker\":{\"colorbar\":{\"outlinewidth\":0,\"ticks\":\"\"}},\"type\":\"scattergl\"}],\"scattermapbox\":[{\"marker\":{\"colorbar\":{\"outlinewidth\":0,\"ticks\":\"\"}},\"type\":\"scattermapbox\"}],\"scatterpolar\":[{\"marker\":{\"colorbar\":{\"outlinewidth\":0,\"ticks\":\"\"}},\"type\":\"scatterpolar\"}],\"scatterpolargl\":[{\"marker\":{\"colorbar\":{\"outlinewidth\":0,\"ticks\":\"\"}},\"type\":\"scatterpolargl\"}],\"scatterternary\":[{\"marker\":{\"colorbar\":{\"outlinewidth\":0,\"ticks\":\"\"}},\"type\":\"scatterternary\"}],\"surface\":[{\"colorbar\":{\"outlinewidth\":0,\"ticks\":\"\"},\"colorscale\":[[0.0,\"#0d0887\"],[0.1111111111111111,\"#46039f\"],[0.2222222222222222,\"#7201a8\"],[0.3333333333333333,\"#9c179e\"],[0.4444444444444444,\"#bd3786\"],[0.5555555555555556,\"#d8576b\"],[0.6666666666666666,\"#ed7953\"],[0.7777777777777778,\"#fb9f3a\"],[0.8888888888888888,\"#fdca26\"],[1.0,\"#f0f921\"]],\"type\":\"surface\"}],\"table\":[{\"cells\":{\"fill\":{\"color\":\"#EBF0F8\"},\"line\":{\"color\":\"white\"}},\"header\":{\"fill\":{\"color\":\"#C8D4E3\"},\"line\":{\"color\":\"white\"}},\"type\":\"table\"}]},\"layout\":{\"annotationdefaults\":{\"arrowcolor\":\"#2a3f5f\",\"arrowhead\":0,\"arrowwidth\":1},\"autotypenumbers\":\"strict\",\"coloraxis\":{\"colorbar\":{\"outlinewidth\":0,\"ticks\":\"\"}},\"colorscale\":{\"diverging\":[[0,\"#8e0152\"],[0.1,\"#c51b7d\"],[0.2,\"#de77ae\"],[0.3,\"#f1b6da\"],[0.4,\"#fde0ef\"],[0.5,\"#f7f7f7\"],[0.6,\"#e6f5d0\"],[0.7,\"#b8e186\"],[0.8,\"#7fbc41\"],[0.9,\"#4d9221\"],[1,\"#276419\"]],\"sequential\":[[0.0,\"#0d0887\"],[0.1111111111111111,\"#46039f\"],[0.2222222222222222,\"#7201a8\"],[0.3333333333333333,\"#9c179e\"],[0.4444444444444444,\"#bd3786\"],[0.5555555555555556,\"#d8576b\"],[0.6666666666666666,\"#ed7953\"],[0.7777777777777778,\"#fb9f3a\"],[0.8888888888888888,\"#fdca26\"],[1.0,\"#f0f921\"]],\"sequentialminus\":[[0.0,\"#0d0887\"],[0.1111111111111111,\"#46039f\"],[0.2222222222222222,\"#7201a8\"],[0.3333333333333333,\"#9c179e\"],[0.4444444444444444,\"#bd3786\"],[0.5555555555555556,\"#d8576b\"],[0.6666666666666666,\"#ed7953\"],[0.7777777777777778,\"#fb9f3a\"],[0.8888888888888888,\"#fdca26\"],[1.0,\"#f0f921\"]]},\"colorway\":[\"#636efa\",\"#EF553B\",\"#00cc96\",\"#ab63fa\",\"#FFA15A\",\"#19d3f3\",\"#FF6692\",\"#B6E880\",\"#FF97FF\",\"#FECB52\"],\"font\":{\"color\":\"#2a3f5f\"},\"geo\":{\"bgcolor\":\"white\",\"lakecolor\":\"white\",\"landcolor\":\"#E5ECF6\",\"showlakes\":true,\"showland\":true,\"subunitcolor\":\"white\"},\"hoverlabel\":{\"align\":\"left\"},\"hovermode\":\"closest\",\"mapbox\":{\"style\":\"light\"},\"paper_bgcolor\":\"white\",\"plot_bgcolor\":\"#E5ECF6\",\"polar\":{\"angularaxis\":{\"gridcolor\":\"white\",\"linecolor\":\"white\",\"ticks\":\"\"},\"bgcolor\":\"#E5ECF6\",\"radialaxis\":{\"gridcolor\":\"white\",\"linecolor\":\"white\",\"ticks\":\"\"}},\"scene\":{\"xaxis\":{\"backgroundcolor\":\"#E5ECF6\",\"gridcolor\":\"white\",\"gridwidth\":2,\"linecolor\":\"white\",\"showbackground\":true,\"ticks\":\"\",\"zerolinecolor\":\"white\"},\"yaxis\":{\"backgroundcolor\":\"#E5ECF6\",\"gridcolor\":\"white\",\"gridwidth\":2,\"linecolor\":\"white\",\"showbackground\":true,\"ticks\":\"\",\"zerolinecolor\":\"white\"},\"zaxis\":{\"backgroundcolor\":\"#E5ECF6\",\"gridcolor\":\"white\",\"gridwidth\":2,\"linecolor\":\"white\",\"showbackground\":true,\"ticks\":\"\",\"zerolinecolor\":\"white\"}},\"shapedefaults\":{\"line\":{\"color\":\"#2a3f5f\"}},\"ternary\":{\"aaxis\":{\"gridcolor\":\"white\",\"linecolor\":\"white\",\"ticks\":\"\"},\"baxis\":{\"gridcolor\":\"white\",\"linecolor\":\"white\",\"ticks\":\"\"},\"bgcolor\":\"#E5ECF6\",\"caxis\":{\"gridcolor\":\"white\",\"linecolor\":\"white\",\"ticks\":\"\"}},\"title\":{\"x\":0.05},\"xaxis\":{\"automargin\":true,\"gridcolor\":\"white\",\"linecolor\":\"white\",\"ticks\":\"\",\"title\":{\"standoff\":15},\"zerolinecolor\":\"white\",\"zerolinewidth\":2},\"yaxis\":{\"automargin\":true,\"gridcolor\":\"white\",\"linecolor\":\"white\",\"ticks\":\"\",\"title\":{\"standoff\":15},\"zerolinecolor\":\"white\",\"zerolinewidth\":2}}},\"xaxis\":{\"anchor\":\"y\",\"domain\":[0.0,1.0],\"title\":{\"text\":\"HAS CRIMINAL CASE\"}},\"yaxis\":{\"anchor\":\"x\",\"domain\":[0.0,1.0],\"title\":{\"text\":\"COUNT\"}},\"coloraxis\":{\"colorbar\":{\"title\":{\"text\":\"WINNER\"}},\"colorscale\":[[0.0,\"#0d0887\"],[0.1111111111111111,\"#46039f\"],[0.2222222222222222,\"#7201a8\"],[0.3333333333333333,\"#9c179e\"],[0.4444444444444444,\"#bd3786\"],[0.5555555555555556,\"#d8576b\"],[0.6666666666666666,\"#ed7953\"],[0.7777777777777778,\"#fb9f3a\"],[0.8888888888888888,\"#fdca26\"],[1.0,\"#f0f921\"]]},\"legend\":{\"tracegroupgap\":0},\"margin\":{\"t\":60},\"barmode\":\"relative\"},                        {\"responsive\": true}                    ).then(function(){\n",
       "                            \n",
       "var gd = document.getElementById('a1d3b261-abf1-4c6f-9d99-72325f828472');\n",
       "var x = new MutationObserver(function (mutations, observer) {{\n",
       "        var display = window.getComputedStyle(gd).display;\n",
       "        if (!display || display === 'none') {{\n",
       "            console.log([gd, 'removed!']);\n",
       "            Plotly.purge(gd);\n",
       "            observer.disconnect();\n",
       "        }}\n",
       "}});\n",
       "\n",
       "// Listen for the removal of the full notebook cells\n",
       "var notebookContainer = gd.closest('#notebook-container');\n",
       "if (notebookContainer) {{\n",
       "    x.observe(notebookContainer, {childList: true});\n",
       "}}\n",
       "\n",
       "// Listen for the clearing of the current output cell\n",
       "var outputEl = gd.closest('.output');\n",
       "if (outputEl) {{\n",
       "    x.observe(outputEl, {childList: true});\n",
       "}}\n",
       "\n",
       "                        })                };                });            </script>        </div>"
      ]
     },
     "metadata": {},
     "output_type": "display_data"
    }
   ],
   "source": [
    "#For Criminal Cases\n",
    "\n",
    "df_criminal_cases = df_elec.loc[(df_elec['criminal_cases'].notnull()) & (df_elec['criminal_cases'] != 'Not Available')]\n",
    "def criminal_cases(row):\n",
    "    if row['criminal_cases'] == 0:\n",
    "        return 'No'\n",
    "    else:\n",
    "        return 'Yes'\n",
    "df_criminal_cases['HAS CRIMINAL CASE'] = df_criminal_cases.apply(criminal_cases,axis = 1)\n",
    "df_criminal_cases_count = df_criminal_cases.groupby(['HAS CRIMINAL CASE','WINNER']).size().reset_index()\n",
    "df_criminal_cases_count.columns = ['HAS CRIMINAL CASE','WINNER','COUNT']\n",
    "\n",
    "fig = px.bar(df_criminal_cases_count, x=\"HAS CRIMINAL CASE\", y=\"COUNT\", color='WINNER')\n",
    "fig.show()"
   ]
  },
  {
   "cell_type": "markdown",
   "id": "3dbdbeeb",
   "metadata": {},
   "source": [
    "==> This shows candidate with No criminal cases has high chance of winning!"
   ]
  },
  {
   "cell_type": "code",
   "execution_count": 101,
   "id": "989429f0",
   "metadata": {},
   "outputs": [
    {
     "data": {
      "text/plain": [
       "<AxesSubplot:xlabel='EDUCATION', ylabel='count'>"
      ]
     },
     "execution_count": 101,
     "metadata": {},
     "output_type": "execute_result"
    },
    {
     "data": {
      "image/png": "[encoded data removed]",
      "text/plain": [
       "<Figure size 1368x720 with 1 Axes>"
      ]
     },
     "metadata": {
      "needs_background": "light"
     },
     "output_type": "display_data"
    }
   ],
   "source": [
    "# For Education\n",
    "plt.figure(figsize=(19,10))\n",
    "sns.countplot(x=df_elec['EDUCATION'],hue=df_elec['WINNER'])"
   ]
  },
  {
   "cell_type": "markdown",
   "id": "d0e15eaa",
   "metadata": {},
   "source": [
    "==> This shows voters like Educated representatives!"
   ]
  },
  {
   "cell_type": "markdown",
   "id": "209f9785",
   "metadata": {},
   "source": [
    "### 2.0) Labeling and Preparing Data for model"
   ]
  },
  {
   "cell_type": "code",
   "execution_count": 102,
   "id": "b386de85",
   "metadata": {},
   "outputs": [
    {
     "data": {
      "image/png": "[encoded data removed]",
      "text/plain": [
       "<Figure size 432x288 with 2 Axes>"
      ]
     },
     "metadata": {
      "needs_background": "light"
     },
     "output_type": "display_data"
    }
   ],
   "source": [
    "#Let's try to understand if there is corelation between different fetures\n",
    "# plotting correlation heatmap\n",
    "dataplot = sns.heatmap(df_elec.corr(), cmap='coolwarm',cbar=True, annot=True,  fmt='.2f', annot_kws={'size': 9})\n",
    "  \n",
    "# displaying heatmap\n",
    "plt.show()"
   ]
  },
  {
   "cell_type": "markdown",
   "id": "036a1d5c",
   "metadata": {},
   "source": [
    "==> You can see there is no relation between Winners and Age, Asset & Criminal cases where as Total_votes is major driver in deciding Winner"
   ]
  },
  {
   "cell_type": "code",
   "execution_count": 103,
   "id": "1cbc9711",
   "metadata": {},
   "outputs": [
    {
     "data": {
      "text/plain": [
       "BJP       420\n",
       "INC       413\n",
       "Other     251\n",
       "NOTA      245\n",
       "IND       201\n",
       "BSP       163\n",
       "CPI(M)    100\n",
       "VBA        47\n",
       "AITC       47\n",
       "SP         39\n",
       "NTK        38\n",
       "MNM        36\n",
       "SHS        26\n",
       "AAP        25\n",
       "TDP        25\n",
       "YSRCP      25\n",
       "DMK        23\n",
       "NCP        21\n",
       "AIADMK     21\n",
       "RJD        21\n",
       "BJD        21\n",
       "JnP        20\n",
       "JD(U)      18\n",
       "TRS        17\n",
       "Name: PARTY, dtype: int64"
      ]
     },
     "execution_count": 103,
     "metadata": {},
     "output_type": "execute_result"
    }
   ],
   "source": [
    "# Labeling parties with less than 10 candidates as others\n",
    "smallcnt_candidates = []\n",
    "for i, j in df_elec['PARTY'].value_counts().items():\n",
    "    if j <= 10:\n",
    "        smallcnt_candidates.append(i)\n",
    "len(smallcnt_candidates)\n",
    "\n",
    "def other_party(data):\n",
    "    if data in smallcnt_candidates:\n",
    "        return 'Other'\n",
    "    return data\n",
    "df_elec['PARTY'] = df_elec['PARTY'].apply(other_party)\n",
    "df_elec['PARTY'].value_counts()"
   ]
  },
  {
   "cell_type": "code",
   "execution_count": 104,
   "id": "42261e7b",
   "metadata": {},
   "outputs": [
    {
     "name": "stdout",
     "output_type": "stream",
     "text": [
      "<class 'pandas.core.frame.DataFrame'>\n",
      "RangeIndex: 2263 entries, 0 to 2262\n",
      "Data columns (total 21 columns):\n",
      " #   Column                             Non-Null Count  Dtype  \n",
      "---  ------                             --------------  -----  \n",
      " 0   STATE                              2263 non-null   object \n",
      " 1   CONSTITUENCY                       2263 non-null   object \n",
      " 2   NAME                               2263 non-null   object \n",
      " 3   WINNER                             2263 non-null   int64  \n",
      " 4   PARTY                              2263 non-null   object \n",
      " 5   SYMBOL                             2263 non-null   object \n",
      " 6   GENDER                             2263 non-null   object \n",
      " 7   criminal_cases                     2263 non-null   int32  \n",
      " 8   AGE                                2263 non-null   float64\n",
      " 9   CATEGORY                           2263 non-null   object \n",
      " 10  EDUCATION                          2263 non-null   object \n",
      " 11  ASSETS                             2263 non-null   int64  \n",
      " 12  LIABILITIES                        2263 non-null   int64  \n",
      " 13  general_votes                      2263 non-null   int64  \n",
      " 14  postal_votes                       2263 non-null   int64  \n",
      " 15  total_votes                        2263 non-null   int64  \n",
      " 16  pct_over_total_electors_in_const   2263 non-null   float64\n",
      " 17  pct_over_total_vote_poll_in_const  2263 non-null   float64\n",
      " 18  TOTAL ELECTORS                     2263 non-null   int64  \n",
      " 19  tot_vote_casted                    2263 non-null   int64  \n",
      " 20  criminal_cases_by_party            2263 non-null   int32  \n",
      "dtypes: float64(3), int32(2), int64(8), object(8)\n",
      "memory usage: 353.7+ KB\n"
     ]
    }
   ],
   "source": [
    "df_elec.info()"
   ]
  },
  {
   "cell_type": "code",
   "execution_count": 105,
   "id": "621a0b18",
   "metadata": {},
   "outputs": [],
   "source": [
    "df1 = df_elec[['STATE','CONSTITUENCY','WINNER','GENDER','criminal_cases','AGE','CATEGORY','EDUCATION','total_votes','TOTAL ELECTORS','ASSETS','LIABILITIES']]\n",
    "txt_cols = ['STATE','CONSTITUENCY','GENDER','CATEGORY','EDUCATION']\n",
    "num_cols = ['criminal_cases','AGE','total_votes','TOTAL ELECTORS','ASSETS','LIABILITIES']"
   ]
  },
  {
   "cell_type": "code",
   "execution_count": 106,
   "id": "7baba215",
   "metadata": {},
   "outputs": [
    {
     "data": {
      "application/vnd.plotly.v1+json": {
       "config": {
        "linkText": "Export to plot.ly",
        "plotlyServerURL": "https://plot.ly",
        "showLink": false
       },
       "data": [
        {
         "labels": [
          0,
          1
         ],
         "type": "pie",
         "values": [
          1724,
          539
         ]
        }
       ],
       "layout": {
        "template": {
         "data": {
          "bar": [
           {
            "error_x": {
             "color": "#2a3f5f"
            },
            "error_y": {
             "color": "#2a3f5f"
            },
            "marker": {
             "line": {
              "color": "#E5ECF6",
              "width": 0.5
             },
             "pattern": {
              "fillmode": "overlay",
              "size": 10,
              "solidity": 0.2
             }
            },
            "type": "bar"
           }
          ],
          "barpolar": [
           {
            "marker": {
             "line": {
              "color": "#E5ECF6",
              "width": 0.5
             },
             "pattern": {
              "fillmode": "overlay",
              "size": 10,
              "solidity": 0.2
             }
            },
            "type": "barpolar"
           }
          ],
          "carpet": [
           {
            "aaxis": {
             "endlinecolor": "#2a3f5f",
             "gridcolor": "white",
             "linecolor": "white",
             "minorgridcolor": "white",
             "startlinecolor": "#2a3f5f"
            },
            "baxis": {
             "endlinecolor": "#2a3f5f",
             "gridcolor": "white",
             "linecolor": "white",
             "minorgridcolor": "white",
             "startlinecolor": "#2a3f5f"
            },
            "type": "carpet"
           }
          ],
          "choropleth": [
           {
            "colorbar": {
             "outlinewidth": 0,
             "ticks": ""
            },
            "type": "choropleth"
           }
          ],
          "contour": [
           {
            "colorbar": {
             "outlinewidth": 0,
             "ticks": ""
            },
            "colorscale": [
             [
              0,
              "#0d0887"
             ],
             [
              0.1111111111111111,
              "#46039f"
             ],
             [
              0.2222222222222222,
              "#7201a8"
             ],
             [
              0.3333333333333333,
              "#9c179e"
             ],
             [
              0.4444444444444444,
              "#bd3786"
             ],
             [
              0.5555555555555556,
              "#d8576b"
             ],
             [
              0.6666666666666666,
              "#ed7953"
             ],
             [
              0.7777777777777778,
              "#fb9f3a"
             ],
             [
              0.8888888888888888,
              "#fdca26"
             ],
             [
              1,
              "#f0f921"
             ]
            ],
            "type": "contour"
           }
          ],
          "contourcarpet": [
           {
            "colorbar": {
             "outlinewidth": 0,
             "ticks": ""
            },
            "type": "contourcarpet"
           }
          ],
          "heatmap": [
           {
            "colorbar": {
             "outlinewidth": 0,
             "ticks": ""
            },
            "colorscale": [
             [
              0,
              "#0d0887"
             ],
             [
              0.1111111111111111,
              "#46039f"
             ],
             [
              0.2222222222222222,
              "#7201a8"
             ],
             [
              0.3333333333333333,
              "#9c179e"
             ],
             [
              0.4444444444444444,
              "#bd3786"
             ],
             [
              0.5555555555555556,
              "#d8576b"
             ],
             [
              0.6666666666666666,
              "#ed7953"
             ],
             [
              0.7777777777777778,
              "#fb9f3a"
             ],
             [
              0.8888888888888888,
              "#fdca26"
             ],
             [
              1,
              "#f0f921"
             ]
            ],
            "type": "heatmap"
           }
          ],
          "heatmapgl": [
           {
            "colorbar": {
             "outlinewidth": 0,
             "ticks": ""
            },
            "colorscale": [
             [
              0,
              "#0d0887"
             ],
             [
              0.1111111111111111,
              "#46039f"
             ],
             [
              0.2222222222222222,
              "#7201a8"
             ],
             [
              0.3333333333333333,
              "#9c179e"
             ],
             [
              0.4444444444444444,
              "#bd3786"
             ],
             [
              0.5555555555555556,
              "#d8576b"
             ],
             [
              0.6666666666666666,
              "#ed7953"
             ],
             [
              0.7777777777777778,
              "#fb9f3a"
             ],
             [
              0.8888888888888888,
              "#fdca26"
             ],
             [
              1,
              "#f0f921"
             ]
            ],
            "type": "heatmapgl"
           }
          ],
          "histogram": [
           {
            "marker": {
             "pattern": {
              "fillmode": "overlay",
              "size": 10,
              "solidity": 0.2
             }
            },
            "type": "histogram"
           }
          ],
          "histogram2d": [
           {
            "colorbar": {
             "outlinewidth": 0,
             "ticks": ""
            },
            "colorscale": [
             [
              0,
              "#0d0887"
             ],
             [
              0.1111111111111111,
              "#46039f"
             ],
             [
              0.2222222222222222,
              "#7201a8"
             ],
             [
              0.3333333333333333,
              "#9c179e"
             ],
             [
              0.4444444444444444,
              "#bd3786"
             ],
             [
              0.5555555555555556,
              "#d8576b"
             ],
             [
              0.6666666666666666,
              "#ed7953"
             ],
             [
              0.7777777777777778,
              "#fb9f3a"
             ],
             [
              0.8888888888888888,
              "#fdca26"
             ],
             [
              1,
              "#f0f921"
             ]
            ],
            "type": "histogram2d"
           }
          ],
          "histogram2dcontour": [
           {
            "colorbar": {
             "outlinewidth": 0,
             "ticks": ""
            },
            "colorscale": [
             [
              0,
              "#0d0887"
             ],
             [
              0.1111111111111111,
              "#46039f"
             ],
             [
              0.2222222222222222,
              "#7201a8"
             ],
             [
              0.3333333333333333,
              "#9c179e"
             ],
             [
              0.4444444444444444,
              "#bd3786"
             ],
             [
              0.5555555555555556,
              "#d8576b"
             ],
             [
              0.6666666666666666,
              "#ed7953"
             ],
             [
              0.7777777777777778,
              "#fb9f3a"
             ],
             [
              0.8888888888888888,
              "#fdca26"
             ],
             [
              1,
              "#f0f921"
             ]
            ],
            "type": "histogram2dcontour"
           }
          ],
          "mesh3d": [
           {
            "colorbar": {
             "outlinewidth": 0,
             "ticks": ""
            },
            "type": "mesh3d"
           }
          ],
          "parcoords": [
           {
            "line": {
             "colorbar": {
              "outlinewidth": 0,
              "ticks": ""
             }
            },
            "type": "parcoords"
           }
          ],
          "pie": [
           {
            "automargin": true,
            "type": "pie"
           }
          ],
          "scatter": [
           {
            "marker": {
             "colorbar": {
              "outlinewidth": 0,
              "ticks": ""
             }
            },
            "type": "scatter"
           }
          ],
          "scatter3d": [
           {
            "line": {
             "colorbar": {
              "outlinewidth": 0,
              "ticks": ""
             }
            },
            "marker": {
             "colorbar": {
              "outlinewidth": 0,
              "ticks": ""
             }
            },
            "type": "scatter3d"
           }
          ],
          "scattercarpet": [
           {
            "marker": {
             "colorbar": {
              "outlinewidth": 0,
              "ticks": ""
             }
            },
            "type": "scattercarpet"
           }
          ],
          "scattergeo": [
           {
            "marker": {
             "colorbar": {
              "outlinewidth": 0,
              "ticks": ""
             }
            },
            "type": "scattergeo"
           }
          ],
          "scattergl": [
           {
            "marker": {
             "colorbar": {
              "outlinewidth": 0,
              "ticks": ""
             }
            },
            "type": "scattergl"
           }
          ],
          "scattermapbox": [
           {
            "marker": {
             "colorbar": {
              "outlinewidth": 0,
              "ticks": ""
             }
            },
            "type": "scattermapbox"
           }
          ],
          "scatterpolar": [
           {
            "marker": {
             "colorbar": {
              "outlinewidth": 0,
              "ticks": ""
             }
            },
            "type": "scatterpolar"
           }
          ],
          "scatterpolargl": [
           {
            "marker": {
             "colorbar": {
              "outlinewidth": 0,
              "ticks": ""
             }
            },
            "type": "scatterpolargl"
           }
          ],
          "scatterternary": [
           {
            "marker": {
             "colorbar": {
              "outlinewidth": 0,
              "ticks": ""
             }
            },
            "type": "scatterternary"
           }
          ],
          "surface": [
           {
            "colorbar": {
             "outlinewidth": 0,
             "ticks": ""
            },
            "colorscale": [
             [
              0,
              "#0d0887"
             ],
             [
              0.1111111111111111,
              "#46039f"
             ],
             [
              0.2222222222222222,
              "#7201a8"
             ],
             [
              0.3333333333333333,
              "#9c179e"
             ],
             [
              0.4444444444444444,
              "#bd3786"
             ],
             [
              0.5555555555555556,
              "#d8576b"
             ],
             [
              0.6666666666666666,
              "#ed7953"
             ],
             [
              0.7777777777777778,
              "#fb9f3a"
             ],
             [
              0.8888888888888888,
              "#fdca26"
             ],
             [
              1,
              "#f0f921"
             ]
            ],
            "type": "surface"
           }
          ],
          "table": [
           {
            "cells": {
             "fill": {
              "color": "#EBF0F8"
             },
             "line": {
              "color": "white"
             }
            },
            "header": {
             "fill": {
              "color": "#C8D4E3"
             },
             "line": {
              "color": "white"
             }
            },
            "type": "table"
           }
          ]
         },
         "layout": {
          "annotationdefaults": {
           "arrowcolor": "#2a3f5f",
           "arrowhead": 0,
           "arrowwidth": 1
          },
          "autotypenumbers": "strict",
          "coloraxis": {
           "colorbar": {
            "outlinewidth": 0,
            "ticks": ""
           }
          },
          "colorscale": {
           "diverging": [
            [
             0,
             "#8e0152"
            ],
            [
             0.1,
             "#c51b7d"
            ],
            [
             0.2,
             "#de77ae"
            ],
            [
             0.3,
             "#f1b6da"
            ],
            [
             0.4,
             "#fde0ef"
            ],
            [
             0.5,
             "#f7f7f7"
            ],
            [
             0.6,
             "#e6f5d0"
            ],
            [
             0.7,
             "#b8e186"
            ],
            [
             0.8,
             "#7fbc41"
            ],
            [
             0.9,
             "#4d9221"
            ],
            [
             1,
             "#276419"
            ]
           ],
           "sequential": [
            [
             0,
             "#0d0887"
            ],
            [
             0.1111111111111111,
             "#46039f"
            ],
            [
             0.2222222222222222,
             "#7201a8"
            ],
            [
             0.3333333333333333,
             "#9c179e"
            ],
            [
             0.4444444444444444,
             "#bd3786"
            ],
            [
             0.5555555555555556,
             "#d8576b"
            ],
            [
             0.6666666666666666,
             "#ed7953"
            ],
            [
             0.7777777777777778,
             "#fb9f3a"
            ],
            [
             0.8888888888888888,
             "#fdca26"
            ],
            [
             1,
             "#f0f921"
            ]
           ],
           "sequentialminus": [
            [
             0,
             "#0d0887"
            ],
            [
             0.1111111111111111,
             "#46039f"
            ],
            [
             0.2222222222222222,
             "#7201a8"
            ],
            [
             0.3333333333333333,
             "#9c179e"
            ],
            [
             0.4444444444444444,
             "#bd3786"
            ],
            [
             0.5555555555555556,
             "#d8576b"
            ],
            [
             0.6666666666666666,
             "#ed7953"
            ],
            [
             0.7777777777777778,
             "#fb9f3a"
            ],
            [
             0.8888888888888888,
             "#fdca26"
            ],
            [
             1,
             "#f0f921"
            ]
           ]
          },
          "colorway": [
           "#636efa",
           "#EF553B",
           "#00cc96",
           "#ab63fa",
           "#FFA15A",
           "#19d3f3",
           "#FF6692",
           "#B6E880",
           "#FF97FF",
           "#FECB52"
          ],
          "font": {
           "color": "#2a3f5f"
          },
          "geo": {
           "bgcolor": "white",
           "lakecolor": "white",
           "landcolor": "#E5ECF6",
           "showlakes": true,
           "showland": true,
           "subunitcolor": "white"
          },
          "hoverlabel": {
           "align": "left"
          },
          "hovermode": "closest",
          "mapbox": {
           "style": "light"
          },
          "paper_bgcolor": "white",
          "plot_bgcolor": "#E5ECF6",
          "polar": {
           "angularaxis": {
            "gridcolor": "white",
            "linecolor": "white",
            "ticks": ""
           },
           "bgcolor": "#E5ECF6",
           "radialaxis": {
            "gridcolor": "white",
            "linecolor": "white",
            "ticks": ""
           }
          },
          "scene": {
           "xaxis": {
            "backgroundcolor": "#E5ECF6",
            "gridcolor": "white",
            "gridwidth": 2,
            "linecolor": "white",
            "showbackground": true,
            "ticks": "",
            "zerolinecolor": "white"
           },
           "yaxis": {
            "backgroundcolor": "#E5ECF6",
            "gridcolor": "white",
            "gridwidth": 2,
            "linecolor": "white",
            "showbackground": true,
            "ticks": "",
            "zerolinecolor": "white"
           },
           "zaxis": {
            "backgroundcolor": "#E5ECF6",
            "gridcolor": "white",
            "gridwidth": 2,
            "linecolor": "white",
            "showbackground": true,
            "ticks": "",
            "zerolinecolor": "white"
           }
          },
          "shapedefaults": {
           "line": {
            "color": "#2a3f5f"
           }
          },
          "ternary": {
           "aaxis": {
            "gridcolor": "white",
            "linecolor": "white",
            "ticks": ""
           },
           "baxis": {
            "gridcolor": "white",
            "linecolor": "white",
            "ticks": ""
           },
           "bgcolor": "#E5ECF6",
           "caxis": {
            "gridcolor": "white",
            "linecolor": "white",
            "ticks": ""
           }
          },
          "title": {
           "x": 0.05
          },
          "xaxis": {
           "automargin": true,
           "gridcolor": "white",
           "linecolor": "white",
           "ticks": "",
           "title": {
            "standoff": 15
           },
           "zerolinecolor": "white",
           "zerolinewidth": 2
          },
          "yaxis": {
           "automargin": true,
           "gridcolor": "white",
           "linecolor": "white",
           "ticks": "",
           "title": {
            "standoff": 15
           },
           "zerolinecolor": "white",
           "zerolinewidth": 2
          }
         }
        },
        "title": {
         "text": "Total Candidates vs Winners"
        }
       }
      },
      "text/html": [
       "<div>                            <div id=\"7d2af2ae-7a9b-4eb2-9928-7eb1dd870b0a\" class=\"plotly-graph-div\" style=\"height:525px; width:100%;\"></div>            <script type=\"text/javascript\">                require([\"plotly\"], function(Plotly) {                    window.PLOTLYENV=window.PLOTLYENV || {};                                    if (document.getElementById(\"7d2af2ae-7a9b-4eb2-9928-7eb1dd870b0a\")) {                    Plotly.newPlot(                        \"7d2af2ae-7a9b-4eb2-9928-7eb1dd870b0a\",                        [{\"labels\":[0,1],\"values\":[1724,539],\"type\":\"pie\"}],                        {\"template\":{\"data\":{\"barpolar\":[{\"marker\":{\"line\":{\"color\":\"#E5ECF6\",\"width\":0.5},\"pattern\":{\"fillmode\":\"overlay\",\"size\":10,\"solidity\":0.2}},\"type\":\"barpolar\"}],\"bar\":[{\"error_x\":{\"color\":\"#2a3f5f\"},\"error_y\":{\"color\":\"#2a3f5f\"},\"marker\":{\"line\":{\"color\":\"#E5ECF6\",\"width\":0.5},\"pattern\":{\"fillmode\":\"overlay\",\"size\":10,\"solidity\":0.2}},\"type\":\"bar\"}],\"carpet\":[{\"aaxis\":{\"endlinecolor\":\"#2a3f5f\",\"gridcolor\":\"white\",\"linecolor\":\"white\",\"minorgridcolor\":\"white\",\"startlinecolor\":\"#2a3f5f\"},\"baxis\":{\"endlinecolor\":\"#2a3f5f\",\"gridcolor\":\"white\",\"linecolor\":\"white\",\"minorgridcolor\":\"white\",\"startlinecolor\":\"#2a3f5f\"},\"type\":\"carpet\"}],\"choropleth\":[{\"colorbar\":{\"outlinewidth\":0,\"ticks\":\"\"},\"type\":\"choropleth\"}],\"contourcarpet\":[{\"colorbar\":{\"outlinewidth\":0,\"ticks\":\"\"},\"type\":\"contourcarpet\"}],\"contour\":[{\"colorbar\":{\"outlinewidth\":0,\"ticks\":\"\"},\"colorscale\":[[0.0,\"#0d0887\"],[0.1111111111111111,\"#46039f\"],[0.2222222222222222,\"#7201a8\"],[0.3333333333333333,\"#9c179e\"],[0.4444444444444444,\"#bd3786\"],[0.5555555555555556,\"#d8576b\"],[0.6666666666666666,\"#ed7953\"],[0.7777777777777778,\"#fb9f3a\"],[0.8888888888888888,\"#fdca26\"],[1.0,\"#f0f921\"]],\"type\":\"contour\"}],\"heatmapgl\":[{\"colorbar\":{\"outlinewidth\":0,\"ticks\":\"\"},\"colorscale\":[[0.0,\"#0d0887\"],[0.1111111111111111,\"#46039f\"],[0.2222222222222222,\"#7201a8\"],[0.3333333333333333,\"#9c179e\"],[0.4444444444444444,\"#bd3786\"],[0.5555555555555556,\"#d8576b\"],[0.6666666666666666,\"#ed7953\"],[0.7777777777777778,\"#fb9f3a\"],[0.8888888888888888,\"#fdca26\"],[1.0,\"#f0f921\"]],\"type\":\"heatmapgl\"}],\"heatmap\":[{\"colorbar\":{\"outlinewidth\":0,\"ticks\":\"\"},\"colorscale\":[[0.0,\"#0d0887\"],[0.1111111111111111,\"#46039f\"],[0.2222222222222222,\"#7201a8\"],[0.3333333333333333,\"#9c179e\"],[0.4444444444444444,\"#bd3786\"],[0.5555555555555556,\"#d8576b\"],[0.6666666666666666,\"#ed7953\"],[0.7777777777777778,\"#fb9f3a\"],[0.8888888888888888,\"#fdca26\"],[1.0,\"#f0f921\"]],\"type\":\"heatmap\"}],\"histogram2dcontour\":[{\"colorbar\":{\"outlinewidth\":0,\"ticks\":\"\"},\"colorscale\":[[0.0,\"#0d0887\"],[0.1111111111111111,\"#46039f\"],[0.2222222222222222,\"#7201a8\"],[0.3333333333333333,\"#9c179e\"],[0.4444444444444444,\"#bd3786\"],[0.5555555555555556,\"#d8576b\"],[0.6666666666666666,\"#ed7953\"],[0.7777777777777778,\"#fb9f3a\"],[0.8888888888888888,\"#fdca26\"],[1.0,\"#f0f921\"]],\"type\":\"histogram2dcontour\"}],\"histogram2d\":[{\"colorbar\":{\"outlinewidth\":0,\"ticks\":\"\"},\"colorscale\":[[0.0,\"#0d0887\"],[0.1111111111111111,\"#46039f\"],[0.2222222222222222,\"#7201a8\"],[0.3333333333333333,\"#9c179e\"],[0.4444444444444444,\"#bd3786\"],[0.5555555555555556,\"#d8576b\"],[0.6666666666666666,\"#ed7953\"],[0.7777777777777778,\"#fb9f3a\"],[0.8888888888888888,\"#fdca26\"],[1.0,\"#f0f921\"]],\"type\":\"histogram2d\"}],\"histogram\":[{\"marker\":{\"pattern\":{\"fillmode\":\"overlay\",\"size\":10,\"solidity\":0.2}},\"type\":\"histogram\"}],\"mesh3d\":[{\"colorbar\":{\"outlinewidth\":0,\"ticks\":\"\"},\"type\":\"mesh3d\"}],\"parcoords\":[{\"line\":{\"colorbar\":{\"outlinewidth\":0,\"ticks\":\"\"}},\"type\":\"parcoords\"}],\"pie\":[{\"automargin\":true,\"type\":\"pie\"}],\"scatter3d\":[{\"line\":{\"colorbar\":{\"outlinewidth\":0,\"ticks\":\"\"}},\"marker\":{\"colorbar\":{\"outlinewidth\":0,\"ticks\":\"\"}},\"type\":\"scatter3d\"}],\"scattercarpet\":[{\"marker\":{\"colorbar\":{\"outlinewidth\":0,\"ticks\":\"\"}},\"type\":\"scattercarpet\"}],\"scattergeo\":[{\"marker\":{\"colorbar\":{\"outlinewidth\":0,\"ticks\":\"\"}},\"type\":\"scattergeo\"}],\"scattergl\":[{\"marker\":{\"colorbar\":{\"outlinewidth\":0,\"ticks\":\"\"}},\"type\":\"scattergl\"}],\"scattermapbox\":[{\"marker\":{\"colorbar\":{\"outlinewidth\":0,\"ticks\":\"\"}},\"type\":\"scattermapbox\"}],\"scatterpolargl\":[{\"marker\":{\"colorbar\":{\"outlinewidth\":0,\"ticks\":\"\"}},\"type\":\"scatterpolargl\"}],\"scatterpolar\":[{\"marker\":{\"colorbar\":{\"outlinewidth\":0,\"ticks\":\"\"}},\"type\":\"scatterpolar\"}],\"scatter\":[{\"marker\":{\"colorbar\":{\"outlinewidth\":0,\"ticks\":\"\"}},\"type\":\"scatter\"}],\"scatterternary\":[{\"marker\":{\"colorbar\":{\"outlinewidth\":0,\"ticks\":\"\"}},\"type\":\"scatterternary\"}],\"surface\":[{\"colorbar\":{\"outlinewidth\":0,\"ticks\":\"\"},\"colorscale\":[[0.0,\"#0d0887\"],[0.1111111111111111,\"#46039f\"],[0.2222222222222222,\"#7201a8\"],[0.3333333333333333,\"#9c179e\"],[0.4444444444444444,\"#bd3786\"],[0.5555555555555556,\"#d8576b\"],[0.6666666666666666,\"#ed7953\"],[0.7777777777777778,\"#fb9f3a\"],[0.8888888888888888,\"#fdca26\"],[1.0,\"#f0f921\"]],\"type\":\"surface\"}],\"table\":[{\"cells\":{\"fill\":{\"color\":\"#EBF0F8\"},\"line\":{\"color\":\"white\"}},\"header\":{\"fill\":{\"color\":\"#C8D4E3\"},\"line\":{\"color\":\"white\"}},\"type\":\"table\"}]},\"layout\":{\"annotationdefaults\":{\"arrowcolor\":\"#2a3f5f\",\"arrowhead\":0,\"arrowwidth\":1},\"autotypenumbers\":\"strict\",\"coloraxis\":{\"colorbar\":{\"outlinewidth\":0,\"ticks\":\"\"}},\"colorscale\":{\"diverging\":[[0,\"#8e0152\"],[0.1,\"#c51b7d\"],[0.2,\"#de77ae\"],[0.3,\"#f1b6da\"],[0.4,\"#fde0ef\"],[0.5,\"#f7f7f7\"],[0.6,\"#e6f5d0\"],[0.7,\"#b8e186\"],[0.8,\"#7fbc41\"],[0.9,\"#4d9221\"],[1,\"#276419\"]],\"sequential\":[[0.0,\"#0d0887\"],[0.1111111111111111,\"#46039f\"],[0.2222222222222222,\"#7201a8\"],[0.3333333333333333,\"#9c179e\"],[0.4444444444444444,\"#bd3786\"],[0.5555555555555556,\"#d8576b\"],[0.6666666666666666,\"#ed7953\"],[0.7777777777777778,\"#fb9f3a\"],[0.8888888888888888,\"#fdca26\"],[1.0,\"#f0f921\"]],\"sequentialminus\":[[0.0,\"#0d0887\"],[0.1111111111111111,\"#46039f\"],[0.2222222222222222,\"#7201a8\"],[0.3333333333333333,\"#9c179e\"],[0.4444444444444444,\"#bd3786\"],[0.5555555555555556,\"#d8576b\"],[0.6666666666666666,\"#ed7953\"],[0.7777777777777778,\"#fb9f3a\"],[0.8888888888888888,\"#fdca26\"],[1.0,\"#f0f921\"]]},\"colorway\":[\"#636efa\",\"#EF553B\",\"#00cc96\",\"#ab63fa\",\"#FFA15A\",\"#19d3f3\",\"#FF6692\",\"#B6E880\",\"#FF97FF\",\"#FECB52\"],\"font\":{\"color\":\"#2a3f5f\"},\"geo\":{\"bgcolor\":\"white\",\"lakecolor\":\"white\",\"landcolor\":\"#E5ECF6\",\"showlakes\":true,\"showland\":true,\"subunitcolor\":\"white\"},\"hoverlabel\":{\"align\":\"left\"},\"hovermode\":\"closest\",\"mapbox\":{\"style\":\"light\"},\"paper_bgcolor\":\"white\",\"plot_bgcolor\":\"#E5ECF6\",\"polar\":{\"angularaxis\":{\"gridcolor\":\"white\",\"linecolor\":\"white\",\"ticks\":\"\"},\"bgcolor\":\"#E5ECF6\",\"radialaxis\":{\"gridcolor\":\"white\",\"linecolor\":\"white\",\"ticks\":\"\"}},\"scene\":{\"xaxis\":{\"backgroundcolor\":\"#E5ECF6\",\"gridcolor\":\"white\",\"gridwidth\":2,\"linecolor\":\"white\",\"showbackground\":true,\"ticks\":\"\",\"zerolinecolor\":\"white\"},\"yaxis\":{\"backgroundcolor\":\"#E5ECF6\",\"gridcolor\":\"white\",\"gridwidth\":2,\"linecolor\":\"white\",\"showbackground\":true,\"ticks\":\"\",\"zerolinecolor\":\"white\"},\"zaxis\":{\"backgroundcolor\":\"#E5ECF6\",\"gridcolor\":\"white\",\"gridwidth\":2,\"linecolor\":\"white\",\"showbackground\":true,\"ticks\":\"\",\"zerolinecolor\":\"white\"}},\"shapedefaults\":{\"line\":{\"color\":\"#2a3f5f\"}},\"ternary\":{\"aaxis\":{\"gridcolor\":\"white\",\"linecolor\":\"white\",\"ticks\":\"\"},\"baxis\":{\"gridcolor\":\"white\",\"linecolor\":\"white\",\"ticks\":\"\"},\"bgcolor\":\"#E5ECF6\",\"caxis\":{\"gridcolor\":\"white\",\"linecolor\":\"white\",\"ticks\":\"\"}},\"title\":{\"x\":0.05},\"xaxis\":{\"automargin\":true,\"gridcolor\":\"white\",\"linecolor\":\"white\",\"ticks\":\"\",\"title\":{\"standoff\":15},\"zerolinecolor\":\"white\",\"zerolinewidth\":2},\"yaxis\":{\"automargin\":true,\"gridcolor\":\"white\",\"linecolor\":\"white\",\"ticks\":\"\",\"title\":{\"standoff\":15},\"zerolinecolor\":\"white\",\"zerolinewidth\":2}}},\"title\":{\"text\":\"Total Candidates vs Winners\"}},                        {\"responsive\": true}                    ).then(function(){\n",
       "                            \n",
       "var gd = document.getElementById('7d2af2ae-7a9b-4eb2-9928-7eb1dd870b0a');\n",
       "var x = new MutationObserver(function (mutations, observer) {{\n",
       "        var display = window.getComputedStyle(gd).display;\n",
       "        if (!display || display === 'none') {{\n",
       "            console.log([gd, 'removed!']);\n",
       "            Plotly.purge(gd);\n",
       "            observer.disconnect();\n",
       "        }}\n",
       "}});\n",
       "\n",
       "// Listen for the removal of the full notebook cells\n",
       "var notebookContainer = gd.closest('#notebook-container');\n",
       "if (notebookContainer) {{\n",
       "    x.observe(notebookContainer, {childList: true});\n",
       "}}\n",
       "\n",
       "// Listen for the clearing of the current output cell\n",
       "var outputEl = gd.closest('.output');\n",
       "if (outputEl) {{\n",
       "    x.observe(outputEl, {childList: true});\n",
       "}}\n",
       "\n",
       "                        })                };                });            </script>        </div>"
      ]
     },
     "metadata": {},
     "output_type": "display_data"
    }
   ],
   "source": [
    "df_winner = df1['WINNER'].value_counts().reset_index()\n",
    "df_winner.columns = ['RESULT','COUNT']\n",
    "pie = go.Pie(labels=df_winner['RESULT'], values=df_winner['COUNT'])\n",
    "layout = go.Layout(title='Total Candidates vs Winners')\n",
    "fig = go.Figure(data=[pie], layout=layout)\n",
    "py.iplot(fig)"
   ]
  },
  {
   "cell_type": "markdown",
   "id": "2c4e5f20",
   "metadata": {},
   "source": [
    "### Data Scalling & Up Sampling"
   ]
  },
  {
   "cell_type": "code",
   "execution_count": 107,
   "id": "7c498686",
   "metadata": {},
   "outputs": [
    {
     "data": {
      "text/html": [
       "<div>\n",
       "<style scoped>\n",
       "    .dataframe tbody tr th:only-of-type {\n",
       "        vertical-align: middle;\n",
       "    }\n",
       "\n",
       "    .dataframe tbody tr th {\n",
       "        vertical-align: top;\n",
       "    }\n",
       "\n",
       "    .dataframe thead th {\n",
       "        text-align: right;\n",
       "    }\n",
       "</style>\n",
       "<table border=\"1\" class=\"dataframe\">\n",
       "  <thead>\n",
       "    <tr style=\"text-align: right;\">\n",
       "      <th></th>\n",
       "      <th>WINNER</th>\n",
       "      <th>criminal_cases</th>\n",
       "      <th>AGE</th>\n",
       "      <th>total_votes</th>\n",
       "      <th>TOTAL ELECTORS</th>\n",
       "      <th>ASSETS</th>\n",
       "      <th>LIABILITIES</th>\n",
       "      <th>STATE_Andaman &amp; Nicobar Islands</th>\n",
       "      <th>STATE_Andhra Pradesh</th>\n",
       "      <th>STATE_Arunachal Pradesh</th>\n",
       "      <th>...</th>\n",
       "      <th>CATEGORY_ST</th>\n",
       "      <th>EDUCATION_10th Pass</th>\n",
       "      <th>EDUCATION_12th Pass</th>\n",
       "      <th>EDUCATION_8th Pass</th>\n",
       "      <th>EDUCATION_Doctorate</th>\n",
       "      <th>EDUCATION_Graduate</th>\n",
       "      <th>EDUCATION_Illiterate</th>\n",
       "      <th>EDUCATION_Not Available</th>\n",
       "      <th>EDUCATION_Others</th>\n",
       "      <th>EDUCATION_Post Graduate</th>\n",
       "    </tr>\n",
       "  </thead>\n",
       "  <tbody>\n",
       "    <tr>\n",
       "      <th>0</th>\n",
       "      <td>1</td>\n",
       "      <td>7.018675</td>\n",
       "      <td>0.272939</td>\n",
       "      <td>0.448506</td>\n",
       "      <td>-0.534986</td>\n",
       "      <td>-0.291905</td>\n",
       "      <td>-0.205143</td>\n",
       "      <td>0</td>\n",
       "      <td>0</td>\n",
       "      <td>0</td>\n",
       "      <td>...</td>\n",
       "      <td>1</td>\n",
       "      <td>0</td>\n",
       "      <td>1</td>\n",
       "      <td>0</td>\n",
       "      <td>0</td>\n",
       "      <td>0</td>\n",
       "      <td>0</td>\n",
       "      <td>0</td>\n",
       "      <td>0</td>\n",
       "      <td>0</td>\n",
       "    </tr>\n",
       "    <tr>\n",
       "      <th>1</th>\n",
       "      <td>0</td>\n",
       "      <td>-0.179470</td>\n",
       "      <td>0.374295</td>\n",
       "      <td>0.219690</td>\n",
       "      <td>-0.534986</td>\n",
       "      <td>-0.252610</td>\n",
       "      <td>-0.197873</td>\n",
       "      <td>0</td>\n",
       "      <td>0</td>\n",
       "      <td>0</td>\n",
       "      <td>...</td>\n",
       "      <td>1</td>\n",
       "      <td>0</td>\n",
       "      <td>0</td>\n",
       "      <td>0</td>\n",
       "      <td>0</td>\n",
       "      <td>0</td>\n",
       "      <td>0</td>\n",
       "      <td>0</td>\n",
       "      <td>0</td>\n",
       "      <td>1</td>\n",
       "    </tr>\n",
       "    <tr>\n",
       "      <th>2</th>\n",
       "      <td>0</td>\n",
       "      <td>0.235807</td>\n",
       "      <td>0.272939</td>\n",
       "      <td>0.201809</td>\n",
       "      <td>-0.534986</td>\n",
       "      <td>-0.206583</td>\n",
       "      <td>-0.027182</td>\n",
       "      <td>0</td>\n",
       "      <td>0</td>\n",
       "      <td>0</td>\n",
       "      <td>...</td>\n",
       "      <td>1</td>\n",
       "      <td>0</td>\n",
       "      <td>1</td>\n",
       "      <td>0</td>\n",
       "      <td>0</td>\n",
       "      <td>0</td>\n",
       "      <td>0</td>\n",
       "      <td>0</td>\n",
       "      <td>0</td>\n",
       "      <td>0</td>\n",
       "    </tr>\n",
       "    <tr>\n",
       "      <th>3</th>\n",
       "      <td>0</td>\n",
       "      <td>-0.179470</td>\n",
       "      <td>-2.362307</td>\n",
       "      <td>-0.975103</td>\n",
       "      <td>-0.534986</td>\n",
       "      <td>-0.299825</td>\n",
       "      <td>-0.207877</td>\n",
       "      <td>0</td>\n",
       "      <td>0</td>\n",
       "      <td>0</td>\n",
       "      <td>...</td>\n",
       "      <td>0</td>\n",
       "      <td>0</td>\n",
       "      <td>0</td>\n",
       "      <td>0</td>\n",
       "      <td>0</td>\n",
       "      <td>0</td>\n",
       "      <td>0</td>\n",
       "      <td>1</td>\n",
       "      <td>0</td>\n",
       "      <td>0</td>\n",
       "    </tr>\n",
       "    <tr>\n",
       "      <th>4</th>\n",
       "      <td>1</td>\n",
       "      <td>0.512659</td>\n",
       "      <td>0.577006</td>\n",
       "      <td>1.501550</td>\n",
       "      <td>0.889409</td>\n",
       "      <td>-0.110040</td>\n",
       "      <td>-0.106233</td>\n",
       "      <td>0</td>\n",
       "      <td>0</td>\n",
       "      <td>0</td>\n",
       "      <td>...</td>\n",
       "      <td>0</td>\n",
       "      <td>0</td>\n",
       "      <td>0</td>\n",
       "      <td>0</td>\n",
       "      <td>1</td>\n",
       "      <td>0</td>\n",
       "      <td>0</td>\n",
       "      <td>0</td>\n",
       "      <td>0</td>\n",
       "      <td>0</td>\n",
       "    </tr>\n",
       "  </tbody>\n",
       "</table>\n",
       "<p>5 rows × 598 columns</p>\n",
       "</div>"
      ],
      "text/plain": [
       "   WINNER  criminal_cases       AGE  total_votes  TOTAL ELECTORS    ASSETS  \\\n",
       "0       1        7.018675  0.272939     0.448506       -0.534986 -0.291905   \n",
       "1       0       -0.179470  0.374295     0.219690       -0.534986 -0.252610   \n",
       "2       0        0.235807  0.272939     0.201809       -0.534986 -0.206583   \n",
       "3       0       -0.179470 -2.362307    -0.975103       -0.534986 -0.299825   \n",
       "4       1        0.512659  0.577006     1.501550        0.889409 -0.110040   \n",
       "\n",
       "   LIABILITIES  STATE_Andaman & Nicobar Islands  STATE_Andhra Pradesh  \\\n",
       "0    -0.205143                                0                     0   \n",
       "1    -0.197873                                0                     0   \n",
       "2    -0.027182                                0                     0   \n",
       "3    -0.207877                                0                     0   \n",
       "4    -0.106233                                0                     0   \n",
       "\n",
       "   STATE_Arunachal Pradesh  ...  CATEGORY_ST  EDUCATION_10th Pass  \\\n",
       "0                        0  ...            1                    0   \n",
       "1                        0  ...            1                    0   \n",
       "2                        0  ...            1                    0   \n",
       "3                        0  ...            0                    0   \n",
       "4                        0  ...            0                    0   \n",
       "\n",
       "   EDUCATION_12th Pass  EDUCATION_8th Pass  EDUCATION_Doctorate  \\\n",
       "0                    1                   0                    0   \n",
       "1                    0                   0                    0   \n",
       "2                    1                   0                    0   \n",
       "3                    0                   0                    0   \n",
       "4                    0                   0                    1   \n",
       "\n",
       "   EDUCATION_Graduate  EDUCATION_Illiterate  EDUCATION_Not Available  \\\n",
       "0                   0                     0                        0   \n",
       "1                   0                     0                        0   \n",
       "2                   0                     0                        0   \n",
       "3                   0                     0                        1   \n",
       "4                   0                     0                        0   \n",
       "\n",
       "   EDUCATION_Others  EDUCATION_Post Graduate  \n",
       "0                 0                        0  \n",
       "1                 0                        1  \n",
       "2                 0                        0  \n",
       "3                 0                        0  \n",
       "4                 0                        0  \n",
       "\n",
       "[5 rows x 598 columns]"
      ]
     },
     "execution_count": 107,
     "metadata": {},
     "output_type": "execute_result"
    }
   ],
   "source": [
    "dataset = pd.get_dummies(df1, columns = txt_cols)\n",
    "\n",
    "standardScaler = StandardScaler()\n",
    "columns_to_scale = num_cols\n",
    "dataset[columns_to_scale] = standardScaler.fit_transform(dataset[columns_to_scale])\n",
    "dataset.head()"
   ]
  },
  {
   "cell_type": "code",
   "execution_count": 108,
   "id": "78bced4a",
   "metadata": {},
   "outputs": [
    {
     "data": {
      "text/plain": [
       "0    1724\n",
       "1    1724\n",
       "Name: WINNER, dtype: int64"
      ]
     },
     "execution_count": 108,
     "metadata": {},
     "output_type": "execute_result"
    }
   ],
   "source": [
    "#balancing the dataset\n",
    "df_majority = dataset[dataset.WINNER == 0]\n",
    "df_minority = dataset[dataset.WINNER == 1]\n",
    "df_minority_upsampled = resample(df_minority, replace = True,n_samples = 1724, random_state = 0) \n",
    "df_upsampled = pd.concat([df_majority, df_minority_upsampled])\n",
    "df_upsampled.WINNER.value_counts()"
   ]
  },
  {
   "cell_type": "markdown",
   "id": "9e0de7f6",
   "metadata": {},
   "source": [
    "### Model "
   ]
  },
  {
   "cell_type": "code",
   "execution_count": 109,
   "id": "042c1177",
   "metadata": {},
   "outputs": [
    {
     "data": {
      "text/plain": [
       "Text(0.5, 1.0, 'Random Forest Classifier scores for different K values')"
      ]
     },
     "execution_count": 109,
     "metadata": {},
     "output_type": "execute_result"
    },
    {
     "data": {
      "image/png": "[encoded data removed]",
      "text/plain": [
       "<Figure size 1440x504 with 1 Axes>"
      ]
     },
     "metadata": {
      "needs_background": "light"
     },
     "output_type": "display_data"
    }
   ],
   "source": [
    "y = df_upsampled['WINNER']\n",
    "X = df_upsampled.drop(['WINNER'], axis = 1)\n",
    "max_kval = 35\n",
    "rfc_scores = []\n",
    "for k in range(1,max_kval):\n",
    "    randomforest_classifier= RandomForestClassifier(n_estimators=k,random_state=0)\n",
    "    score=cross_val_score(randomforest_classifier,X,y,cv=10)\n",
    "    rfc_scores.append(score.mean())\n",
    "plt.figure(figsize =(20,7))\n",
    "plt.plot([k for k in range(1, max_kval)], rfc_scores, color = 'blue')\n",
    "for i in range(1,max_kval):\n",
    "    plt.text(i, rfc_scores[i-1], (i, round(rfc_scores[i-1],3)))\n",
    "plt.xticks([i for i in range(1, max_kval)])\n",
    "plt.xlabel('Number of Estimators (K)')\n",
    "plt.ylabel('Scores')\n",
    "plt.title('Random Forest Classifier scores for different K values')"
   ]
  },
  {
   "cell_type": "code",
   "execution_count": 110,
   "id": "546abca5",
   "metadata": {},
   "outputs": [
    {
     "name": "stdout",
     "output_type": "stream",
     "text": [
      "% Accuracy : 94.5\n"
     ]
    }
   ],
   "source": [
    "#As we can see from the graph accuracy is maximum at k =18. Hence we will be selecting n_estimators=18.\n",
    "K_val=18\n",
    "randomforest_classifier= RandomForestClassifier(n_estimators=K_val,random_state=0)\n",
    "score=cross_val_score(randomforest_classifier,X,y,cv=10)\n",
    "print('% Accuracy :', round(score.mean()*100,1))\n"
   ]
  },
  {
   "cell_type": "code",
   "execution_count": 113,
   "id": "432aa1f8",
   "metadata": {},
   "outputs": [
    {
     "data": {
      "text/plain": [
       "array([0, 1, 1, ..., 1, 0, 0], dtype=int64)"
      ]
     },
     "execution_count": 113,
     "metadata": {},
     "output_type": "execute_result"
    }
   ],
   "source": [
    "X_train, X_test, y_train, y_test = train_test_split(X, y, test_size=0.3, random_state=0)\n",
    "rf_model = RandomForestClassifier(n_estimators=K_val, max_features=\"auto\", random_state=0)\n",
    "rf_model.fit(X_train, y_train)\n",
    "predicts = rf_model.predict(X_test)\n",
    "predicts"
   ]
  },
  {
   "cell_type": "code",
   "execution_count": null,
   "id": "9f3de658",
   "metadata": {},
   "outputs": [],
   "source": []
  }
 ],
 "metadata": {
  "kernelspec": {
   "display_name": "Python 3 (ipykernel)",
   "language": "python",
   "name": "python3"
  },
  "language_info": {
   "codemirror_mode": {
    "name": "ipython",
    "version": 3
   },
   "file_extension": ".py",
   "mimetype": "text/x-python",
   "name": "python",
   "nbconvert_exporter": "python",
   "pygments_lexer": "ipython3",
   "version": "3.9.12"
  }
 },
 "nbformat": 4,
 "nbformat_minor": 5
}
